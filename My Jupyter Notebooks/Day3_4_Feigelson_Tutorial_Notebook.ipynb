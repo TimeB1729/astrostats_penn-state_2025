{
 "cells": [
  {
   "cell_type": "markdown",
   "metadata": {},
   "source": [
    "# Linear and Nonlinear Regression\n",
    "## Eric Feigelson \n",
    "## Summer School in Statistics for Astronomers"
   ]
  },
  {
   "cell_type": "markdown",
   "metadata": {},
   "source": [
    "**In this tutorial, we exercise two types of regression using R and its CRAN packages.  First, we consider cases where a global mathematical function is assumed to apply to the full dataset.  These include linear and nonlinear regression with options such as weighting my measurement errors and robust treatment of outliers.  A crucial aspect is goodness-of-fit and residual analysis to confirm that the best-fit model is indeed a good fit.  Second we consider several local regression methods where a continuous curve is estimated from sequential pieces of the data.**"
   ]
  },
  {
   "cell_type": "markdown",
   "metadata": {},
   "source": [
    "## 1. Linear modeling\n",
    "\n",
    "We start by running one of the most widely used functions in R, _lm_ for linear modeling, and related procedures. But vefore we start, it is important to note that, in statistical parlance, 'linear' refers to a much broader range of models than $Y = \\beta_0 + \\beta_1 X + \\epsilon$.  It includes any model that is linear in the model **parameters**.  Thus the following models are 'linear' and an encompassed by the powerful theorems underlying linear modeling:\n",
    "- $Y = \\beta_0 + \\beta_1 X + \\beta_2 X^2 + \\epsilon$ (polynomial)\n",
    "- $Y = \\beta_0 e^{-X} + \\epsilon$ (exponential)\n",
    "- $Y = \\beta_0 + \\beta_1 sin X + \\beta_2 cos X + \\epsilon$ (sinusoid)\n",
    "\n",
    "In contrast the following models are nonlinear:\n",
    "- $Y = (X/\\beta_0)^{-\\beta_1}+ \\epsilon$  power law (Pareto)\n",
    "- $Y = \\beta_0 e^{-X/\\beta_1} + \\epsilon$ (scaled exponential)\n",
    "- $Y = \\beta_0 / (1 + (X/\\beta_1)^2) + \\epsilon$  isothermal sphere\n",
    "- $Y = \\beta_0 + \\beta_1 sin(X + \\beta_2) + \\beta_3 cos(X + \\beta_2) + \\epsilon$  sinusoid with arbitrary phase\n",
    "- $Y = [\\beta_0 + \\beta_1 X for X < \\beta_2] and [\\beta_3 + \\beta_4 X for X > \\beta_2]$ segmented linear\n",
    "- Most astrophysical models like $\\Lambda$CDM cosmology "
   ]
  },
  {
   "cell_type": "markdown",
   "metadata": {},
   "source": [
    "We will practice linear modeling with a collection of photometry of spectroscopically confirmed quasars from the Sloan Digital Sky Sruvey.  We examine a relationship between the magnitdues in two bands; this is scientifically rather useless, but gives opportunity to test methodology for simple linear regression with difficulties common in astronomical regressions:  non-Gaussian scatter, heteroscedastic measurement errors, and outliers.  \n",
    "\n",
    "Note that the theory of linear modeling is not restricted to bivariate problems: it is intrinsically multivariate in the sense that a single response variable $Y$ can be a function of a vector of covariates $\\bf{X}$ as in the simple model: $Y = \\beta_0 + \\beta_1 X_1 + \\beta_2 X_2 + ... + \\beta_p X_p + \\epsilon$."
   ]
  },
  {
   "cell_type": "code",
   "execution_count": 4,
   "metadata": {},
   "outputs": [
    {
     "data": {
      "text/html": [
       "<style>\n",
       ".list-inline {list-style: none; margin:0; padding: 0}\n",
       ".list-inline>li {display: inline-block}\n",
       ".list-inline>li:not(:last-child)::after {content: \"\\00b7\"; padding: 0 .5ex}\n",
       "</style>\n",
       "<ol class=list-inline><li>77429</li><li>15</li></ol>\n"
      ],
      "text/latex": [
       "\\begin{enumerate*}\n",
       "\\item 77429\n",
       "\\item 15\n",
       "\\end{enumerate*}\n"
      ],
      "text/markdown": [
       "1. 77429\n",
       "2. 15\n",
       "\n",
       "\n"
      ],
      "text/plain": [
       "[1] 77429    15"
      ]
     },
     "metadata": {},
     "output_type": "display_data"
    },
    {
     "data": {
      "text/html": [
       "<style>\n",
       ".list-inline {list-style: none; margin:0; padding: 0}\n",
       ".list-inline>li {display: inline-block}\n",
       ".list-inline>li:not(:last-child)::after {content: \"\\00b7\"; padding: 0 .5ex}\n",
       "</style>\n",
       "<ol class=list-inline><li>'SDSS'</li><li>'z'</li><li>'u_mag'</li><li>'sig_u_mag'</li><li>'g_mag'</li><li>'sig_g_mag'</li><li>'r_mag'</li><li>'sig_r_mag'</li><li>'i_mag'</li><li>'sig_i_mag'</li><li>'z_mag'</li><li>'sig_z_mag'</li><li>'FIRST'</li><li>'ROSAT'</li><li>'Mp'</li></ol>\n"
      ],
      "text/latex": [
       "\\begin{enumerate*}\n",
       "\\item 'SDSS'\n",
       "\\item 'z'\n",
       "\\item 'u\\_mag'\n",
       "\\item 'sig\\_u\\_mag'\n",
       "\\item 'g\\_mag'\n",
       "\\item 'sig\\_g\\_mag'\n",
       "\\item 'r\\_mag'\n",
       "\\item 'sig\\_r\\_mag'\n",
       "\\item 'i\\_mag'\n",
       "\\item 'sig\\_i\\_mag'\n",
       "\\item 'z\\_mag'\n",
       "\\item 'sig\\_z\\_mag'\n",
       "\\item 'FIRST'\n",
       "\\item 'ROSAT'\n",
       "\\item 'Mp'\n",
       "\\end{enumerate*}\n"
      ],
      "text/markdown": [
       "1. 'SDSS'\n",
       "2. 'z'\n",
       "3. 'u_mag'\n",
       "4. 'sig_u_mag'\n",
       "5. 'g_mag'\n",
       "6. 'sig_g_mag'\n",
       "7. 'r_mag'\n",
       "8. 'sig_r_mag'\n",
       "9. 'i_mag'\n",
       "10. 'sig_i_mag'\n",
       "11. 'z_mag'\n",
       "12. 'sig_z_mag'\n",
       "13. 'FIRST'\n",
       "14. 'ROSAT'\n",
       "15. 'Mp'\n",
       "\n",
       "\n"
      ],
      "text/plain": [
       " [1] \"SDSS\"      \"z\"         \"u_mag\"     \"sig_u_mag\" \"g_mag\"     \"sig_g_mag\"\n",
       " [7] \"r_mag\"     \"sig_r_mag\" \"i_mag\"     \"sig_i_mag\" \"z_mag\"     \"sig_z_mag\"\n",
       "[13] \"FIRST\"     \"ROSAT\"     \"Mp\"       "
      ]
     },
     "metadata": {},
     "output_type": "display_data"
    },
    {
     "data": {
      "text/plain": [
       "                 SDSS             z              u_mag         sig_u_mag      \n",
       " 000006.53+003055.2:    1   Min.   :0.0780   Min.   : 0.00   Min.   :0.00000  \n",
       " 000008.13+001634.6:    1   1st Qu.:0.9555   1st Qu.:19.09   1st Qu.:0.02800  \n",
       " 000009.26+151754.5:    1   Median :1.4820   Median :19.58   Median :0.03700  \n",
       " 000009.38+135618.4:    1   Mean   :1.5375   Mean   :19.82   Mean   :0.08947  \n",
       " 000009.42-102751.9:    1   3rd Qu.:1.9303   3rd Qu.:20.30   3rd Qu.:0.05500  \n",
       " 000011.41+145545.6:    1   Max.   :5.4135   Max.   :26.79   Max.   :9.99900  \n",
       " (Other)           :77423                                                     \n",
       "     g_mag         sig_g_mag           r_mag         sig_r_mag      \n",
       " Min.   : 0.00   Min.   :0.00000   Min.   : 0.00   Min.   :0.00000  \n",
       " 1st Qu.:18.86   1st Qu.:0.01900   1st Qu.:18.69   1st Qu.:0.01700  \n",
       " Median :19.30   Median :0.02300   Median :19.12   Median :0.02000  \n",
       " Mean   :19.35   Mean   :0.02653   Mean   :19.12   Mean   :0.02238  \n",
       " 3rd Qu.:19.95   3rd Qu.:0.02800   3rd Qu.:19.71   3rd Qu.:0.02500  \n",
       " Max.   :26.42   Max.   :1.49900   Max.   :22.54   Max.   :8.44500  \n",
       "                                                                    \n",
       "     i_mag         sig_i_mag           z_mag         sig_z_mag      \n",
       " Min.   : 0.00   Min.   :0.00000   Min.   : 0.00   Min.   :0.00000  \n",
       " 1st Qu.:18.58   1st Qu.:0.01800   1st Qu.:18.48   1st Qu.:0.03300  \n",
       " Median :18.99   Median :0.02200   Median :18.91   Median :0.04500  \n",
       " Mean   :18.97   Mean   :0.02464   Mean   :18.88   Mean   :0.05563  \n",
       " 3rd Qu.:19.56   3rd Qu.:0.02800   3rd Qu.:19.45   3rd Qu.:0.06800  \n",
       " Max.   :22.36   Max.   :6.44300   Max.   :22.68   Max.   :9.99900  \n",
       "                                                                    \n",
       "     FIRST           ROSAT              Mp        \n",
       " Min.   :-1.00   Min.   :-9.000   Min.   :-30.27  \n",
       " 1st Qu.: 0.00   1st Qu.:-9.000   1st Qu.:-26.42  \n",
       " Median : 0.00   Median :-9.000   Median :-25.59  \n",
       " Mean   : 1.06   Mean   :-8.599   Mean   :-25.41  \n",
       " 3rd Qu.: 0.00   3rd Qu.:-9.000   3rd Qu.:-24.57  \n",
       " Max.   :16.40   Max.   : 0.139   Max.   :-22.00  \n",
       "                                                  "
      ]
     },
     "metadata": {},
     "output_type": "display_data"
    }
   ],
   "source": [
    "# I. Construct large and small samples of 77K SDSS quasars\n",
    "\n",
    "library(\"astrodatR\")\n",
    "data(SDSS_QSO)     # brings tabular data into an R data.frame\n",
    "\n",
    "# Basic information about a data.frame\n",
    "dim(SDSS_QSO)      # number of rows and columns\n",
    "names(SDSS_QSO)    # names of columns\n",
    "summary(SDSS_QSO)  # 5-number summary of each column"
   ]
  },
  {
   "cell_type": "code",
   "execution_count": 5,
   "metadata": {},
   "outputs": [
    {
     "data": {
      "text/html": [
       "<style>\n",
       ".list-inline {list-style: none; margin:0; padding: 0}\n",
       ".list-inline>li {display: inline-block}\n",
       ".list-inline>li:not(:last-child)::after {content: \"\\00b7\"; padding: 0 .5ex}\n",
       "</style>\n",
       "<ol class=list-inline><li>77290</li><li>15</li></ol>\n"
      ],
      "text/latex": [
       "\\begin{enumerate*}\n",
       "\\item 77290\n",
       "\\item 15\n",
       "\\end{enumerate*}\n"
      ],
      "text/markdown": [
       "1. 77290\n",
       "2. 15\n",
       "\n",
       "\n"
      ],
      "text/plain": [
       "[1] 77290    15"
      ]
     },
     "metadata": {},
     "output_type": "display_data"
    },
    {
     "data": {
      "text/plain": [
       "                 SDSS             z              u_mag         sig_u_mag      \n",
       " 000006.53+003055.2:    1   Min.   :0.0780   Min.   :15.40   Min.   :0.02000  \n",
       " 000008.13+001634.6:    1   1st Qu.:0.9554   1st Qu.:19.09   1st Qu.:0.02800  \n",
       " 000009.26+151754.5:    1   Median :1.4820   Median :19.59   Median :0.03700  \n",
       " 000009.38+135618.4:    1   Mean   :1.5374   Mean   :19.85   Mean   :0.08954  \n",
       " 000009.42-102751.9:    1   3rd Qu.:1.9300   3rd Qu.:20.30   3rd Qu.:0.05500  \n",
       " 000011.41+145545.6:    1   Max.   :5.4135   Max.   :26.79   Max.   :9.41500  \n",
       " (Other)           :77284                                                     \n",
       "     g_mag         sig_g_mag           r_mag         sig_r_mag      \n",
       " Min.   :15.32   Min.   :0.00800   Min.   :15.24   Min.   :0.00600  \n",
       " 1st Qu.:18.86   1st Qu.:0.01900   1st Qu.:18.70   1st Qu.:0.01700  \n",
       " Median :19.31   Median :0.02300   Median :19.13   Median :0.02000  \n",
       " Mean   :19.38   Mean   :0.02658   Mean   :19.16   Mean   :0.02231  \n",
       " 3rd Qu.:19.95   3rd Qu.:0.02800   3rd Qu.:19.71   3rd Qu.:0.02500  \n",
       " Max.   :26.42   Max.   :1.49900   Max.   :22.54   Max.   :4.77700  \n",
       "                                                                    \n",
       "     i_mag         sig_i_mag          z_mag         sig_z_mag     \n",
       " Min.   :14.94   Min.   :0.0070   Min.   :14.81   Min.   :0.0100  \n",
       " 1st Qu.:18.58   1st Qu.:0.0180   1st Qu.:18.48   1st Qu.:0.0340  \n",
       " Median :19.00   Median :0.0220   Median :18.91   Median :0.0450  \n",
       " Mean   :19.01   Mean   :0.0246   Mean   :18.92   Mean   :0.0556  \n",
       " 3rd Qu.:19.56   3rd Qu.:0.0280   3rd Qu.:19.45   3rd Qu.:0.0680  \n",
       " Max.   :22.36   Max.   :5.9700   Max.   :22.68   Max.   :3.2480  \n",
       "                                                                  \n",
       "     FIRST            ROSAT              Mp        \n",
       " Min.   :-1.000   Min.   :-9.000   Min.   :-30.27  \n",
       " 1st Qu.: 0.000   1st Qu.:-9.000   1st Qu.:-26.42  \n",
       " Median : 0.000   Median :-9.000   Median :-25.59  \n",
       " Mean   : 1.061   Mean   :-8.599   Mean   :-25.41  \n",
       " 3rd Qu.: 0.000   3rd Qu.:-9.000   3rd Qu.:-24.57  \n",
       " Max.   :16.400   Max.   : 0.139   Max.   :-22.00  \n",
       "                                                   "
      ]
     },
     "metadata": {},
     "output_type": "display_data"
    }
   ],
   "source": [
    "# Remove some bad photometry\n",
    "\n",
    "qso <- SDSS_QSO[-which(SDSS_QSO[,3] == 0 | SDSS_QSO[,9] == 0),]\n",
    "qso <- qso[-which(qso[,4] == 9.999 | qso[,12] == 9.999),]\n",
    "qso[(qso[,4]<0.02),4 ] <- 0.02        # set threshold on magnitude errors\n",
    "dim(qso) ; summary(qso)\n",
    "attach(qso)"
   ]
  },
  {
   "cell_type": "markdown",
   "metadata": {},
   "source": [
    "When applied to a data.frame, the R function `attach` allows the user to access a column by its names (e.g. r_mag) without remembering their column number (e.g. qso[,3])."
   ]
  },
  {
   "cell_type": "code",
   "execution_count": 6,
   "metadata": {},
   "outputs": [
    {
     "name": "stderr",
     "output_type": "stream",
     "text": [
      "Warning message:\n",
      "\"package 'KernSmooth' was built under R version 4.4.3\"\n",
      "KernSmooth 2.23 loaded\n",
      "Copyright M. P. Wand 1997-2009\n",
      "\n"
     ]
    },
    {
     "data": {
      "image/png": "[encoded data removed]",
      "text/plain": [
       "plot without title"
      ]
     },
     "metadata": {
      "image/png": {
       "height": 600,
       "width": 840
      }
     },
     "output_type": "display_data"
    }
   ],
   "source": [
    "# Plot dataset of SDSS quasar i vs. u magnitudes showing \n",
    "# heteroscedastic measurement errors, with contours for dense regions\n",
    "\n",
    "options(jupyter.plot_scale=1)\n",
    "options(repr.plot.width = 7, repr.plot.height = 5)\n",
    "\n",
    "plot(i_mag, u_mag, pch=20, cex=0.1, col='#00000040', xlim=c(16,21), \n",
    "   ylim=c(16.5,23.5), xlab=\"SDSS i (mag)\", ylab=\"SDSS u (mag)\")\n",
    "for(i in 50:150) {\n",
    "   lines(c(i_mag[i],i_mag[i]),c((u_mag[i]+sig_u_mag[i]),\n",
    "      (u_mag[i]-sig_u_mag[i])), lwd=2, col='purple2')\n",
    "   lines(c((i_mag[i]+sig_i_mag[i]),(i_mag[i]-sig_i_mag[i])),\n",
    "      c(u_mag[i],u_mag[i]), lwd=2, col='purple2')   }\n",
    "\n",
    "if(!require(\"KernSmooth\", quietly=T)) {\n",
    "  install.packages(\"KernSmooth\", repos=\"https://cloud.r-project.org\", dependencies=TRUE)\n",
    "}; library(\"KernSmooth\")\n",
    "smqso <- bkde2D(cbind(i_mag, u_mag), bandwidth=c(0.05, 0.05), gridsize=c(400,400))\n",
    "contour(smqso$x1, smqso$x2, smqso$fhat, add=T, col='gold', nlevels=9)"
   ]
  },
  {
   "cell_type": "markdown",
   "metadata": {},
   "source": [
    "Here we see a disturbed dataset. There is wide asymmetrical scatter towards main magnitudes in the SDSS u (ultraviolet) band.  Much of the scatter is attributable to measurement errors, but not all of it. Let us now run _lm_ with the formula: $u = \\beta_0 + \\beta_1 i + \\epsilon$, obtain 90% confidence interval of the intercept and slope parameters, and show the scatter plot with the fitted line. "
   ]
  },
  {
   "cell_type": "code",
   "execution_count": 7,
   "metadata": {},
   "outputs": [
    {
     "data": {
      "text/plain": [
       "\n",
       "Call:\n",
       "lm(formula = u_mag ~ i_mag)\n",
       "\n",
       "Residuals:\n",
       "    Min      1Q  Median      3Q     Max \n",
       "-3.2093 -0.5097 -0.2849  0.0401  7.9862 \n",
       "\n",
       "Coefficients:\n",
       "             Estimate Std. Error t value Pr(>|t|)    \n",
       "(Intercept) -3.784407   0.093357  -40.54   <2e-16 ***\n",
       "i_mag        1.243705   0.004908  253.41   <2e-16 ***\n",
       "---\n",
       "Signif. codes:  0 '***' 0.001 '**' 0.01 '*' 0.05 '.' 0.1 ' ' 1\n",
       "\n",
       "Residual standard error: 1.026 on 77288 degrees of freedom\n",
       "Multiple R-squared:  0.4538,\tAdjusted R-squared:  0.4538 \n",
       "F-statistic: 6.422e+04 on 1 and 77288 DF,  p-value: < 2.2e-16\n"
      ]
     },
     "metadata": {},
     "output_type": "display_data"
    },
    {
     "data": {
      "text/html": [
       "<table class=\"dataframe\">\n",
       "<caption>A matrix: 2 × 2 of type dbl</caption>\n",
       "<thead>\n",
       "\t<tr><th></th><th scope=col>5 %</th><th scope=col>95 %</th></tr>\n",
       "</thead>\n",
       "<tbody>\n",
       "\t<tr><th scope=row>(Intercept)</th><td>-3.937967</td><td>-3.630846</td></tr>\n",
       "\t<tr><th scope=row>i_mag</th><td> 1.235632</td><td> 1.251778</td></tr>\n",
       "</tbody>\n",
       "</table>\n"
      ],
      "text/latex": [
       "A matrix: 2 × 2 of type dbl\n",
       "\\begin{tabular}{r|ll}\n",
       "  & 5 \\% & 95 \\%\\\\\n",
       "\\hline\n",
       "\t(Intercept) & -3.937967 & -3.630846\\\\\n",
       "\ti\\_mag &  1.235632 &  1.251778\\\\\n",
       "\\end{tabular}\n"
      ],
      "text/markdown": [
       "\n",
       "A matrix: 2 × 2 of type dbl\n",
       "\n",
       "| <!--/--> | 5 % | 95 % |\n",
       "|---|---|---|\n",
       "| (Intercept) | -3.937967 | -3.630846 |\n",
       "| i_mag |  1.235632 |  1.251778 |\n",
       "\n"
      ],
      "text/plain": [
       "            5 %       95 %     \n",
       "(Intercept) -3.937967 -3.630846\n",
       "i_mag        1.235632  1.251778"
      ]
     },
     "metadata": {},
     "output_type": "display_data"
    },
    {
     "data": {
      "image/png": "[encoded data removed]",
      "text/plain": [
       "plot without title"
      ]
     },
     "metadata": {
      "image/png": {
       "height": 600,
       "width": 840
      }
     },
     "output_type": "display_data"
    }
   ],
   "source": [
    "# II. Ordinary least squares fit\n",
    "\n",
    "fit_ols <- lm(u_mag~i_mag)\n",
    "summary(fit_ols) \n",
    "confint(fit_ols, level=0.90)          # 3 sigma equivalent for Gaussian distribution\n",
    "\n",
    "plot(i_mag, u_mag, pch=20, cex=0.1, col='#00000040', xlim=c(16,21), \n",
    "   ylim=c(16.5,23.5), xlab=\"SDSS i (mag)\", ylab=\"SDSS u (mag)\")\n",
    "abline(fit_ols$coef, lty=1, lwd=2)     # solid black line"
   ]
  },
  {
   "cell_type": "markdown",
   "metadata": {},
   "source": [
    "Note that, since the scatter is non-Gaussian, the theorems underlying ordinary least squares means that the fit is not a maximum likelihood estimator and the parameter uncertainties may not be reliable.  Visually, this is a terrible fit, missing most of the data points.  We now try to improve it in three ways:  weighting by measurement errors; applying `robust` downweighting of outliers; and applying both corrections.  "
   ]
  },
  {
   "cell_type": "code",
   "execution_count": 8,
   "metadata": {},
   "outputs": [
    {
     "data": {
      "text/plain": [
       "\n",
       "Call:\n",
       "lm(formula = u_mag ~ i_mag, weights = 1/(sig_u_mag * sig_u_mag), \n",
       "    x = T)\n",
       "\n",
       "Weighted Residuals:\n",
       "    Min      1Q  Median      3Q     Max \n",
       "-48.687  -3.757   1.266   6.281 120.471 \n",
       "\n",
       "Coefficients:\n",
       "            Estimate Std. Error t value Pr(>|t|)    \n",
       "(Intercept) 1.220633   0.028881   42.26   <2e-16 ***\n",
       "i_mag       0.960787   0.001555  618.03   <2e-16 ***\n",
       "---\n",
       "Signif. codes:  0 '***' 0.001 '**' 0.01 '*' 0.05 '.' 0.1 ' ' 1\n",
       "\n",
       "Residual standard error: 9.066 on 77288 degrees of freedom\n",
       "Multiple R-squared:  0.8317,\tAdjusted R-squared:  0.8317 \n",
       "F-statistic: 3.82e+05 on 1 and 77288 DF,  p-value: < 2.2e-16\n"
      ]
     },
     "metadata": {},
     "output_type": "display_data"
    },
    {
     "data": {
      "image/png": "[encoded data removed]",
      "text/plain": [
       "plot without title"
      ]
     },
     "metadata": {
      "image/png": {
       "height": 600,
       "width": 840
      }
     },
     "output_type": "display_data"
    }
   ],
   "source": [
    "# III. Weighted least squares fit\n",
    "\n",
    "fit_wt <- lm(u_mag~i_mag, x=T, weights=1/(sig_u_mag*sig_u_mag))\n",
    "summary(fit_wt)\n",
    "\n",
    "plot(i_mag, u_mag, pch=20, cex=0.1, col='#00000040', xlim=c(16,21), \n",
    "   ylim=c(16.5,23.5), xlab=\"SDSS i (mag)\", ylab=\"SDSS u (mag)\")\n",
    "abline(fit_wt$coef,lty=2,lwd=2, col='green')    # dashed green line"
   ]
  },
  {
   "cell_type": "markdown",
   "metadata": {},
   "source": [
    "This is the ***minimum chi-squared regression*** commonly used by astronomers; statisticians would call it ***weighted least squares regression with weights from heteroscedastic measurement errors***.  Here we see that most of the problems can be removed with measurement error weighting. However, the calculation is obviously wrong in this case because (in statistical parlance) the model is misspecified because only a portion of the scatter is caused by measurement error.  \n",
    "\n",
    "Astronomers often do not carefully examine the accuracy and validity of their regression fits.  Diagnostic graphics are very useful for this.  Here are the plots produced automatically by R's `lm` function. For interpretation and details, see the text [_A Modern Approach to Regression with R_](https://link.springer.com/book/10.1007%2F978-0-387-09608-7) (S. Sheather, 2009)."
   ]
  },
  {
   "cell_type": "code",
   "execution_count": 9,
   "metadata": {},
   "outputs": [
    {
     "data": {
      "image/png": "[encoded data removed]",
      "text/plain": [
       "Plot with title \"\""
      ]
     },
     "metadata": {
      "image/png": {
       "height": 600,
       "width": 840
      }
     },
     "output_type": "display_data"
    }
   ],
   "source": [
    "# Diagnostic plots involving regression residuals help identify outliers\n",
    "\n",
    "par(mfrow=c(2,2))\t\t\n",
    "plot(fit_wt, which=c(2:5), caption='', sub.caption='' ,pch=20, cex=0.3, \n",
    "   cex.lab=1.3, cex.axis=1.3)"
   ]
  },
  {
   "cell_type": "markdown",
   "metadata": {},
   "source": [
    "Other regression diagnostic tests can be applied to help evaluate the validity of the statistical model and its best-fit parameters.  The most important is a nonparametric two-sample test between the cumulative distribution functions of the observed and fitted values of the response variable. The Kolmogorov-Smirnov test is commonly used, but the Cramer-von Mises and Anderson-Darling tests are more sensitive.   However, theorems show that tabulated probabilities are inapplicable when the second distribution is from a model based on the first distribution.  We thus use bootstrap replications to estimate probabilities. This capability is provided by CRAN package 'cramer' for the Cramer-von Mises test.  To avoid excessive computational time, we only treat the first 1000 points here. The weighted linear fit is obviously rejected by the test.  "
   ]
  },
  {
   "cell_type": "code",
   "execution_count": 11,
   "metadata": {},
   "outputs": [
    {
     "data": {
      "text/plain": [
       "\n",
       " 1 -dimensional  nonparametric Cramer-Test with kernel phiCramer \n",
       "(on equality of two distributions) \n",
       "\n",
       "\tx-sample:  1000  values        y-sample:  1000  values\n",
       "\n",
       "critical value for confidence level  95 % :  1.428882 \n",
       "observed statistic  17.41952 , so that\n",
       "\t hypothesis (\"x is distributed as y\") is  REJECTED .\n",
       "estimated p-value =  0 \n",
       "\n",
       "\t[result based on  100   ordinary  bootstrap-replicates]\n"
      ]
     },
     "metadata": {},
     "output_type": "display_data"
    },
    {
     "data": {
      "image/png": "[encoded data removed]",
      "text/plain": [
       "Plot with title \"Observed and fitted u magnitude\""
      ]
     },
     "metadata": {
      "image/png": {
       "height": 600,
       "width": 840
      }
     },
     "output_type": "display_data"
    }
   ],
   "source": [
    "# Goodness-of-fit for a 2D regression\n",
    "library(\"cramer\")\n",
    "cramer.test(fit_wt$model$u_mag[1:1000], fit_wt$fitted.values[1:1000], replicates=100)\n",
    "\n",
    "plot(ecdf(fit_wt$model$u_mag[1:1000]), cex=0, col='royalblue', lwd=2, xlab='SDSS u (mag)', ylab='c.d.f.', main='Observed and fitted u magnitude')\n",
    "plot(ecdf(fit_wt$fitted.values[1:1000]), cex=0, col='magenta', lwd=2, add=TRUE)\n",
    "text(22, 0.5, 'Observed', cex=1.5, col='royalblue')\n",
    "text(19, 0.8, 'Model', cex=1.5, col='magenta')"
   ]
  },
  {
   "cell_type": "markdown",
   "metadata": {},
   "source": [
    "Another approach to non-Gaussianity and outliers is to apply _robust_ regression techniques.  These are many variants; here R's _rlm_ (robust linear modeling) function, downweighting outliers using Huber's psi function, with and without measurement error weighting.  Unfortunately, this code does not have a built-in line plotting option, so we draw the lines manually from information in the _rlm_ output.  See various approaches in R at the CRAN Task View on Robust Statistics."
   ]
  },
  {
   "cell_type": "code",
   "execution_count": 12,
   "metadata": {},
   "outputs": [
    {
     "name": "stderr",
     "output_type": "stream",
     "text": [
      "Warning message:\n",
      "\"package 'MASS' was built under R version 4.4.3\"\n"
     ]
    },
    {
     "data": {
      "text/plain": [
       "\n",
       "Call: rlm(formula = u_mag ~ i_mag, method = \"M\")\n",
       "Residuals:\n",
       "     Min       1Q   Median       3Q      Max \n",
       "-2.28936 -0.23476 -0.05688  0.23543  7.97974 \n",
       "\n",
       "Coefficients:\n",
       "            Value    Std. Error t value \n",
       "(Intercept)  -0.3093   0.0338    -9.1428\n",
       "i_mag         1.0471   0.0018   588.8720\n",
       "\n",
       "Residual standard error: 0.3484 on 77288 degrees of freedom"
      ]
     },
     "metadata": {},
     "output_type": "display_data"
    },
    {
     "data": {
      "text/plain": [
       "\n",
       "Call: rlm(formula = u_mag ~ i_mag, weights = 1/(sig_u_mag * sig_u_mag), \n",
       "    method = \"M\", wt.method = \"inv.var\")\n",
       "Residuals:\n",
       "    Min      1Q  Median      3Q     Max \n",
       "-49.653  -3.507   1.409   6.469 124.019 \n",
       "\n",
       "Coefficients:\n",
       "            Value    Std. Error t value \n",
       "(Intercept)   0.7889   0.0257    30.7415\n",
       "i_mag         0.9832   0.0014   711.7537\n",
       "\n",
       "Residual standard error: 7.511 on 77288 degrees of freedom"
      ]
     },
     "metadata": {},
     "output_type": "display_data"
    },
    {
     "data": {
      "image/png": "[encoded data removed]",
      "text/plain": [
       "plot without title"
      ]
     },
     "metadata": {
      "image/png": {
       "height": 600,
       "width": 840
      }
     },
     "output_type": "display_data"
    }
   ],
   "source": [
    "# Robust M-estimator\n",
    "\n",
    "library(MASS)\n",
    "fit_M <- rlm(u_mag~i_mag, method='M')\t# robust fit with Huber's psi functon\n",
    "summary(fit_M)  \n",
    "aM <- fit_M$coef[[1]] ; bM <- fit_M$coef[[2]]\n",
    "\n",
    "plot(i_mag, u_mag, pch=20, cex=0.1, col='#00000040', xlim=c(16,21), \n",
    "   ylim=c(16.5,23.5), xlab=\"SDSS i (mag)\", ylab=\"SDSS u (mag)\")\n",
    "lines(c(16,21), c(aM+bM*16, aM+bM*21), lty=3, lwd=3, col='royalblue3') # dotted royal blue line\n",
    "\n",
    "fit_Mwt <- rlm(u_mag~i_mag, method='M', weights=1/(sig_u_mag*sig_u_mag), \n",
    "   wt.method='inv.var')   # robust fit with measurement error weighting \n",
    "summary(fit_Mwt)  \n",
    "aMwt <- fit_Mwt$coef[[1]] ; bMwt <- fit_Mwt$coef[[2]]\n",
    "\n",
    "lines(c(16,21), c(aMwt+bMwt*16, aMwt+bMwt*21), lty=3, lwd=5, col='orange')\n",
    "text(19.5, 17, 'u = 0.13 + 1.02*i', cex=1.3, col='orange')\n",
    "\n",
    "abline(fit_wt$coef,lty=2,lwd=2, col='green')    # dashed green line (weighted LS fit)"
   ]
  },
  {
   "cell_type": "markdown",
   "metadata": {},
   "source": [
    "Here we see that a robust regression line that downweights outliers treated most of the problem with bad u-band photometry.  And a line that treats ***both outliers and measurement errors*** did a great job (orange line).  This is probably the preferred result for this problem.  But of course, the model is misspecified as the residuals are far from homoscedastic Gaussian noise, so the scientific meaning of the result (slope = 1.02) is suspect. \n"
   ]
  },
  {
   "cell_type": "markdown",
   "metadata": {},
   "source": [
    "> **Exercise 1**.  Try different robustification options in _rlm_ such as MM estimation and different choices of removal of outlying points (options in _lqs_). "
   ]
  },
  {
   "cell_type": "markdown",
   "metadata": {},
   "source": [
    "### 2. Nonlinear regression\n",
    "\n",
    "<center><img src=\"Ilc_9yr_moll4096.png\" width=400>  <img src=\"587px-PowerSpectrumExt.svg.png\" width=400></center>\n",
    "\n",
    "Astronomers often fit data with nonlinear functions derived from astrophysical theory that we believe apply to the observed situation. Among important recent applications of nonlinear regression are the fitting of the consensus Lambda-CDM model of cosmology to the fluctuations in the cosmic microwave background (images above, WMAP results) and the fitting of Keplerian exoplanetary orbits to stellar radial velocity time series.  \n",
    "\n",
    "But astronomers also often fit data with heuristic nonlinear functions that do not have a clear astrophysical interpretation such as the stellar Initial Mass Function (several distributions used), galaxy luminosity function (Schechter function = gamma distribution), Navarro-Frenk-White Dark Matter profile, and various galaxy scaling relations.\n",
    "\n",
    "Here we fit radial profiles from nearby Virgo Cluster elliptical galaxies to a heuristic nonlinear function proposed by Jose Luis Sersic in 1968. Here the surface brightness $B$ of an elliptical galaxy (or spiral galaxy bulge) as a function of radius $r$ follows: $B \\propto -2.5*log(I_e * 10^{-(0.868*n-0.142)}((r/r_e)^{1/n}-1))$.  The data are obtained from [Kormendy et al. 2009](https://ui.adsabs.harvard.edu/abs/2009ApJS..182..216K/abstract). We fit using R's _nls_ (nonlinear least squares) function;  see also CRAN package _nmle_ for maximum likelihood fitting."
   ]
  },
  {
   "cell_type": "code",
   "execution_count": 13,
   "metadata": {},
   "outputs": [
    {
     "data": {
      "text/plain": [
       "      galaxy       radius           surf_mag    \n",
       " NGC.4406:52   Min.   :  1.384   Min.   :16.32  \n",
       " NGC.4472:58   1st Qu.:  7.737   1st Qu.:18.51  \n",
       " NGC.4551:40   Median : 24.203   Median :20.08  \n",
       "               Mean   : 75.963   Mean   :20.46  \n",
       "               3rd Qu.: 76.949   3rd Qu.:22.03  \n",
       "               Max.   :877.001   Max.   :27.32  "
      ]
     },
     "metadata": {},
     "output_type": "display_data"
    },
    {
     "data": {
      "text/html": [
       "<table class=\"dataframe\">\n",
       "<caption>A data.frame: 58 × 2</caption>\n",
       "<thead>\n",
       "\t<tr><th></th><th scope=col>radius</th><th scope=col>surf_mag</th></tr>\n",
       "\t<tr><th></th><th scope=col>&lt;dbl&gt;</th><th scope=col>&lt;dbl&gt;</th></tr>\n",
       "</thead>\n",
       "<tbody>\n",
       "\t<tr><th scope=row>1</th><td>  3.526</td><td>16.917</td></tr>\n",
       "\t<tr><th scope=row>2</th><td>  4.015</td><td>17.032</td></tr>\n",
       "\t<tr><th scope=row>3</th><td>  4.557</td><td>17.150</td></tr>\n",
       "\t<tr><th scope=row>4</th><td>  4.966</td><td>17.239</td></tr>\n",
       "\t<tr><th scope=row>5</th><td>  5.491</td><td>17.339</td></tr>\n",
       "\t<tr><th scope=row>6</th><td>  6.039</td><td>17.439</td></tr>\n",
       "\t<tr><th scope=row>7</th><td>  6.572</td><td>17.531</td></tr>\n",
       "\t<tr><th scope=row>8</th><td>  7.244</td><td>17.639</td></tr>\n",
       "\t<tr><th scope=row>9</th><td>  7.822</td><td>17.723</td></tr>\n",
       "\t<tr><th scope=row>10</th><td>  8.655</td><td>17.836</td></tr>\n",
       "\t<tr><th scope=row>11</th><td>  9.441</td><td>17.939</td></tr>\n",
       "\t<tr><th scope=row>12</th><td> 10.322</td><td>18.043</td></tr>\n",
       "\t<tr><th scope=row>13</th><td> 11.169</td><td>18.139</td></tr>\n",
       "\t<tr><th scope=row>14</th><td> 12.405</td><td>18.270</td></tr>\n",
       "\t<tr><th scope=row>15</th><td> 13.868</td><td>18.407</td></tr>\n",
       "\t<tr><th scope=row>16</th><td> 14.983</td><td>18.505</td></tr>\n",
       "\t<tr><th scope=row>17</th><td> 16.615</td><td>18.638</td></tr>\n",
       "\t<tr><th scope=row>18</th><td> 18.058</td><td>18.742</td></tr>\n",
       "\t<tr><th scope=row>19</th><td> 19.543</td><td>18.848</td></tr>\n",
       "\t<tr><th scope=row>20</th><td> 21.755</td><td>18.989</td></tr>\n",
       "\t<tr><th scope=row>21</th><td> 23.977</td><td>19.132</td></tr>\n",
       "\t<tr><th scope=row>22</th><td> 26.303</td><td>19.271</td></tr>\n",
       "\t<tr><th scope=row>23</th><td> 28.595</td><td>19.403</td></tr>\n",
       "\t<tr><th scope=row>24</th><td> 31.581</td><td>19.571</td></tr>\n",
       "\t<tr><th scope=row>25</th><td> 34.647</td><td>19.729</td></tr>\n",
       "\t<tr><th scope=row>26</th><td> 38.150</td><td>19.901</td></tr>\n",
       "\t<tr><th scope=row>27</th><td> 41.364</td><td>20.041</td></tr>\n",
       "\t<tr><th scope=row>28</th><td> 45.429</td><td>20.179</td></tr>\n",
       "\t<tr><th scope=row>29</th><td> 49.659</td><td>20.328</td></tr>\n",
       "\t<tr><th scope=row>30</th><td> 54.859</td><td>20.476</td></tr>\n",
       "\t<tr><th scope=row>31</th><td> 60.284</td><td>20.627</td></tr>\n",
       "\t<tr><th scope=row>32</th><td> 66.323</td><td>20.760</td></tr>\n",
       "\t<tr><th scope=row>33</th><td> 72.410</td><td>20.894</td></tr>\n",
       "\t<tr><th scope=row>34</th><td> 79.433</td><td>21.040</td></tr>\n",
       "\t<tr><th scope=row>35</th><td> 87.147</td><td>21.194</td></tr>\n",
       "\t<tr><th scope=row>36</th><td> 95.236</td><td>21.334</td></tr>\n",
       "\t<tr><th scope=row>37</th><td>105.828</td><td>21.545</td></tr>\n",
       "\t<tr><th scope=row>38</th><td>115.239</td><td>21.690</td></tr>\n",
       "\t<tr><th scope=row>39</th><td>125.893</td><td>21.888</td></tr>\n",
       "\t<tr><th scope=row>40</th><td>136.836</td><td>22.035</td></tr>\n",
       "\t<tr><th scope=row>41</th><td>151.356</td><td>22.278</td></tr>\n",
       "\t<tr><th scope=row>42</th><td>165.806</td><td>22.414</td></tr>\n",
       "\t<tr><th scope=row>43</th><td>184.332</td><td>22.618</td></tr>\n",
       "\t<tr><th scope=row>44</th><td>201.837</td><td>22.788</td></tr>\n",
       "\t<tr><th scope=row>45</th><td>221.055</td><td>22.917</td></tr>\n",
       "\t<tr><th scope=row>46</th><td>235.099</td><td>23.068</td></tr>\n",
       "\t<tr><th scope=row>47</th><td>262.623</td><td>23.256</td></tr>\n",
       "\t<tr><th scope=row>48</th><td>286.748</td><td>23.470</td></tr>\n",
       "\t<tr><th scope=row>49</th><td>317.200</td><td>23.648</td></tr>\n",
       "\t<tr><th scope=row>50</th><td>347.336</td><td>23.871</td></tr>\n",
       "\t<tr><th scope=row>51</th><td>383.119</td><td>24.053</td></tr>\n",
       "\t<tr><th scope=row>52</th><td>418.312</td><td>24.318</td></tr>\n",
       "\t<tr><th scope=row>53</th><td>457.439</td><td>24.520</td></tr>\n",
       "\t<tr><th scope=row>54</th><td>498.884</td><td>24.777</td></tr>\n",
       "\t<tr><th scope=row>55</th><td>542.001</td><td>24.976</td></tr>\n",
       "\t<tr><th scope=row>56</th><td>631.000</td><td>25.282</td></tr>\n",
       "\t<tr><th scope=row>57</th><td>722.770</td><td>25.690</td></tr>\n",
       "\t<tr><th scope=row>58</th><td>877.001</td><td>26.177</td></tr>\n",
       "</tbody>\n",
       "</table>\n"
      ],
      "text/latex": [
       "A data.frame: 58 × 2\n",
       "\\begin{tabular}{r|ll}\n",
       "  & radius & surf\\_mag\\\\\n",
       "  & <dbl> & <dbl>\\\\\n",
       "\\hline\n",
       "\t1 &   3.526 & 16.917\\\\\n",
       "\t2 &   4.015 & 17.032\\\\\n",
       "\t3 &   4.557 & 17.150\\\\\n",
       "\t4 &   4.966 & 17.239\\\\\n",
       "\t5 &   5.491 & 17.339\\\\\n",
       "\t6 &   6.039 & 17.439\\\\\n",
       "\t7 &   6.572 & 17.531\\\\\n",
       "\t8 &   7.244 & 17.639\\\\\n",
       "\t9 &   7.822 & 17.723\\\\\n",
       "\t10 &   8.655 & 17.836\\\\\n",
       "\t11 &   9.441 & 17.939\\\\\n",
       "\t12 &  10.322 & 18.043\\\\\n",
       "\t13 &  11.169 & 18.139\\\\\n",
       "\t14 &  12.405 & 18.270\\\\\n",
       "\t15 &  13.868 & 18.407\\\\\n",
       "\t16 &  14.983 & 18.505\\\\\n",
       "\t17 &  16.615 & 18.638\\\\\n",
       "\t18 &  18.058 & 18.742\\\\\n",
       "\t19 &  19.543 & 18.848\\\\\n",
       "\t20 &  21.755 & 18.989\\\\\n",
       "\t21 &  23.977 & 19.132\\\\\n",
       "\t22 &  26.303 & 19.271\\\\\n",
       "\t23 &  28.595 & 19.403\\\\\n",
       "\t24 &  31.581 & 19.571\\\\\n",
       "\t25 &  34.647 & 19.729\\\\\n",
       "\t26 &  38.150 & 19.901\\\\\n",
       "\t27 &  41.364 & 20.041\\\\\n",
       "\t28 &  45.429 & 20.179\\\\\n",
       "\t29 &  49.659 & 20.328\\\\\n",
       "\t30 &  54.859 & 20.476\\\\\n",
       "\t31 &  60.284 & 20.627\\\\\n",
       "\t32 &  66.323 & 20.760\\\\\n",
       "\t33 &  72.410 & 20.894\\\\\n",
       "\t34 &  79.433 & 21.040\\\\\n",
       "\t35 &  87.147 & 21.194\\\\\n",
       "\t36 &  95.236 & 21.334\\\\\n",
       "\t37 & 105.828 & 21.545\\\\\n",
       "\t38 & 115.239 & 21.690\\\\\n",
       "\t39 & 125.893 & 21.888\\\\\n",
       "\t40 & 136.836 & 22.035\\\\\n",
       "\t41 & 151.356 & 22.278\\\\\n",
       "\t42 & 165.806 & 22.414\\\\\n",
       "\t43 & 184.332 & 22.618\\\\\n",
       "\t44 & 201.837 & 22.788\\\\\n",
       "\t45 & 221.055 & 22.917\\\\\n",
       "\t46 & 235.099 & 23.068\\\\\n",
       "\t47 & 262.623 & 23.256\\\\\n",
       "\t48 & 286.748 & 23.470\\\\\n",
       "\t49 & 317.200 & 23.648\\\\\n",
       "\t50 & 347.336 & 23.871\\\\\n",
       "\t51 & 383.119 & 24.053\\\\\n",
       "\t52 & 418.312 & 24.318\\\\\n",
       "\t53 & 457.439 & 24.520\\\\\n",
       "\t54 & 498.884 & 24.777\\\\\n",
       "\t55 & 542.001 & 24.976\\\\\n",
       "\t56 & 631.000 & 25.282\\\\\n",
       "\t57 & 722.770 & 25.690\\\\\n",
       "\t58 & 877.001 & 26.177\\\\\n",
       "\\end{tabular}\n"
      ],
      "text/markdown": [
       "\n",
       "A data.frame: 58 × 2\n",
       "\n",
       "| <!--/--> | radius &lt;dbl&gt; | surf_mag &lt;dbl&gt; |\n",
       "|---|---|---|\n",
       "| 1 |   3.526 | 16.917 |\n",
       "| 2 |   4.015 | 17.032 |\n",
       "| 3 |   4.557 | 17.150 |\n",
       "| 4 |   4.966 | 17.239 |\n",
       "| 5 |   5.491 | 17.339 |\n",
       "| 6 |   6.039 | 17.439 |\n",
       "| 7 |   6.572 | 17.531 |\n",
       "| 8 |   7.244 | 17.639 |\n",
       "| 9 |   7.822 | 17.723 |\n",
       "| 10 |   8.655 | 17.836 |\n",
       "| 11 |   9.441 | 17.939 |\n",
       "| 12 |  10.322 | 18.043 |\n",
       "| 13 |  11.169 | 18.139 |\n",
       "| 14 |  12.405 | 18.270 |\n",
       "| 15 |  13.868 | 18.407 |\n",
       "| 16 |  14.983 | 18.505 |\n",
       "| 17 |  16.615 | 18.638 |\n",
       "| 18 |  18.058 | 18.742 |\n",
       "| 19 |  19.543 | 18.848 |\n",
       "| 20 |  21.755 | 18.989 |\n",
       "| 21 |  23.977 | 19.132 |\n",
       "| 22 |  26.303 | 19.271 |\n",
       "| 23 |  28.595 | 19.403 |\n",
       "| 24 |  31.581 | 19.571 |\n",
       "| 25 |  34.647 | 19.729 |\n",
       "| 26 |  38.150 | 19.901 |\n",
       "| 27 |  41.364 | 20.041 |\n",
       "| 28 |  45.429 | 20.179 |\n",
       "| 29 |  49.659 | 20.328 |\n",
       "| 30 |  54.859 | 20.476 |\n",
       "| 31 |  60.284 | 20.627 |\n",
       "| 32 |  66.323 | 20.760 |\n",
       "| 33 |  72.410 | 20.894 |\n",
       "| 34 |  79.433 | 21.040 |\n",
       "| 35 |  87.147 | 21.194 |\n",
       "| 36 |  95.236 | 21.334 |\n",
       "| 37 | 105.828 | 21.545 |\n",
       "| 38 | 115.239 | 21.690 |\n",
       "| 39 | 125.893 | 21.888 |\n",
       "| 40 | 136.836 | 22.035 |\n",
       "| 41 | 151.356 | 22.278 |\n",
       "| 42 | 165.806 | 22.414 |\n",
       "| 43 | 184.332 | 22.618 |\n",
       "| 44 | 201.837 | 22.788 |\n",
       "| 45 | 221.055 | 22.917 |\n",
       "| 46 | 235.099 | 23.068 |\n",
       "| 47 | 262.623 | 23.256 |\n",
       "| 48 | 286.748 | 23.470 |\n",
       "| 49 | 317.200 | 23.648 |\n",
       "| 50 | 347.336 | 23.871 |\n",
       "| 51 | 383.119 | 24.053 |\n",
       "| 52 | 418.312 | 24.318 |\n",
       "| 53 | 457.439 | 24.520 |\n",
       "| 54 | 498.884 | 24.777 |\n",
       "| 55 | 542.001 | 24.976 |\n",
       "| 56 | 631.000 | 25.282 |\n",
       "| 57 | 722.770 | 25.690 |\n",
       "| 58 | 877.001 | 26.177 |\n",
       "\n"
      ],
      "text/plain": [
       "   radius  surf_mag\n",
       "1    3.526 16.917  \n",
       "2    4.015 17.032  \n",
       "3    4.557 17.150  \n",
       "4    4.966 17.239  \n",
       "5    5.491 17.339  \n",
       "6    6.039 17.439  \n",
       "7    6.572 17.531  \n",
       "8    7.244 17.639  \n",
       "9    7.822 17.723  \n",
       "10   8.655 17.836  \n",
       "11   9.441 17.939  \n",
       "12  10.322 18.043  \n",
       "13  11.169 18.139  \n",
       "14  12.405 18.270  \n",
       "15  13.868 18.407  \n",
       "16  14.983 18.505  \n",
       "17  16.615 18.638  \n",
       "18  18.058 18.742  \n",
       "19  19.543 18.848  \n",
       "20  21.755 18.989  \n",
       "21  23.977 19.132  \n",
       "22  26.303 19.271  \n",
       "23  28.595 19.403  \n",
       "24  31.581 19.571  \n",
       "25  34.647 19.729  \n",
       "26  38.150 19.901  \n",
       "27  41.364 20.041  \n",
       "28  45.429 20.179  \n",
       "29  49.659 20.328  \n",
       "30  54.859 20.476  \n",
       "31  60.284 20.627  \n",
       "32  66.323 20.760  \n",
       "33  72.410 20.894  \n",
       "34  79.433 21.040  \n",
       "35  87.147 21.194  \n",
       "36  95.236 21.334  \n",
       "37 105.828 21.545  \n",
       "38 115.239 21.690  \n",
       "39 125.893 21.888  \n",
       "40 136.836 22.035  \n",
       "41 151.356 22.278  \n",
       "42 165.806 22.414  \n",
       "43 184.332 22.618  \n",
       "44 201.837 22.788  \n",
       "45 221.055 22.917  \n",
       "46 235.099 23.068  \n",
       "47 262.623 23.256  \n",
       "48 286.748 23.470  \n",
       "49 317.200 23.648  \n",
       "50 347.336 23.871  \n",
       "51 383.119 24.053  \n",
       "52 418.312 24.318  \n",
       "53 457.439 24.520  \n",
       "54 498.884 24.777  \n",
       "55 542.001 24.976  \n",
       "56 631.000 25.282  \n",
       "57 722.770 25.690  \n",
       "58 877.001 26.177  "
      ]
     },
     "metadata": {},
     "output_type": "display_data"
    },
    {
     "name": "stderr",
     "output_type": "stream",
     "text": [
      "Warning message in min(x):\n",
      "\"no non-missing arguments to min; returning Inf\"\n",
      "Warning message in max(x):\n",
      "\"no non-missing arguments to max; returning -Inf\"\n"
     ]
    },
    {
     "name": "stdout",
     "output_type": "stream",
     "text": [
      "67.21708    (2.88e+01): par = (20 120 4)\n",
      "3.648655    (6.76e+00): par = (19.00416 179.0912 5.211069)\n",
      "3.016947    (6.13e+00): par = (11.14254 239.9565 5.833813)\n",
      "0.08480302  (2.91e-01): par = (11.45163 265.4078 5.948181)\n",
      "0.07817011  (2.08e-03): par = (11.40737 267.6302 5.952091)\n",
      "0.07816977  (8.47e-08): par = (11.40733 267.6426 5.952099)\n"
     ]
    },
    {
     "data": {
      "text/plain": [
       "\n",
       "Formula: surf_mag ~ -2.5 * log10(I.e * 10^(-(0.868 * n - 0.142) * ((radius/r.e)^{\n",
       "    1/n\n",
       "} - 1))) + 26\n",
       "\n",
       "Parameters:\n",
       "     Estimate Std. Error t value Pr(>|t|)    \n",
       "I.e  11.40733    0.57560   19.82   <2e-16 ***\n",
       "r.e 267.64261    7.05769   37.92   <2e-16 ***\n",
       "n     5.95210    0.09718   61.25   <2e-16 ***\n",
       "---\n",
       "Signif. codes:  0 '***' 0.001 '**' 0.01 '*' 0.05 '.' 0.1 ' ' 1\n",
       "\n",
       "Residual standard error: 0.0377 on 55 degrees of freedom\n",
       "\n",
       "Number of iterations to convergence: 5 \n",
       "Achieved convergence tolerance: 8.474e-08\n"
      ]
     },
     "metadata": {},
     "output_type": "display_data"
    },
    {
     "data": {
      "text/plain": [
       "'log Lik.' 109.3717 (df=4)"
      ]
     },
     "metadata": {},
     "output_type": "display_data"
    }
   ],
   "source": [
    "# Unpack galaxy profile data\n",
    "\n",
    "data(ell_gal_profile)\n",
    "summary(ell_gal_profile)\n",
    "NGC4472 <- ell_gal_profile[ell_gal_profile[,1] == 'NGC.4472',2:3]\n",
    "NGC4472\n",
    "radius <- NGC4472[,1]\n",
    "surf_mag <- NGC4472[,2]\n",
    "\n",
    "NGC4472.fit <-  nls(surf_mag ~ -2.5*log10(I.e * 10^(-(0.868*n-0.142)*\n",
    "   ((radius/r.e)^{1/n}-1))) + 26, data=list(NGC4472), start=list(I.e=20.,\n",
    "   r.e=120.,n=4.), model=T, trace=T)\n",
    "summary(NGC4472.fit)\n",
    "logLik(NGC4472.fit)\n"
   ]
  },
  {
   "cell_type": "code",
   "execution_count": 14,
   "metadata": {},
   "outputs": [
    {
     "data": {
      "image/png": "[encoded data removed]",
      "text/plain": [
       "plot without title"
      ]
     },
     "metadata": {
      "image/png": {
       "height": 600,
       "width": 840
      }
     },
     "output_type": "display_data"
    }
   ],
   "source": [
    "# Plot NGC 4472 data and best-fit model\n",
    "\n",
    "par(mai=c(1,1,0.8,0.44))   # improve left-hand margin\n",
    "plot(NGC4472.fit$model$radius, NGC4472.fit$model$surf_mag, pch=20, \n",
    "   xlab=\"r  (arcsec)\", ylab=expression(mu ~~ (mag/sq.arcsec)), ylim=c(16,28), \n",
    "   cex.lab=1.5, cex.axis=1.5)\n",
    "lines(NGC4472.fit$model$radius, fitted(NGC4472.fit), lw=2, col='red')"
   ]
  },
  {
   "cell_type": "markdown",
   "metadata": {},
   "source": [
    "We can examine various scalar quantities from the _nls_ fit, and plot the residuals between the data and model.  A nonparametric smoother is added to assist seeing the amazing structure in the residuals: periodic shells of stars in excess of the monotonic Sersic model.  This is a well-known effect due to past galaxy mergers that form large elliptical galaxies. A similar residual plot appears in Kormendy's paper. "
   ]
  },
  {
   "cell_type": "code",
   "execution_count": 15,
   "metadata": {},
   "outputs": [
    {
     "data": {
      "text/plain": [
       "surf_mag ~ -2.5 * log10(I.e * 10^(-(0.868 * n - 0.142) * ((radius/r.e)^{\n",
       "    1/n\n",
       "} - 1))) + 26"
      ]
     },
     "metadata": {},
     "output_type": "display_data"
    },
    {
     "data": {
      "text/html": [
       "<style>\n",
       ".dl-inline {width: auto; margin:0; padding: 0}\n",
       ".dl-inline>dt, .dl-inline>dd {float: none; width: auto; display: inline-block}\n",
       ".dl-inline>dt::after {content: \":\\0020\"; padding-right: .5ex}\n",
       ".dl-inline>dt:not(:first-of-type) {padding-left: .5ex}\n",
       "</style><dl class=dl-inline><dt>I.e</dt><dd>11.4073281987737</dd><dt>r.e</dt><dd>267.642614934107</dd><dt>n</dt><dd>5.9520985968685</dd></dl>\n"
      ],
      "text/latex": [
       "\\begin{description*}\n",
       "\\item[I.e] 11.4073281987737\n",
       "\\item[r.e] 267.642614934107\n",
       "\\item[n] 5.9520985968685\n",
       "\\end{description*}\n"
      ],
      "text/markdown": [
       "I.e\n",
       ":   11.4073281987737r.e\n",
       ":   267.642614934107n\n",
       ":   5.9520985968685\n",
       "\n"
      ],
      "text/plain": [
       "       I.e        r.e          n \n",
       " 11.407328 267.642615   5.952099 "
      ]
     },
     "metadata": {},
     "output_type": "display_data"
    },
    {
     "data": {
      "text/html": [
       "<table class=\"dataframe\">\n",
       "<caption>A matrix: 3 × 3 of type dbl</caption>\n",
       "<thead>\n",
       "\t<tr><th></th><th scope=col>I.e</th><th scope=col>r.e</th><th scope=col>n</th></tr>\n",
       "</thead>\n",
       "<tbody>\n",
       "\t<tr><th scope=row>I.e</th><td> 0.33131615</td><td>-4.0282859</td><td>-0.05221804</td></tr>\n",
       "\t<tr><th scope=row>r.e</th><td>-4.02828586</td><td>49.8110277</td><td> 0.61791631</td></tr>\n",
       "\t<tr><th scope=row>n</th><td>-0.05221804</td><td> 0.6179163</td><td> 0.00944324</td></tr>\n",
       "</tbody>\n",
       "</table>\n"
      ],
      "text/latex": [
       "A matrix: 3 × 3 of type dbl\n",
       "\\begin{tabular}{r|lll}\n",
       "  & I.e & r.e & n\\\\\n",
       "\\hline\n",
       "\tI.e &  0.33131615 & -4.0282859 & -0.05221804\\\\\n",
       "\tr.e & -4.02828586 & 49.8110277 &  0.61791631\\\\\n",
       "\tn & -0.05221804 &  0.6179163 &  0.00944324\\\\\n",
       "\\end{tabular}\n"
      ],
      "text/markdown": [
       "\n",
       "A matrix: 3 × 3 of type dbl\n",
       "\n",
       "| <!--/--> | I.e | r.e | n |\n",
       "|---|---|---|---|\n",
       "| I.e |  0.33131615 | -4.0282859 | -0.05221804 |\n",
       "| r.e | -4.02828586 | 49.8110277 |  0.61791631 |\n",
       "| n | -0.05221804 |  0.6179163 |  0.00944324 |\n",
       "\n"
      ],
      "text/plain": [
       "    I.e         r.e        n          \n",
       "I.e  0.33131615 -4.0282859 -0.05221804\n",
       "r.e -4.02828586 49.8110277  0.61791631\n",
       "n   -0.05221804  0.6179163  0.00944324"
      ]
     },
     "metadata": {},
     "output_type": "display_data"
    },
    {
     "data": {
      "text/plain": [
       "'log Lik.' 109.3717 (df=4)"
      ]
     },
     "metadata": {},
     "output_type": "display_data"
    }
   ],
   "source": [
    "# Details information about the nls fit\n",
    "\n",
    "formula(NGC4472.fit)    # formula used\n",
    "coef(NGC4472.fit)       # best-fit parameters\n",
    "vcov(NGC4472.fit)       # best-fit parameter covariance matrix\n",
    "logLik(NGC4472.fit)     # log-likelihood of best fit"
   ]
  },
  {
   "cell_type": "code",
   "execution_count": 16,
   "metadata": {},
   "outputs": [
    {
     "name": "stderr",
     "output_type": "stream",
     "text": [
      "Waiting for profiling to be done...\n",
      "\n"
     ]
    },
    {
     "name": "stdout",
     "output_type": "stream",
     "text": [
      "0.1258499   (7.76e-01): par = (267.6426 5.952099)\n",
      "0.07855497  (5.02e-03): par = (271.3052 5.999577)\n",
      "0.07855299  (1.64e-06): par = (271.3336 5.999636)\n",
      "0.07978523  (3.04e-02): par = (275.005 6.04692)\n",
      "0.07971132  (1.85e-05): par = (275.1635 6.048316)\n",
      "0.07971132  (2.92e-08): par = (275.1635 6.048319)\n",
      "0.08172463  (3.11e-02): par = (278.9516 6.096472)\n",
      "0.08164548  (2.57e-05): par = (279.1183 6.097914)\n",
      "0.08164548  (1.40e-08): par = (279.1183 6.09792)\n",
      "0.08444048  (3.16e-02): par = (283.0287 6.146965)\n",
      "0.08435610  (3.30e-05): par = (283.2036 6.148453)\n",
      "0.08435610  (1.01e-07): par = (283.2036 6.148461)\n",
      "0.08793387  (3.20e-02): par = (287.242 6.198422)\n",
      "0.08784386  (4.02e-05): par = (287.4256 6.199958)\n",
      "0.08784386  (9.20e-08): par = (287.4255 6.199968)\n",
      "0.1234279   (7.56e-01): par = (267.6426 5.952099)\n",
      "0.07854678  (4.86e-03): par = (264.0742 5.905842)\n",
      "0.07854493  (1.61e-06): par = (264.1009 5.905899)\n",
      "0.07972825  (2.86e-02): par = (260.5404 5.859453)\n",
      "0.07966293  (1.50e-05): par = (260.6812 5.860736)\n",
      "0.07966293  (4.25e-08): par = (260.6813 5.860732)\n",
      "0.08158558  (2.74e-02): par = (257.2263 5.815099)\n",
      "0.08152435  (2.10e-05): par = (257.3606 5.816344)\n",
      "0.08152435  (6.63e-08): par = (257.3607 5.816338)\n",
      "0.08418740  (2.62e-02): par = (254.0065 5.771496)\n",
      "0.08412966  (2.70e-05): par = (254.1351 5.772706)\n",
      "0.08412966  (6.81e-08): par = (254.1352 5.772699)\n",
      "0.08753382  (2.50e-02): par = (250.8779 5.728629)\n",
      "0.08747934  (3.26e-05): par = (251.0011 5.729806)\n",
      "0.08747934  (1.04e-07): par = (251.0012 5.729797)\n",
      "0.09162526  (2.37e-02): par = (247.8369 5.686481)\n",
      "0.09157383  (3.77e-05): par = (247.9549 5.687626)\n",
      "0.09157383  (1.58e-07): par = (247.955 5.687616)\n",
      "0.1103733   (6.36e-01): par = (11.40733 5.952099)\n",
      "0.07856988  (1.08e-02): par = (11.70427 5.906351)\n",
      "0.07856070  (1.67e-06): par = (11.7082 5.906618)\n",
      "0.07982226  (2.84e-02): par = (12.00451 5.861827)\n",
      "0.07975792  (1.55e-05): par = (12.01682 5.861316)\n",
      "0.07975792  (2.14e-08): par = (12.01683 5.861316)\n",
      "0.08182248  (2.74e-02): par = (12.31612 5.817385)\n",
      "0.08176117  (1.46e-05): par = (12.32844 5.816893)\n",
      "0.08176117  (2.06e-08): par = (12.32845 5.816893)\n",
      "0.08462685  (2.61e-02): par = (12.63068 5.773808)\n",
      "0.08456929  (1.34e-05): par = (12.64292 5.773339)\n",
      "0.08456929  (5.61e-08): par = (12.64293 5.773339)\n",
      "0.08823541  (2.48e-02): par = (12.94806 5.73108)\n",
      "0.08818136  (1.24e-05): par = (12.96021 5.730632)\n",
      "0.08818136  (5.96e-08): par = (12.96022 5.730632)\n",
      "0.1093647   (6.27e-01): par = (11.40733 5.952099)\n",
      "0.07854683  (1.08e-02): par = (11.11463 5.996805)\n",
      "0.07853763  (1.74e-06): par = (11.11838 5.997064)\n",
      "0.07968934  (2.96e-02): par = (10.82503 6.042715)\n",
      "0.07961940  (1.68e-05): par = (10.83658 6.042197)\n",
      "0.07961940  (9.61e-09): par = (10.83658 6.042197)\n",
      "0.08148818  (3.00e-02): par = (10.54617 6.08871)\n",
      "0.08141487  (1.74e-05): par = (10.55769 6.088172)\n",
      "0.08141487  (3.42e-08): par = (10.5577 6.088173)\n",
      "0.08400110  (3.05e-02): par = (10.27025 6.13556)\n",
      "0.08392307  (1.83e-05): par = (10.28183 6.135)\n",
      "0.08392307  (1.11e-08): par = (10.28183 6.135)\n",
      "0.08722628  (3.09e-02): par = (9.997391 6.183284)\n",
      "0.08714320  (1.91e-05): par = (10.00903 6.182699)\n",
      "0.08714320  (2.74e-08): par = (10.00903 6.182699)\n",
      "0.09116294  (3.12e-02): par = (9.727643 6.2319)\n",
      "0.09107444  (2.00e-05): par = (9.739331 6.23129)\n",
      "0.09107444  (2.55e-08): par = (9.739337 6.231291)\n",
      "0.08235352  (2.20e-01): par = (11.40733 267.6426)\n",
      "0.07856780  (1.26e-02): par = (11.68486 264.3588)\n",
      "0.07855525  (1.44e-06): par = (11.68827 264.3822)\n",
      "0.07977376  (2.48e-02): par = (11.96689 261.1487)\n",
      "0.07972474  (5.61e-06): par = (11.9737 261.1955)\n",
      "0.08172437  (2.38e-02): par = (12.25442 258.0615)\n",
      "0.08167808  (5.21e-06): par = (12.2612 258.1064)\n",
      "0.08445820  (2.26e-02): par = (12.54396 255.0682)\n",
      "0.08441489  (4.81e-06): par = (12.55067 255.1111)\n",
      "0.08797539  (2.15e-02): par = (12.83542 252.1648)\n",
      "0.08793484  (4.42e-06): par = (12.84207 252.2058)\n",
      "0.08224106  (2.17e-01): par = (11.40733 267.6426)\n",
      "0.07855565  (1.29e-02): par = (11.12978 270.9273)\n",
      "0.07854266  (1.54e-06): par = (11.13312 270.951)\n",
      "0.07970333  (2.61e-02): par = (10.85663 274.287)\n",
      "0.07964917  (6.34e-06): par = (10.86328 274.3362)\n",
      "0.08154661  (2.66e-02): par = (10.58894 277.7779)\n",
      "0.08148915  (6.71e-06): par = (10.59563 277.8291)\n",
      "0.08412366  (2.70e-02): par = (10.3235 281.3806)\n",
      "0.08406224  (7.00e-06): par = (10.33024 281.4343)\n",
      "0.08743384  (2.74e-02): par = (10.06036 285.1003)\n",
      "0.08736813  (7.38e-06): par = (10.06716 285.1565)\n",
      "0.09147683  (2.77e-02): par = (9.799603 288.9422)\n",
      "0.09140649  (7.70e-06): par = (9.806459 289.0012)\n"
     ]
    },
    {
     "data": {
      "text/html": [
       "<table class=\"dataframe\">\n",
       "<caption>A matrix: 3 × 2 of type dbl</caption>\n",
       "<thead>\n",
       "\t<tr><th></th><th scope=col>2.5%</th><th scope=col>97.5%</th></tr>\n",
       "</thead>\n",
       "<tbody>\n",
       "\t<tr><th scope=row>I.e</th><td> 10.27796</td><td> 12.584321</td></tr>\n",
       "\t<tr><th scope=row>r.e</th><td>254.29016</td><td>282.671404</td></tr>\n",
       "\t<tr><th scope=row>n</th><td>  5.76343</td><td>  6.153343</td></tr>\n",
       "</tbody>\n",
       "</table>\n"
      ],
      "text/latex": [
       "A matrix: 3 × 2 of type dbl\n",
       "\\begin{tabular}{r|ll}\n",
       "  & 2.5\\% & 97.5\\%\\\\\n",
       "\\hline\n",
       "\tI.e &  10.27796 &  12.584321\\\\\n",
       "\tr.e & 254.29016 & 282.671404\\\\\n",
       "\tn &   5.76343 &   6.153343\\\\\n",
       "\\end{tabular}\n"
      ],
      "text/markdown": [
       "\n",
       "A matrix: 3 × 2 of type dbl\n",
       "\n",
       "| <!--/--> | 2.5% | 97.5% |\n",
       "|---|---|---|\n",
       "| I.e |  10.27796 |  12.584321 |\n",
       "| r.e | 254.29016 | 282.671404 |\n",
       "| n |   5.76343 |   6.153343 |\n",
       "\n"
      ],
      "text/plain": [
       "    2.5%      97.5%     \n",
       "I.e  10.27796  12.584321\n",
       "r.e 254.29016 282.671404\n",
       "n     5.76343   6.153343"
      ]
     },
     "metadata": {},
     "output_type": "display_data"
    },
    {
     "name": "stdout",
     "output_type": "stream",
     "text": [
      "0.1291124   (8.02e-01): par = (267.6426 5.952099)\n",
      "0.07858126  (5.36e-03): par = (271.4285 6.001174)\n",
      "0.07857900  (1.79e-06): par = (271.4588 6.001237)\n",
      "0.07990067  (3.25e-02): par = (275.254 6.050106)\n",
      "0.07981626  (2.07e-05): par = (275.4235 6.051598)\n",
      "0.07981626  (2.14e-08): par = (275.4235 6.051602)\n",
      "0.08197297  (3.33e-02): par = (279.3436 6.101398)\n",
      "0.08188238  (2.86e-05): par = (279.5221 6.102941)\n",
      "0.08188238  (5.18e-08): par = (279.5221 6.102948)\n",
      "0.08487488  (3.38e-02): par = (283.5732 6.153699)\n",
      "0.08477808  (3.65e-05): par = (283.7609 6.155293)\n",
      "0.08477808  (6.97e-08): par = (283.7609 6.155302)\n",
      "0.08860763  (3.42e-02): par = (287.9492 6.207033)\n",
      "0.08850413  (4.45e-05): par = (288.1466 6.208681)\n",
      "0.08850413  (1.26e-07): par = (288.1466 6.208692)\n",
      "0.1264410   (7.81e-01): par = (267.6426 5.952099)\n",
      "0.07857222  (5.19e-03): par = (263.9574 5.904327)\n",
      "0.07857010  (1.75e-06): par = (263.9858 5.904388)\n",
      "0.07983718  (3.05e-02): par = (260.309 5.856415)\n",
      "0.07976288  (1.67e-05): par = (260.459 5.857782)\n",
      "0.07976288  (6.09e-08): par = (260.4591 5.857778)\n",
      "0.08181826  (2.92e-02): par = (256.8946 5.810671)\n",
      "0.08174876  (2.32e-05): par = (257.0375 5.811997)\n",
      "0.08174876  (6.93e-08): par = (257.0376 5.811991)\n",
      "0.08459369  (2.78e-02): par = (253.5806 5.765727)\n",
      "0.08452828  (2.97e-05): par = (253.7172 5.767014)\n",
      "0.08452828  (6.17e-08): par = (253.7173 5.767006)\n",
      "0.08816356  (2.64e-02): par = (250.3632 5.721564)\n",
      "0.08810196  (3.57e-05): par = (250.4938 5.722816)\n",
      "0.08810196  (1.43e-07): par = (250.4939 5.722806)\n",
      "0.09252837  (2.51e-02): par = (247.2385 5.678167)\n",
      "0.09247032  (4.13e-05): par = (247.3635 5.679383)\n",
      "0.09247032  (1.57e-07): par = (247.3637 5.679372)\n",
      "0.1125647   (6.58e-01): par = (11.40733 5.952099)\n",
      "0.07859797  (1.15e-02): par = (11.7142 5.904815)\n",
      "0.07858751  (1.94e-06): par = (11.7184 5.905099)\n",
      "0.07994093  (3.03e-02): par = (12.0246 5.858837)\n",
      "0.07986772  (1.76e-05): par = (12.03775 5.858292)\n",
      "0.07986772  (2.52e-08): par = (12.03776 5.858292)\n",
      "0.08207975  (2.91e-02): par = (12.34713 5.812947)\n",
      "0.08201008  (1.66e-05): par = (12.3603 5.812423)\n",
      "0.08201008  (3.62e-08): par = (12.36031 5.812423)\n",
      "0.08507857  (2.77e-02): par = (12.67283 5.767981)\n",
      "0.08501331  (1.52e-05): par = (12.68591 5.767482)\n",
      "0.08501331  (2.73e-08): par = (12.68592 5.767481)\n",
      "0.08893748  (2.62e-02): par = (13.00152 5.72392)\n",
      "0.08887632  (1.40e-05): par = (13.0145 5.723444)\n",
      "0.08887632  (5.91e-08): par = (13.01451 5.723444)\n",
      "0.1114523   (6.47e-01): par = (11.40733 5.952099)\n",
      "0.07857255  (1.16e-02): par = (11.10499 5.998272)\n",
      "0.07856206  (1.95e-06): par = (11.10899 5.998548)\n",
      "0.07979474  (3.16e-02): par = (10.80595 6.045729)\n",
      "0.07971493  (1.91e-05): par = (10.81826 6.045175)\n",
      "0.07971493  (1.78e-08): par = (10.81827 6.045175)\n",
      "0.08171191  (3.20e-02): par = (10.51837 6.093276)\n",
      "0.08162813  (1.99e-05): par = (10.53065 6.092701)\n",
      "0.08162813  (4.17e-08): par = (10.53066 6.092702)\n",
      "0.08438993  (3.26e-02): par = (10.23392 6.141737)\n",
      "0.08430056  (2.09e-05): par = (10.24627 6.141137)\n",
      "0.08430056  (1.25e-08): par = (10.24628 6.141137)\n",
      "0.08782666  (3.30e-02): par = (9.952751 6.19113)\n",
      "0.08773131  (2.19e-05): par = (9.965159 6.190503)\n",
      "0.08773131  (2.49e-08): par = (9.965166 6.190504)\n",
      "0.09202124  (3.33e-02): par = (9.674902 6.241477)\n",
      "0.09191945  (2.29e-05): par = (9.687369 6.240823)\n",
      "0.09191945  (2.76e-08): par = (9.687376 6.240823)\n",
      "0.08263787  (2.27e-01): par = (11.40733 267.6426)\n",
      "0.07859578  (1.35e-02): par = (11.69407 264.2498)\n",
      "0.07858150  (1.68e-06): par = (11.69771 264.2748)\n",
      "0.07988682  (2.64e-02): par = (11.98561 260.9357)\n",
      "0.07983106  (6.37e-06): par = (11.99289 260.9857)\n",
      "0.08197084  (2.53e-02): par = (12.28303 257.7527)\n",
      "0.08191828  (5.92e-06): par = (12.29027 257.8005)\n",
      "0.08489180  (2.40e-02): par = (12.58259 254.6696)\n",
      "0.08484273  (5.42e-06): par = (12.58975 254.7152)\n",
      "0.08864988  (2.27e-02): par = (12.88419 251.682)\n",
      "0.08860403  (4.97e-06): par = (12.89128 251.7256)\n",
      "0.08251383  (2.24e-01): par = (11.40733 267.6426)\n",
      "0.07858241  (1.37e-02): par = (11.12056 271.0364)\n",
      "0.07856761  (1.75e-06): par = (11.12414 271.0616)\n",
      "0.07980953  (2.78e-02): par = (10.8385 274.5101)\n",
      "0.07974770  (7.22e-06): par = (10.8456 274.5627)\n",
      "0.08177562  (2.84e-02): par = (10.56227 278.1241)\n",
      "0.08170990  (7.62e-06): par = (10.56941 278.1789)\n",
      "0.08452420  (2.89e-02): par = (10.28843 281.8578)\n",
      "0.08445378  (8.00e-06): par = (10.29563 281.9153)\n",
      "0.08805450  (2.93e-02): par = (10.01707 285.717)\n",
      "0.08797900  (8.41e-06): par = (10.02433 285.7773)\n",
      "0.09236619  (2.96e-02): par = (9.748245 289.7073)\n",
      "0.09228517  (8.85e-06): par = (9.755567 289.7707)\n"
     ]
    },
    {
     "data": {
      "text/plain": [
       "$I.e\n",
       "          tau par.vals.I.e par.vals.r.e par.vals.n\n",
       "1  -2.6965213     9.899142   288.146574   6.208692\n",
       "2  -2.1562899    10.194122   283.760882   6.155302\n",
       "3  -1.6162253    10.492653   279.522145   6.102948\n",
       "4  -1.0763218    10.794685   275.423545   6.051602\n",
       "5  -0.5365917    11.100163   271.458795   6.001237\n",
       "6   0.0000000    11.407328   267.642615   5.952099\n",
       "7   0.5307306    11.714494   263.985829   5.904388\n",
       "8   1.0587308    12.023345   260.459076   5.857778\n",
       "9   1.5868740    12.335497   257.037637   5.811991\n",
       "10  2.1151421    12.650899   253.717291   5.767006\n",
       "11  2.6435313    12.969511   250.493934   5.722806\n",
       "12  3.1720377    13.291291   247.363667   5.679372\n",
       "\n",
       "$r.e\n",
       "          tau par.vals.I.e par.vals.r.e par.vals.n\n",
       "1  -2.7446486    13.014510   249.725368   5.723444\n",
       "2  -2.1943315    12.685916   253.098154   5.767481\n",
       "3  -1.6437865    12.360312   256.577765   5.812423\n",
       "4  -1.0930108    12.037760   260.169087   5.858292\n",
       "5  -0.5421435    11.718401   263.876325   5.905099\n",
       "6   0.0000000    11.407328   267.642615   5.952099\n",
       "7   0.5253718    11.108987   271.408905   5.998548\n",
       "8   1.0426754    10.818269   275.234491   6.045175\n",
       "9   1.5599004    10.530660   279.180912   6.092702\n",
       "10  2.0769216    10.246277   283.252604   6.141137\n",
       "11  2.5937371     9.965166   287.455198   6.190504\n",
       "12  3.1103425     9.687376   291.794631   6.240823\n",
       "\n",
       "$n\n",
       "          tau par.vals.I.e par.vals.r.e par.vals.n\n",
       "1  -2.7095224    12.891284   251.725582   5.699769\n",
       "2  -2.1668120    12.589753   254.715240   5.748610\n",
       "3  -1.6240202    12.290267   257.800529   5.798288\n",
       "4  -1.0811459    11.992889   260.985654   5.848825\n",
       "5  -0.5382281    11.697707   264.274829   5.900241\n",
       "6   0.0000000    11.407328   267.642615   5.952099\n",
       "7   0.5290739    11.124138   271.061609   6.003956\n",
       "8   1.0536739    10.845604   274.562669   6.056261\n",
       "9   1.5782342    10.569407   278.178933   6.109468\n",
       "10  2.1027156    10.295628   281.915314   6.163597\n",
       "11  2.6271168    10.024327   285.777299   6.218671\n",
       "12  3.1514367     9.755567   289.770693   6.274715\n",
       "\n",
       "attr(,\"original.fit\")\n",
       "Nonlinear regression model\n",
       "  model: surf_mag ~ -2.5 * log10(I.e * 10^(-(0.868 * n - 0.142) * ((radius/r.e)^{    1/n} - 1))) + 26\n",
       "   data: list(NGC4472)\n",
       "    I.e     r.e       n \n",
       " 11.407 267.643   5.952 \n",
       " residual sum-of-squares: 0.07817\n",
       "\n",
       "Number of iterations to convergence: 5 \n",
       "Achieved convergence tolerance: 8.474e-08\n",
       "attr(,\"summary\")\n",
       "\n",
       "Formula: surf_mag ~ -2.5 * log10(I.e * 10^(-(0.868 * n - 0.142) * ((radius/r.e)^{\n",
       "    1/n\n",
       "} - 1))) + 26\n",
       "\n",
       "Parameters:\n",
       "     Estimate Std. Error t value Pr(>|t|)    \n",
       "I.e  11.40733    0.57560   19.82   <2e-16 ***\n",
       "r.e 267.64261    7.05769   37.92   <2e-16 ***\n",
       "n     5.95210    0.09718   61.25   <2e-16 ***\n",
       "---\n",
       "Signif. codes:  0 '***' 0.001 '**' 0.01 '*' 0.05 '.' 0.1 ' ' 1\n",
       "\n",
       "Residual standard error: 0.0377 on 55 degrees of freedom\n",
       "\n",
       "Number of iterations to convergence: 5 \n",
       "Achieved convergence tolerance: 8.474e-08\n",
       "\n",
       "attr(,\"class\")\n",
       "[1] \"profile.nls\" \"profile\"    "
      ]
     },
     "metadata": {},
     "output_type": "display_data"
    }
   ],
   "source": [
    "confint(NGC4472.fit)    # 95% confidence intervals\n",
    "profile(NGC4472.fit)    # profiles (cuts) around the best fit (unfortunately the console output is verbose here)"
   ]
  },
  {
   "cell_type": "code",
   "execution_count": 0,
   "metadata": {},
   "outputs": [],
   "source": [
    "fitted(NGC4472.fit)     # fitted values\n",
    "residuals(NGC4472.fit)  # residuals from the fitted values\n",
    "\n",
    "# Residual plot\n",
    "\n",
    "plot(NGC4472.fit$model$radius,residuals(NGC4472.fit), xlab=\"r (arcsec)\", \n",
    "   ylab=\"Residuals\", pch=20, cex.lab=1.5, cex.axis=1.5)\n",
    "lines(supsmu(NGC4472.fit$model$radius, residuals(NGC4472.fit), span=0.05), \n",
    "   lwd=2, col='red')"
   ]
  },
  {
   "cell_type": "markdown",
   "metadata": {},
   "source": [
    "We can perform more analysis of the residuals.  First, we show the residuals are normally distributed (Shapiro-Wilks test) but exhibit strong spatial autocorrelation (Durbin-Watson test). "
   ]
  },
  {
   "cell_type": "code",
   "execution_count": 17,
   "metadata": {},
   "outputs": [
    {
     "data": {
      "text/plain": [
       "\n",
       "\tShapiro-Wilk normality test\n",
       "\n",
       "data:  residuals(NGC4472.fit)/summary(NGC4472.fit)$sigma\n",
       "W = 0.97433, p-value = 0.255\n"
      ]
     },
     "metadata": {},
     "output_type": "display_data"
    },
    {
     "data": {
      "image/png": "[encoded data removed]",
      "text/plain": [
       "Plot with title \"Normal Q-Q Plot\""
      ]
     },
     "metadata": {
      "image/png": {
       "height": 600,
       "width": 840
      }
     },
     "output_type": "display_data"
    },
    {
     "data": {
      "image/png": "[encoded data removed]",
      "text/plain": [
       "Plot with title \"Series  residuals(NGC4472.fit)\""
      ]
     },
     "metadata": {
      "image/png": {
       "height": 600,
       "width": 840
      }
     },
     "output_type": "display_data"
    }
   ],
   "source": [
    "# Test for normality (OK) and autocorrelation (not OK) of residuals\n",
    "# For linear models, also use the Durbin-Watson test in CRAN packages lmtest and car\n",
    "\n",
    "qqnorm(residuals(NGC4472.fit) / summary(NGC4472.fit)$sigma) \n",
    "abline(a=0,b=1)\n",
    "shapiro.test(residuals(NGC4472.fit) / summary(NGC4472.fit)$sigma) \n",
    "acf(residuals(NGC4472.fit))"
   ]
  },
  {
   "cell_type": "markdown",
   "metadata": {},
   "source": [
    "There is an oddity: the error on Sersic's _n_ parameter from `nls` is much smaller than the error quoted by Kormendy.  Reading Kormendy's appendix, I find that he did not know how to evaluate the uncertainty of a nonlinear fit and chose an _ad hoc_ procedure that overestimated the error.  His estimate of _n_ was much more accurate than he thought."
   ]
  },
  {
   "cell_type": "markdown",
   "metadata": {},
   "source": [
    "> **Exercise 2.**  (a) See whether the best-fit model is significantly different using maximum likelihood estimation (CRAN package _nmle_) rather than Iteratively Weighted Least Squares (_nls_ in R).  (b) Estimate parameter confidence intervals using bootstrap techniques using CRAN _nlstools_."
   ]
  },
  {
   "cell_type": "markdown",
   "metadata": {},
   "source": [
    "### Some useful books for regression\n",
    "\n",
    "- S. Sheather, [_A Modern Approach to Regression with R_](https://link.springer.com/book/10.1007%2F978-0-387-09608-7), 2009, Springer\n",
    "- J. Fox, [_An R Companion to Applied Regression_](https://socialsciences.mcmaster.ca/jfox/Books/Companion/), 3rd ed, 2019, Sage \n",
    "- C. Ritz & J. Streibig, [_Nonlinear Regression with R_](https://link.springer.com/book/10.1007/978-0-387-09616-2), 2008, Springer\n",
    "- K. Takezawa, [_Introduction to Nonparametric Regression_](https://onlinelibrary.wiley.com/doi/book/10.1002/0471771457), 2005, Wiley\n",
    "- J. Harazlak, D. Ruppert & M. Wand, [_Semiparametric Regression with R_](https://link.springer.com/book/10.1007/978-1-4939-8853-2),  2018, Springer"
   ]
  }
 ],
 "metadata": {
  "kernelspec": {
   "display_name": "R",
   "language": "R",
   "name": "ir"
  },
  "language_info": {
   "codemirror_mode": "r",
   "file_extension": ".r",
   "mimetype": "text/x-r-source",
   "name": "R",
   "pygments_lexer": "r",
   "version": "4.4.1"
  }
 },
 "nbformat": 4,
 "nbformat_minor": 4
}
