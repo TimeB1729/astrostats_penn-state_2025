{
 "cells": [
  {
   "cell_type": "markdown",
   "metadata": {},
   "source": [
    "# Classification and Machine Learning\n",
    "## Eric Feigelson \n",
    "## Summer School in Statistics for Astronomers\n",
    "\n",
    "**Adapted from R scripts in Appendix B,  *Modern Statistical Methods for Astronomy With R Applications*,  Eric D. Feigelson & G. Jogesh Babu 2012  http://astrostatistics.psu.edu/MSMA**  Improvements by Gabriel Caceres 2017."
   ]
  },
  {
   "cell_type": "markdown",
   "metadata": {},
   "source": [
    "**The popular phrases _data science_ and _data mining_ do not have strict definitions, but a common theme is to separate heterogeneous datasets into distinct groupings.  When only the dataset if available without prior knowledge of the groups, the problem is called _clustering_.  When prior knowledge in the form of training sets with labels for the groups are available, the problem is called _classification_.  The availability of reliable training sets can be remarkably helpful: classification procedures often give far more effective results than clustering procedures.**"
   ]
  },
  {
   "cell_type": "code",
   "execution_count": 1,
   "metadata": {},
   "outputs": [
    {
     "name": "stderr",
     "output_type": "stream",
     "text": [
      "also installing the dependencies 'abind', 'iterators', 'magic', 'lpSolve', 'linprog', 'RcppProgress', 'modeltools', 'DEoptimR', 'doParallel', 'foreach', 'geometry', 'mclust', 'flexmix', 'prabclus', 'diptest', 'robustbase', 'kernlab', 'tclust', 'pdfCluster', 'mvtnorm'\n",
      "\n",
      "\n"
     ]
    },
    {
     "name": "stdout",
     "output_type": "stream",
     "text": [
      "package 'abind' successfully unpacked and MD5 sums checked\n",
      "package 'iterators' successfully unpacked and MD5 sums checked\n",
      "package 'magic' successfully unpacked and MD5 sums checked\n",
      "package 'lpSolve' successfully unpacked and MD5 sums checked\n",
      "package 'linprog' successfully unpacked and MD5 sums checked\n",
      "package 'RcppProgress' successfully unpacked and MD5 sums checked\n",
      "package 'modeltools' successfully unpacked and MD5 sums checked\n",
      "package 'DEoptimR' successfully unpacked and MD5 sums checked\n",
      "package 'doParallel' successfully unpacked and MD5 sums checked\n",
      "package 'foreach' successfully unpacked and MD5 sums checked\n",
      "package 'geometry' successfully unpacked and MD5 sums checked\n",
      "package 'mclust' successfully unpacked and MD5 sums checked\n",
      "package 'flexmix' successfully unpacked and MD5 sums checked\n",
      "package 'prabclus' successfully unpacked and MD5 sums checked\n",
      "package 'diptest' successfully unpacked and MD5 sums checked\n",
      "package 'robustbase' successfully unpacked and MD5 sums checked\n",
      "package 'kernlab' successfully unpacked and MD5 sums checked\n",
      "package 'tclust' successfully unpacked and MD5 sums checked\n",
      "package 'pdfCluster' successfully unpacked and MD5 sums checked\n",
      "package 'mvtnorm' successfully unpacked and MD5 sums checked\n",
      "package 'fpc' successfully unpacked and MD5 sums checked\n",
      "\n",
      "The downloaded binary packages are in\n",
      "\tC:\\Users\\Time27.B1729\\AppData\\Local\\Temp\\RtmpIZd6oH\\downloaded_packages\n"
     ]
    },
    {
     "name": "stderr",
     "output_type": "stream",
     "text": [
      "Warning message:\n",
      "\"package 'class' was built under R version 4.4.3\"\n"
     ]
    },
    {
     "name": "stdout",
     "output_type": "stream",
     "text": [
      "package 'randomForest' successfully unpacked and MD5 sums checked\n",
      "\n",
      "The downloaded binary packages are in\n",
      "\tC:\\Users\\Time27.B1729\\AppData\\Local\\Temp\\RtmpIZd6oH\\downloaded_packages\n"
     ]
    },
    {
     "name": "stderr",
     "output_type": "stream",
     "text": [
      "also installing the dependencies 'proxy', 'mlbench', 'slam'\n",
      "\n",
      "\n"
     ]
    },
    {
     "name": "stdout",
     "output_type": "stream",
     "text": [
      "package 'proxy' successfully unpacked and MD5 sums checked\n",
      "package 'mlbench' successfully unpacked and MD5 sums checked\n",
      "package 'slam' successfully unpacked and MD5 sums checked\n",
      "package 'e1071' successfully unpacked and MD5 sums checked\n",
      "\n",
      "The downloaded binary packages are in\n",
      "\tC:\\Users\\Time27.B1729\\AppData\\Local\\Temp\\RtmpIZd6oH\\downloaded_packages\n"
     ]
    }
   ],
   "source": [
    "# Setup\n",
    "\n",
    "if(!require(\"fpc\", quietly=T)) {\n",
    "  install.packages(\"fpc\", repos=\"https://cloud.r-project.org\", dependencies=TRUE)\n",
    "}\n",
    "if(!require(\"class\", quietly=T)) {\n",
    "  install.packages(\"class\", repos=\"https://cloud.r-project.org\", dependencies=TRUE)\n",
    "}\n",
    "if(!require(\"randomForest\", quietly=T)) {\n",
    "  install.packages(\"randomForest\", repos=\"https://cloud.r-project.org\", dependencies=TRUE)\n",
    "}\n",
    "if(!require(\"e1071\", quietly=T)) {\n",
    "  install.packages(\"e1071\", repos=\"https://cloud.r-project.org\", dependencies=TRUE)\n",
    "}"
   ]
  },
  {
   "cell_type": "markdown",
   "metadata": {},
   "source": [
    "### I Nonparametric clustering"
   ]
  },
  {
   "cell_type": "markdown",
   "metadata": {},
   "source": [
    "Here we exercise several nonparametric procedures to identify groupings in multivariate datasets; that is, tabular data with scalar quantities in rows and columns.  These procedures are algorithmic: they generally are not based on principles like 'maximum likelihood estimation' founded on powerful theorems.  They often have one or more adjustable parameters with little mathematical advice on settting their values.  Consequently, the scientific results from nonparametric clustering often depends on the chosen procedure and thresholds with reduced reproducibility and reliability. "
   ]
  },
  {
   "cell_type": "markdown",
   "metadata": {},
   "source": [
    "We apply clustering techniques to a famous discovery in extragalactic astronomy.  A 17-band photometric survey of galaxies, called COMBO-17, revealed a bifurcation in the color magnitude diagram of normal galaxies showing a `red sequence` and a `blue cloud` separated by a `green valley` ([Bell et al. 2004](https://ui.adsabs.harvard.edu/abs/2004ApJ...608..752B/abstract)).  We study this here in a bivariate color-magnitude diagram using unsupervised methods.  Note that we use a 2D dataset only for convenience; the statistical methods are designed for multi-dimensional problem although some are effectively restricted to relatively few dimensions."
   ]
  },
  {
   "cell_type": "code",
   "execution_count": 2,
   "metadata": {},
   "outputs": [
    {
     "name": "stdout",
     "output_type": "stream",
     "text": [
      "'data.frame':\t572 obs. of  2 variables:\n",
      " $ V1: num  -11.2 -14 -10.3 -13 -12.6 ...\n",
      " $ V2: num  -1.07 0.14 0.14 -0.1 -1.45 -1.01 -0.61 -0.42 -0.32 0.14 ...\n"
     ]
    },
    {
     "data": {
      "text/html": [
       "<style>\n",
       ".list-inline {list-style: none; margin:0; padding: 0}\n",
       ".list-inline>li {display: inline-block}\n",
       ".list-inline>li:not(:last-child)::after {content: \"\\00b7\"; padding: 0 .5ex}\n",
       "</style>\n",
       "<ol class=list-inline><li>572</li><li>2</li></ol>\n"
      ],
      "text/latex": [
       "\\begin{enumerate*}\n",
       "\\item 572\n",
       "\\item 2\n",
       "\\end{enumerate*}\n"
      ],
      "text/markdown": [
       "1. 572\n",
       "2. 2\n",
       "\n",
       "\n"
      ],
      "text/plain": [
       "[1] 572   2"
      ]
     },
     "metadata": {},
     "output_type": "display_data"
    },
    {
     "data": {
      "text/html": [
       "<style>\n",
       ".list-inline {list-style: none; margin:0; padding: 0}\n",
       ".list-inline>li {display: inline-block}\n",
       ".list-inline>li:not(:last-child)::after {content: \"\\00b7\"; padding: 0 .5ex}\n",
       "</style>\n",
       "<ol class=list-inline><li>'V1'</li><li>'V2'</li></ol>\n"
      ],
      "text/latex": [
       "\\begin{enumerate*}\n",
       "\\item 'V1'\n",
       "\\item 'V2'\n",
       "\\end{enumerate*}\n"
      ],
      "text/markdown": [
       "1. 'V1'\n",
       "2. 'V2'\n",
       "\n",
       "\n"
      ],
      "text/plain": [
       "[1] \"V1\" \"V2\""
      ]
     },
     "metadata": {},
     "output_type": "display_data"
    },
    {
     "data": {
      "text/html": [
       "<style>\n",
       ".list-inline {list-style: none; margin:0; padding: 0}\n",
       ".list-inline>li {display: inline-block}\n",
       ".list-inline>li:not(:last-child)::after {content: \"\\00b7\"; padding: 0 .5ex}\n",
       "</style>\n",
       "<ol class=list-inline><li>'MB'</li><li>'M280-MB'</li></ol>\n"
      ],
      "text/latex": [
       "\\begin{enumerate*}\n",
       "\\item 'MB'\n",
       "\\item 'M280-MB'\n",
       "\\end{enumerate*}\n"
      ],
      "text/markdown": [
       "1. 'MB'\n",
       "2. 'M280-MB'\n",
       "\n",
       "\n"
      ],
      "text/plain": [
       "[1] \"MB\"      \"M280-MB\""
      ]
     },
     "metadata": {},
     "output_type": "display_data"
    }
   ],
   "source": [
    "download.file(url = \"https://git.psu.edu/stat/astro/datasets/-/raw/master/COMBO17_lowz.dat\", destfile = \"COMBO17_lowz.dat\")\n",
    "COMBO_loz=read.table('COMBO17_lowz.dat', header=T, fill=T)\n",
    "str(COMBO_loz)\n",
    "dim(COMBO_loz)\n",
    "names(COMBO_loz)\n",
    "names(COMBO_loz) <- c('MB', 'M280-MB')  ; names(COMBO_loz)"
   ]
  },
  {
   "cell_type": "code",
   "execution_count": 3,
   "metadata": {},
   "outputs": [
    {
     "data": {
      "image/png": "[encoded data removed]",
      "text/plain": [
       "Plot with title \"\""
      ]
     },
     "metadata": {
      "image/png": {
       "height": 420,
       "width": 420
      }
     },
     "output_type": "display_data"
    }
   ],
   "source": [
    "plot(COMBO_loz, pch=20, cex=0.5, xlim=c(-22,-7), ylim=c(-2,2.5), \n",
    "   xlab=expression(M[B]~~(mag)), ylab=expression(M[280] - M[B]~~(mag)), \n",
    "   main='')"
   ]
  },
  {
   "cell_type": "markdown",
   "metadata": {},
   "source": [
    "Visual examination of the scatter plot shows an elongated distribution where redder galaxies are more luminous.  There are hints of structure in the diagram: a handful the extreme red-luminous corner, and possible bimodality where the galaxies are most common, and a few outliers with very red colors but intermediate luminosity.  \n",
    "\n",
    "Let us first apply a often useful nonparametric smoothing procedure known as _kernel density estimation_ where a point process is convolved with a kernet function, here a 2-dimensional Gaussian.  We use R's function _kde2d_.  "
   ]
  },
  {
   "cell_type": "code",
   "execution_count": 4,
   "metadata": {
    "scrolled": true
   },
   "outputs": [
    {
     "name": "stderr",
     "output_type": "stream",
     "text": [
      "Warning message:\n",
      "\"package 'MASS' was built under R version 4.4.3\"\n"
     ]
    },
    {
     "data": {
      "text/html": [
       "<strong>pdf:</strong> 2"
      ],
      "text/latex": [
       "\\textbf{pdf:} 2"
      ],
      "text/markdown": [
       "**pdf:** 2"
      ],
      "text/plain": [
       "pdf \n",
       "  2 "
      ]
     },
     "metadata": {},
     "output_type": "display_data"
    },
    {
     "data": {
      "image/png": "[encoded data removed]",
      "text/plain": [
       "plot without title"
      ]
     },
     "metadata": {
      "image/png": {
       "height": 420,
       "width": 420
      }
     },
     "output_type": "display_data"
    }
   ],
   "source": [
    "# Two-dimensional kernel-density estimator\n",
    "\n",
    "library(MASS)\n",
    "COMBO_loz_sm <- kde2d(COMBO_loz[,1], COMBO_loz[,2], h=c(1.6,0.4), \n",
    "   lims = c(-22,-7,-2,2.5), n=500)\n",
    "image(COMBO_loz_sm, col=grey(13:0/15), xlab=expression(M[B]~~(mag)), \n",
    "   ylab=expression(M[280] - M[B]~~(mag)), xlim=c(-22,-7), ylim=c(-2,2.5), \n",
    "   xaxp=c(-20,-10,2))\n",
    "text(-16.5, -1, \"Blue cloud\", col='darkblue', pos=4, cex=0.8)\n",
    "text(-17,-0.7, 'Green valley', col='darkgreen', pos=4, cex=0.8)\n",
    "text(-13, -0.2, 'Red sequence', col='red', pos=4, cex=0.8)\n",
    "text(-18.5, 1.7, 'Bright cluster galaxies', col='deeppink3', pos=4, cex=0.8)\n",
    "dev.copy2pdf(file='COMBO17_CMD.pdf')"
   ]
  },
  {
   "cell_type": "markdown",
   "metadata": {},
   "source": [
    "This smoothed distribution dramatically shows a bifurcation in the galaxy distribution.  The text labels give the commonly used designations: blue cloud, green valley, red sequence, and bright cluster galaxies (BCGs).  "
   ]
  },
  {
   "cell_type": "markdown",
   "metadata": {},
   "source": [
    "### II Two nonparametric unsupervised clustering procedure\n",
    "\n",
    "Many clustering and classification procedures locate groupings based on some measure of distance in multivariate _p_-space. Formulating a distance metric is not trivial when the variables have different units and ranges. In addition, astronomers often habitually apply logarithmic transformations to wide-range variables and do not transform narrow-range variables.  This will affect the distance metric.\n",
    "\n",
    "First, it is necessary to somehow normalize the distance measures so variables with wide ranges do not dominate over variables with small ranges.  The most common procedure is called _standardization_ where each variable scaled by subtracting its mean and dividing by its standard deviation.  All variables then range from roughly -1 to 1 with zero mean. \n",
    "\n",
    "Once the variables are standardized, a distance metric is devised.  Typically this is the Euclidean distance based on the Pythogorean formula, but other metrics can be used.  Again, the results of a clustering algorithm may depend on this choice. "
   ]
  },
  {
   "cell_type": "code",
   "execution_count": 5,
   "metadata": {},
   "outputs": [],
   "source": [
    "# Standardize variables and compute a Euclidean distance matrix\n",
    "\n",
    "Mag_std <- scale(COMBO_loz[,1]) \n",
    "Color_std <- scale(COMBO_loz[,2])\n",
    "COMBO_std <- cbind(Mag_std,Color_std)\n",
    "COMBO_dist <- dist(COMBO_std)"
   ]
  },
  {
   "cell_type": "markdown",
   "metadata": {},
   "source": [
    "We now construct a _dendrogram_ or tree for hierarchical clustering.  The procedure is to join the closest two points into a cluster which is then considered to be a single point.  This process is iterated until the entire sample is a single cluster.  However, choices must be made on the meaning of _distance_ between two clusters: Do we consider the closest members of the two clusters (single-linkage)? the centroid of each cluster (average-linkage)? the furthest members of each cluster (complete-linkage) or other choice?  Here we use an intermediate choice known as _Ward\\`s method_ which leads to a minimum variance clustering.  "
   ]
  },
  {
   "cell_type": "markdown",
   "metadata": {},
   "source": [
    "We construct the resulting dendrogram using R's _hclust_.  While one might think that the first split corresponds to the valley between the red sequence and blue cloud, this did not appear until one choose _k=5_ clusters. We then plot the original data with five symbol shapes reflecting the five clusters.  "
   ]
  },
  {
   "cell_type": "code",
   "execution_count": 6,
   "metadata": {},
   "outputs": [
    {
     "data": {
      "image/png": "[encoded data removed]",
      "text/plain": [
       "Plot with title \"Cluster Dendrogram\""
      ]
     },
     "metadata": {
      "image/png": {
       "height": 420,
       "width": 420
      }
     },
     "output_type": "display_data"
    }
   ],
   "source": [
    "# Hierarchical clustering\n",
    "\n",
    "COMBO_hc <- hclust(COMBO_dist, method='ward.D')\n",
    "plot(COMBO_hc, label=F)\n",
    "\n",
    "# Cutting the tree at k=5 clusters\n",
    "\n",
    "COMBO_hc5a <- rect.hclust(COMBO_hc, k=5, border='red') \n",
    "COMBO_hc5b <- cutree(COMBO_hc, k=5) "
   ]
  },
  {
   "cell_type": "code",
   "execution_count": 7,
   "metadata": {},
   "outputs": [
    {
     "data": {
      "image/png": "[encoded data removed]",
      "text/plain": [
       "Plot with title \"\""
      ]
     },
     "metadata": {
      "image/png": {
       "height": 420,
       "width": 420
      }
     },
     "output_type": "display_data"
    }
   ],
   "source": [
    "# Show this hierarchical clustering solution\n",
    "\n",
    "plot(COMBO_loz, pch=(COMBO_hc5b+18), cex=0.7, xlab=expression(M[B]~~(mag)), \n",
    "   ylab=expression(M[280] - M[B]~~(mag)), main='')"
   ]
  },
  {
   "cell_type": "markdown",
   "metadata": {},
   "source": [
    "The results are not very satisfying.  The BCGs have blurred together with less luminous red outliers, the red sequence is divided into two portions, and the blue cloud include two very blue outliers. \n",
    "\n",
    "**Exercise 1:** Read the help files associated with hierarchical clustering and try different parameters.   "
   ]
  },
  {
   "cell_type": "markdown",
   "metadata": {},
   "source": [
    "A different approach was developed in the 1990s by computer scientist called DBSCAN, Density-Based Spatial Clustering with Noise ([Ester et al. 1996](https://dl.acm.org/doi/10.5555/3001460.3001507), 21K citations).  It starts by finding points with many close neighbors within a specified distance (the _reach_ parameter), merges them, and percolates outward until no new neighbors within the reach are found. Then sparse clusters with fewer than _minPts_ are excluded.  Nt all objects must be included in clusters; rather clusters are assumed to lie in low-density noise. "
   ]
  },
  {
   "cell_type": "code",
   "execution_count": 8,
   "metadata": {},
   "outputs": [
    {
     "name": "stderr",
     "output_type": "stream",
     "text": [
      "Warning message:\n",
      "\"package 'fpc' was built under R version 4.4.3\"\n"
     ]
    },
    {
     "name": "stdout",
     "output_type": "stream",
     "text": [
      "dbscan Pts=572 MinPts=5 eps=0.1\n",
      "         0  1  2  3 4 5 6 7 8 9 10 11 12 13 14 15 16\n",
      "border 333 12 17 12 3 3 4 4 4 4  2  4  6  3  4  4  4\n",
      "seed     0 59 46 16 6 2 2 1 1 4  4  1  2  2  1  1  1\n",
      "total  333 71 63 28 9 5 6 5 5 8  6  5  8  5  5  5  5\n"
     ]
    },
    {
     "data": {
      "text/html": [
       "<style>\n",
       ".list-inline {list-style: none; margin:0; padding: 0}\n",
       ".list-inline>li {display: inline-block}\n",
       ".list-inline>li:not(:last-child)::after {content: \"\\00b7\"; padding: 0 .5ex}\n",
       "</style>\n",
       "<ol class=list-inline><li>0</li><li>0</li><li>0</li><li>15</li><li>0</li><li>0</li><li>6</li><li>1</li><li>1</li><li>0</li><li>0</li><li>2</li><li>0</li><li>2</li><li>0</li><li>3</li><li>4</li><li>2</li><li>3</li><li>0</li><li>0</li><li>1</li><li>0</li><li>0</li><li>0</li><li>0</li><li>0</li><li>0</li><li>0</li><li>0</li><li>0</li><li>1</li><li>1</li><li>0</li><li>0</li><li>0</li><li>0</li><li>0</li><li>0</li><li>0</li><li>1</li><li>5</li><li>0</li><li>0</li><li>0</li><li>2</li><li>8</li><li>6</li><li>2</li><li>0</li><li>7</li><li>0</li><li>8</li><li>0</li><li>0</li><li>0</li><li>0</li><li>14</li><li>0</li><li>0</li><li>9</li><li>0</li><li>3</li><li>0</li><li>0</li><li>1</li><li>1</li><li>1</li><li>0</li><li>0</li><li>0</li><li>1</li><li>0</li><li>0</li><li>3</li><li>1</li><li>0</li><li>0</li><li>12</li><li>2</li><li>6</li><li>2</li><li>0</li><li>0</li><li>0</li><li>7</li><li>0</li><li>0</li><li>16</li><li>0</li><li>0</li><li>1</li><li>1</li><li>0</li><li>0</li><li>0</li><li>0</li><li>0</li><li>2</li><li>1</li><li>3</li><li>10</li><li>4</li><li>2</li><li>2</li><li>0</li><li>0</li><li>0</li><li>1</li><li>0</li><li>0</li><li>7</li><li>9</li><li>2</li><li>0</li><li>0</li><li>3</li><li>3</li><li>0</li><li>0</li><li>1</li><li>2</li><li>0</li><li>0</li><li>1</li><li>0</li><li>0</li><li>7</li><li>0</li><li>9</li><li>0</li><li>0</li><li>0</li><li>1</li><li>1</li><li>0</li><li>0</li><li>15</li><li>11</li><li>0</li><li>12</li><li>0</li><li>0</li><li>1</li><li>0</li><li>5</li><li>0</li><li>0</li><li>0</li><li>0</li><li>0</li><li>0</li><li>2</li><li>2</li><li>13</li><li>2</li><li>16</li><li>10</li><li>2</li><li>0</li><li>0</li><li>0</li><li>0</li><li>1</li><li>0</li><li>0</li><li>0</li><li>0</li><li>0</li><li>2</li><li>0</li><li>0</li><li>3</li><li>0</li><li>16</li><li>2</li><li>0</li><li>2</li><li>0</li><li>1</li><li>0</li><li>0</li><li>0</li><li>1</li><li>1</li><li>3</li><li>2</li><li>0</li><li>0</li><li>4</li><li>0</li><li>0</li><li>2</li><li>0</li><li>0</li><li>0</li><li>2</li><li>2</li><li>0</li><li>0</li><li>⋯</li><li>0</li><li>9</li><li>0</li><li>0</li><li>2</li><li>1</li><li>6</li><li>2</li><li>0</li><li>0</li><li>1</li><li>0</li><li>0</li><li>0</li><li>0</li><li>0</li><li>12</li><li>0</li><li>7</li><li>0</li><li>0</li><li>0</li><li>1</li><li>1</li><li>0</li><li>0</li><li>1</li><li>2</li><li>1</li><li>9</li><li>0</li><li>1</li><li>0</li><li>0</li><li>0</li><li>3</li><li>1</li><li>1</li><li>1</li><li>0</li><li>0</li><li>0</li><li>0</li><li>0</li><li>1</li><li>0</li><li>0</li><li>3</li><li>0</li><li>13</li><li>0</li><li>0</li><li>0</li><li>0</li><li>0</li><li>0</li><li>1</li><li>0</li><li>0</li><li>0</li><li>3</li><li>10</li><li>0</li><li>0</li><li>2</li><li>0</li><li>3</li><li>0</li><li>0</li><li>0</li><li>10</li><li>1</li><li>1</li><li>0</li><li>0</li><li>1</li><li>0</li><li>2</li><li>0</li><li>0</li><li>0</li><li>0</li><li>0</li><li>0</li><li>0</li><li>0</li><li>0</li><li>12</li><li>0</li><li>0</li><li>0</li><li>0</li><li>0</li><li>2</li><li>0</li><li>1</li><li>16</li><li>14</li><li>0</li><li>0</li><li>1</li><li>0</li><li>0</li><li>0</li><li>2</li><li>0</li><li>0</li><li>1</li><li>1</li><li>2</li><li>12</li><li>0</li><li>0</li><li>1</li><li>0</li><li>0</li><li>0</li><li>0</li><li>0</li><li>15</li><li>0</li><li>3</li><li>4</li><li>0</li><li>0</li><li>0</li><li>0</li><li>1</li><li>0</li><li>3</li><li>0</li><li>0</li><li>0</li><li>0</li><li>0</li><li>13</li><li>0</li><li>0</li><li>0</li><li>0</li><li>2</li><li>0</li><li>0</li><li>1</li><li>0</li><li>0</li><li>2</li><li>0</li><li>0</li><li>0</li><li>12</li><li>0</li><li>2</li><li>0</li><li>1</li><li>4</li><li>0</li><li>2</li><li>0</li><li>0</li><li>1</li><li>2</li><li>11</li><li>6</li><li>0</li><li>1</li><li>14</li><li>0</li><li>0</li><li>0</li><li>0</li><li>3</li><li>0</li><li>16</li><li>0</li><li>0</li><li>0</li><li>2</li><li>0</li><li>0</li><li>0</li><li>1</li><li>0</li><li>0</li><li>1</li><li>0</li><li>0</li><li>0</li><li>0</li><li>3</li><li>0</li><li>8</li><li>0</li><li>1</li><li>8</li><li>0</li><li>2</li><li>2</li><li>0</li><li>0</li></ol>\n"
      ],
      "text/latex": [
       "\\begin{enumerate*}\n",
       "\\item 0\n",
       "\\item 0\n",
       "\\item 0\n",
       "\\item 15\n",
       "\\item 0\n",
       "\\item 0\n",
       "\\item 6\n",
       "\\item 1\n",
       "\\item 1\n",
       "\\item 0\n",
       "\\item 0\n",
       "\\item 2\n",
       "\\item 0\n",
       "\\item 2\n",
       "\\item 0\n",
       "\\item 3\n",
       "\\item 4\n",
       "\\item 2\n",
       "\\item 3\n",
       "\\item 0\n",
       "\\item 0\n",
       "\\item 1\n",
       "\\item 0\n",
       "\\item 0\n",
       "\\item 0\n",
       "\\item 0\n",
       "\\item 0\n",
       "\\item 0\n",
       "\\item 0\n",
       "\\item 0\n",
       "\\item 0\n",
       "\\item 1\n",
       "\\item 1\n",
       "\\item 0\n",
       "\\item 0\n",
       "\\item 0\n",
       "\\item 0\n",
       "\\item 0\n",
       "\\item 0\n",
       "\\item 0\n",
       "\\item 1\n",
       "\\item 5\n",
       "\\item 0\n",
       "\\item 0\n",
       "\\item 0\n",
       "\\item 2\n",
       "\\item 8\n",
       "\\item 6\n",
       "\\item 2\n",
       "\\item 0\n",
       "\\item 7\n",
       "\\item 0\n",
       "\\item 8\n",
       "\\item 0\n",
       "\\item 0\n",
       "\\item 0\n",
       "\\item 0\n",
       "\\item 14\n",
       "\\item 0\n",
       "\\item 0\n",
       "\\item 9\n",
       "\\item 0\n",
       "\\item 3\n",
       "\\item 0\n",
       "\\item 0\n",
       "\\item 1\n",
       "\\item 1\n",
       "\\item 1\n",
       "\\item 0\n",
       "\\item 0\n",
       "\\item 0\n",
       "\\item 1\n",
       "\\item 0\n",
       "\\item 0\n",
       "\\item 3\n",
       "\\item 1\n",
       "\\item 0\n",
       "\\item 0\n",
       "\\item 12\n",
       "\\item 2\n",
       "\\item 6\n",
       "\\item 2\n",
       "\\item 0\n",
       "\\item 0\n",
       "\\item 0\n",
       "\\item 7\n",
       "\\item 0\n",
       "\\item 0\n",
       "\\item 16\n",
       "\\item 0\n",
       "\\item 0\n",
       "\\item 1\n",
       "\\item 1\n",
       "\\item 0\n",
       "\\item 0\n",
       "\\item 0\n",
       "\\item 0\n",
       "\\item 0\n",
       "\\item 2\n",
       "\\item 1\n",
       "\\item 3\n",
       "\\item 10\n",
       "\\item 4\n",
       "\\item 2\n",
       "\\item 2\n",
       "\\item 0\n",
       "\\item 0\n",
       "\\item 0\n",
       "\\item 1\n",
       "\\item 0\n",
       "\\item 0\n",
       "\\item 7\n",
       "\\item 9\n",
       "\\item 2\n",
       "\\item 0\n",
       "\\item 0\n",
       "\\item 3\n",
       "\\item 3\n",
       "\\item 0\n",
       "\\item 0\n",
       "\\item 1\n",
       "\\item 2\n",
       "\\item 0\n",
       "\\item 0\n",
       "\\item 1\n",
       "\\item 0\n",
       "\\item 0\n",
       "\\item 7\n",
       "\\item 0\n",
       "\\item 9\n",
       "\\item 0\n",
       "\\item 0\n",
       "\\item 0\n",
       "\\item 1\n",
       "\\item 1\n",
       "\\item 0\n",
       "\\item 0\n",
       "\\item 15\n",
       "\\item 11\n",
       "\\item 0\n",
       "\\item 12\n",
       "\\item 0\n",
       "\\item 0\n",
       "\\item 1\n",
       "\\item 0\n",
       "\\item 5\n",
       "\\item 0\n",
       "\\item 0\n",
       "\\item 0\n",
       "\\item 0\n",
       "\\item 0\n",
       "\\item 0\n",
       "\\item 2\n",
       "\\item 2\n",
       "\\item 13\n",
       "\\item 2\n",
       "\\item 16\n",
       "\\item 10\n",
       "\\item 2\n",
       "\\item 0\n",
       "\\item 0\n",
       "\\item 0\n",
       "\\item 0\n",
       "\\item 1\n",
       "\\item 0\n",
       "\\item 0\n",
       "\\item 0\n",
       "\\item 0\n",
       "\\item 0\n",
       "\\item 2\n",
       "\\item 0\n",
       "\\item 0\n",
       "\\item 3\n",
       "\\item 0\n",
       "\\item 16\n",
       "\\item 2\n",
       "\\item 0\n",
       "\\item 2\n",
       "\\item 0\n",
       "\\item 1\n",
       "\\item 0\n",
       "\\item 0\n",
       "\\item 0\n",
       "\\item 1\n",
       "\\item 1\n",
       "\\item 3\n",
       "\\item 2\n",
       "\\item 0\n",
       "\\item 0\n",
       "\\item 4\n",
       "\\item 0\n",
       "\\item 0\n",
       "\\item 2\n",
       "\\item 0\n",
       "\\item 0\n",
       "\\item 0\n",
       "\\item 2\n",
       "\\item 2\n",
       "\\item 0\n",
       "\\item 0\n",
       "\\item ⋯\n",
       "\\item 0\n",
       "\\item 9\n",
       "\\item 0\n",
       "\\item 0\n",
       "\\item 2\n",
       "\\item 1\n",
       "\\item 6\n",
       "\\item 2\n",
       "\\item 0\n",
       "\\item 0\n",
       "\\item 1\n",
       "\\item 0\n",
       "\\item 0\n",
       "\\item 0\n",
       "\\item 0\n",
       "\\item 0\n",
       "\\item 12\n",
       "\\item 0\n",
       "\\item 7\n",
       "\\item 0\n",
       "\\item 0\n",
       "\\item 0\n",
       "\\item 1\n",
       "\\item 1\n",
       "\\item 0\n",
       "\\item 0\n",
       "\\item 1\n",
       "\\item 2\n",
       "\\item 1\n",
       "\\item 9\n",
       "\\item 0\n",
       "\\item 1\n",
       "\\item 0\n",
       "\\item 0\n",
       "\\item 0\n",
       "\\item 3\n",
       "\\item 1\n",
       "\\item 1\n",
       "\\item 1\n",
       "\\item 0\n",
       "\\item 0\n",
       "\\item 0\n",
       "\\item 0\n",
       "\\item 0\n",
       "\\item 1\n",
       "\\item 0\n",
       "\\item 0\n",
       "\\item 3\n",
       "\\item 0\n",
       "\\item 13\n",
       "\\item 0\n",
       "\\item 0\n",
       "\\item 0\n",
       "\\item 0\n",
       "\\item 0\n",
       "\\item 0\n",
       "\\item 1\n",
       "\\item 0\n",
       "\\item 0\n",
       "\\item 0\n",
       "\\item 3\n",
       "\\item 10\n",
       "\\item 0\n",
       "\\item 0\n",
       "\\item 2\n",
       "\\item 0\n",
       "\\item 3\n",
       "\\item 0\n",
       "\\item 0\n",
       "\\item 0\n",
       "\\item 10\n",
       "\\item 1\n",
       "\\item 1\n",
       "\\item 0\n",
       "\\item 0\n",
       "\\item 1\n",
       "\\item 0\n",
       "\\item 2\n",
       "\\item 0\n",
       "\\item 0\n",
       "\\item 0\n",
       "\\item 0\n",
       "\\item 0\n",
       "\\item 0\n",
       "\\item 0\n",
       "\\item 0\n",
       "\\item 0\n",
       "\\item 12\n",
       "\\item 0\n",
       "\\item 0\n",
       "\\item 0\n",
       "\\item 0\n",
       "\\item 0\n",
       "\\item 2\n",
       "\\item 0\n",
       "\\item 1\n",
       "\\item 16\n",
       "\\item 14\n",
       "\\item 0\n",
       "\\item 0\n",
       "\\item 1\n",
       "\\item 0\n",
       "\\item 0\n",
       "\\item 0\n",
       "\\item 2\n",
       "\\item 0\n",
       "\\item 0\n",
       "\\item 1\n",
       "\\item 1\n",
       "\\item 2\n",
       "\\item 12\n",
       "\\item 0\n",
       "\\item 0\n",
       "\\item 1\n",
       "\\item 0\n",
       "\\item 0\n",
       "\\item 0\n",
       "\\item 0\n",
       "\\item 0\n",
       "\\item 15\n",
       "\\item 0\n",
       "\\item 3\n",
       "\\item 4\n",
       "\\item 0\n",
       "\\item 0\n",
       "\\item 0\n",
       "\\item 0\n",
       "\\item 1\n",
       "\\item 0\n",
       "\\item 3\n",
       "\\item 0\n",
       "\\item 0\n",
       "\\item 0\n",
       "\\item 0\n",
       "\\item 0\n",
       "\\item 13\n",
       "\\item 0\n",
       "\\item 0\n",
       "\\item 0\n",
       "\\item 0\n",
       "\\item 2\n",
       "\\item 0\n",
       "\\item 0\n",
       "\\item 1\n",
       "\\item 0\n",
       "\\item 0\n",
       "\\item 2\n",
       "\\item 0\n",
       "\\item 0\n",
       "\\item 0\n",
       "\\item 12\n",
       "\\item 0\n",
       "\\item 2\n",
       "\\item 0\n",
       "\\item 1\n",
       "\\item 4\n",
       "\\item 0\n",
       "\\item 2\n",
       "\\item 0\n",
       "\\item 0\n",
       "\\item 1\n",
       "\\item 2\n",
       "\\item 11\n",
       "\\item 6\n",
       "\\item 0\n",
       "\\item 1\n",
       "\\item 14\n",
       "\\item 0\n",
       "\\item 0\n",
       "\\item 0\n",
       "\\item 0\n",
       "\\item 3\n",
       "\\item 0\n",
       "\\item 16\n",
       "\\item 0\n",
       "\\item 0\n",
       "\\item 0\n",
       "\\item 2\n",
       "\\item 0\n",
       "\\item 0\n",
       "\\item 0\n",
       "\\item 1\n",
       "\\item 0\n",
       "\\item 0\n",
       "\\item 1\n",
       "\\item 0\n",
       "\\item 0\n",
       "\\item 0\n",
       "\\item 0\n",
       "\\item 3\n",
       "\\item 0\n",
       "\\item 8\n",
       "\\item 0\n",
       "\\item 1\n",
       "\\item 8\n",
       "\\item 0\n",
       "\\item 2\n",
       "\\item 2\n",
       "\\item 0\n",
       "\\item 0\n",
       "\\end{enumerate*}\n"
      ],
      "text/markdown": [
       "1. 0\n",
       "2. 0\n",
       "3. 0\n",
       "4. 15\n",
       "5. 0\n",
       "6. 0\n",
       "7. 6\n",
       "8. 1\n",
       "9. 1\n",
       "10. 0\n",
       "11. 0\n",
       "12. 2\n",
       "13. 0\n",
       "14. 2\n",
       "15. 0\n",
       "16. 3\n",
       "17. 4\n",
       "18. 2\n",
       "19. 3\n",
       "20. 0\n",
       "21. 0\n",
       "22. 1\n",
       "23. 0\n",
       "24. 0\n",
       "25. 0\n",
       "26. 0\n",
       "27. 0\n",
       "28. 0\n",
       "29. 0\n",
       "30. 0\n",
       "31. 0\n",
       "32. 1\n",
       "33. 1\n",
       "34. 0\n",
       "35. 0\n",
       "36. 0\n",
       "37. 0\n",
       "38. 0\n",
       "39. 0\n",
       "40. 0\n",
       "41. 1\n",
       "42. 5\n",
       "43. 0\n",
       "44. 0\n",
       "45. 0\n",
       "46. 2\n",
       "47. 8\n",
       "48. 6\n",
       "49. 2\n",
       "50. 0\n",
       "51. 7\n",
       "52. 0\n",
       "53. 8\n",
       "54. 0\n",
       "55. 0\n",
       "56. 0\n",
       "57. 0\n",
       "58. 14\n",
       "59. 0\n",
       "60. 0\n",
       "61. 9\n",
       "62. 0\n",
       "63. 3\n",
       "64. 0\n",
       "65. 0\n",
       "66. 1\n",
       "67. 1\n",
       "68. 1\n",
       "69. 0\n",
       "70. 0\n",
       "71. 0\n",
       "72. 1\n",
       "73. 0\n",
       "74. 0\n",
       "75. 3\n",
       "76. 1\n",
       "77. 0\n",
       "78. 0\n",
       "79. 12\n",
       "80. 2\n",
       "81. 6\n",
       "82. 2\n",
       "83. 0\n",
       "84. 0\n",
       "85. 0\n",
       "86. 7\n",
       "87. 0\n",
       "88. 0\n",
       "89. 16\n",
       "90. 0\n",
       "91. 0\n",
       "92. 1\n",
       "93. 1\n",
       "94. 0\n",
       "95. 0\n",
       "96. 0\n",
       "97. 0\n",
       "98. 0\n",
       "99. 2\n",
       "100. 1\n",
       "101. 3\n",
       "102. 10\n",
       "103. 4\n",
       "104. 2\n",
       "105. 2\n",
       "106. 0\n",
       "107. 0\n",
       "108. 0\n",
       "109. 1\n",
       "110. 0\n",
       "111. 0\n",
       "112. 7\n",
       "113. 9\n",
       "114. 2\n",
       "115. 0\n",
       "116. 0\n",
       "117. 3\n",
       "118. 3\n",
       "119. 0\n",
       "120. 0\n",
       "121. 1\n",
       "122. 2\n",
       "123. 0\n",
       "124. 0\n",
       "125. 1\n",
       "126. 0\n",
       "127. 0\n",
       "128. 7\n",
       "129. 0\n",
       "130. 9\n",
       "131. 0\n",
       "132. 0\n",
       "133. 0\n",
       "134. 1\n",
       "135. 1\n",
       "136. 0\n",
       "137. 0\n",
       "138. 15\n",
       "139. 11\n",
       "140. 0\n",
       "141. 12\n",
       "142. 0\n",
       "143. 0\n",
       "144. 1\n",
       "145. 0\n",
       "146. 5\n",
       "147. 0\n",
       "148. 0\n",
       "149. 0\n",
       "150. 0\n",
       "151. 0\n",
       "152. 0\n",
       "153. 2\n",
       "154. 2\n",
       "155. 13\n",
       "156. 2\n",
       "157. 16\n",
       "158. 10\n",
       "159. 2\n",
       "160. 0\n",
       "161. 0\n",
       "162. 0\n",
       "163. 0\n",
       "164. 1\n",
       "165. 0\n",
       "166. 0\n",
       "167. 0\n",
       "168. 0\n",
       "169. 0\n",
       "170. 2\n",
       "171. 0\n",
       "172. 0\n",
       "173. 3\n",
       "174. 0\n",
       "175. 16\n",
       "176. 2\n",
       "177. 0\n",
       "178. 2\n",
       "179. 0\n",
       "180. 1\n",
       "181. 0\n",
       "182. 0\n",
       "183. 0\n",
       "184. 1\n",
       "185. 1\n",
       "186. 3\n",
       "187. 2\n",
       "188. 0\n",
       "189. 0\n",
       "190. 4\n",
       "191. 0\n",
       "192. 0\n",
       "193. 2\n",
       "194. 0\n",
       "195. 0\n",
       "196. 0\n",
       "197. 2\n",
       "198. 2\n",
       "199. 0\n",
       "200. 0\n",
       "201. ⋯\n",
       "202. 0\n",
       "203. 9\n",
       "204. 0\n",
       "205. 0\n",
       "206. 2\n",
       "207. 1\n",
       "208. 6\n",
       "209. 2\n",
       "210. 0\n",
       "211. 0\n",
       "212. 1\n",
       "213. 0\n",
       "214. 0\n",
       "215. 0\n",
       "216. 0\n",
       "217. 0\n",
       "218. 12\n",
       "219. 0\n",
       "220. 7\n",
       "221. 0\n",
       "222. 0\n",
       "223. 0\n",
       "224. 1\n",
       "225. 1\n",
       "226. 0\n",
       "227. 0\n",
       "228. 1\n",
       "229. 2\n",
       "230. 1\n",
       "231. 9\n",
       "232. 0\n",
       "233. 1\n",
       "234. 0\n",
       "235. 0\n",
       "236. 0\n",
       "237. 3\n",
       "238. 1\n",
       "239. 1\n",
       "240. 1\n",
       "241. 0\n",
       "242. 0\n",
       "243. 0\n",
       "244. 0\n",
       "245. 0\n",
       "246. 1\n",
       "247. 0\n",
       "248. 0\n",
       "249. 3\n",
       "250. 0\n",
       "251. 13\n",
       "252. 0\n",
       "253. 0\n",
       "254. 0\n",
       "255. 0\n",
       "256. 0\n",
       "257. 0\n",
       "258. 1\n",
       "259. 0\n",
       "260. 0\n",
       "261. 0\n",
       "262. 3\n",
       "263. 10\n",
       "264. 0\n",
       "265. 0\n",
       "266. 2\n",
       "267. 0\n",
       "268. 3\n",
       "269. 0\n",
       "270. 0\n",
       "271. 0\n",
       "272. 10\n",
       "273. 1\n",
       "274. 1\n",
       "275. 0\n",
       "276. 0\n",
       "277. 1\n",
       "278. 0\n",
       "279. 2\n",
       "280. 0\n",
       "281. 0\n",
       "282. 0\n",
       "283. 0\n",
       "284. 0\n",
       "285. 0\n",
       "286. 0\n",
       "287. 0\n",
       "288. 0\n",
       "289. 12\n",
       "290. 0\n",
       "291. 0\n",
       "292. 0\n",
       "293. 0\n",
       "294. 0\n",
       "295. 2\n",
       "296. 0\n",
       "297. 1\n",
       "298. 16\n",
       "299. 14\n",
       "300. 0\n",
       "301. 0\n",
       "302. 1\n",
       "303. 0\n",
       "304. 0\n",
       "305. 0\n",
       "306. 2\n",
       "307. 0\n",
       "308. 0\n",
       "309. 1\n",
       "310. 1\n",
       "311. 2\n",
       "312. 12\n",
       "313. 0\n",
       "314. 0\n",
       "315. 1\n",
       "316. 0\n",
       "317. 0\n",
       "318. 0\n",
       "319. 0\n",
       "320. 0\n",
       "321. 15\n",
       "322. 0\n",
       "323. 3\n",
       "324. 4\n",
       "325. 0\n",
       "326. 0\n",
       "327. 0\n",
       "328. 0\n",
       "329. 1\n",
       "330. 0\n",
       "331. 3\n",
       "332. 0\n",
       "333. 0\n",
       "334. 0\n",
       "335. 0\n",
       "336. 0\n",
       "337. 13\n",
       "338. 0\n",
       "339. 0\n",
       "340. 0\n",
       "341. 0\n",
       "342. 2\n",
       "343. 0\n",
       "344. 0\n",
       "345. 1\n",
       "346. 0\n",
       "347. 0\n",
       "348. 2\n",
       "349. 0\n",
       "350. 0\n",
       "351. 0\n",
       "352. 12\n",
       "353. 0\n",
       "354. 2\n",
       "355. 0\n",
       "356. 1\n",
       "357. 4\n",
       "358. 0\n",
       "359. 2\n",
       "360. 0\n",
       "361. 0\n",
       "362. 1\n",
       "363. 2\n",
       "364. 11\n",
       "365. 6\n",
       "366. 0\n",
       "367. 1\n",
       "368. 14\n",
       "369. 0\n",
       "370. 0\n",
       "371. 0\n",
       "372. 0\n",
       "373. 3\n",
       "374. 0\n",
       "375. 16\n",
       "376. 0\n",
       "377. 0\n",
       "378. 0\n",
       "379. 2\n",
       "380. 0\n",
       "381. 0\n",
       "382. 0\n",
       "383. 1\n",
       "384. 0\n",
       "385. 0\n",
       "386. 1\n",
       "387. 0\n",
       "388. 0\n",
       "389. 0\n",
       "390. 0\n",
       "391. 3\n",
       "392. 0\n",
       "393. 8\n",
       "394. 0\n",
       "395. 1\n",
       "396. 8\n",
       "397. 0\n",
       "398. 2\n",
       "399. 2\n",
       "400. 0\n",
       "401. 0\n",
       "\n",
       "\n"
      ],
      "text/plain": [
       "  [1]  0  0  0 15  0  0  6  1  1  0  0  2  0  2  0  3  4  2  3  0  0  1  0  0  0\n",
       " [26]  0  0  0  0  0  0  1  1  0  0  0  0  0  0  0  1  5  0  0  0  2  8  6  2  0\n",
       " [51]  7  0  8  0  0  0  0 14  0  0  9  0  3  0  0  1  1  1  0  0  0  1  0  0  3\n",
       " [76]  1  0  0 12  2  6  2  0  0  0  7  0  0 16  0  0  1  1  0  0  0  0  0  2  1\n",
       "[101]  3 10  4  2  2  0  0  0  1  0  0  7  9  2  0  0  3  3  0  0  1  2  0  0  1\n",
       "[126]  0  0  7  0  9  0  0  0  1  1  0  0 15 11  0 12  0  0  1  0  5  0  0  0  0\n",
       "[151]  0  0  2  2 13  2 16 10  2  0  0  0  0  1  0  0  0  0  0  2  0  0  3  0 16\n",
       "[176]  2  0  2  0  1  0  0  0  1  1  3  2  0  0  4  0  0  2  0  0  0  2  2  0  0\n",
       "[201]  0  0 15  0  1  0  0  0  0 14  0 13  9  2  2  0  0  0  1  0  8  0  0  2  0\n",
       "[226]  0  5  1  0  0  0  0  0  0 12  0  2  0  0  0  2  1  0  0  3  2  0  3  2  0\n",
       "[251]  1  1  3  0  0  2  1  0  2 10  0  0  0 12  0  1  9  2  0  0  2  0  0  0  0\n",
       "[276]  2  0  2  2  0  3  0  0  0  0  0  1  0  2  0  0  3  0  1  0  0  0  0  0  0\n",
       "[301]  0  2  0  0 13  4  1  0  3  0  0  2 11  0  0  0  1  4  1  0  0  0  2  0  5\n",
       "[326]  2  5  4  2  0  0  0  3  1  2 11 10  0  0 11  1 14  0  6  3  0  2  3  0  0\n",
       "[351] 15  0  0  0  2  0  1  3  0  2  0  1  0  1  0  1  4  0  3  9  0  0  0  9  0\n",
       "[376]  0  2  1  6  2  0  0  1  0  0  0  0  0 12  0  7  0  0  0  1  1  0  0  1  2\n",
       "[401]  1  9  0  1  0  0  0  3  1  1  1  0  0  0  0  0  1  0  0  3  0 13  0  0  0\n",
       "[426]  0  0  0  1  0  0  0  3 10  0  0  2  0  3  0  0  0 10  1  1  0  0  1  0  2\n",
       "[451]  0  0  0  0  0  0  0  0  0 12  0  0  0  0  0  2  0  1 16 14  0  0  1  0  0\n",
       "[476]  0  2  0  0  1  1  2 12  0  0  1  0  0  0  0  0 15  0  3  4  0  0  0  0  1\n",
       "[501]  0  3  0  0  0  0  0 13  0  0  0  0  2  0  0  1  0  0  2  0  0  0 12  0  2\n",
       "[526]  0  1  4  0  2  0  0  1  2 11  6  0  1 14  0  0  0  0  3  0 16  0  0  0  2\n",
       "[551]  0  0  0  1  0  0  1  0  0  0  0  3  0  8  0  1  8  0  2  2  0  0"
      ]
     },
     "metadata": {},
     "output_type": "display_data"
    },
    {
     "data": {
      "image/png": "[encoded data removed]",
      "text/plain": [
       "plot without title"
      ]
     },
     "metadata": {
      "image/png": {
       "height": 420,
       "width": 420
      }
     },
     "output_type": "display_data"
    }
   ],
   "source": [
    "# Density-based clustering algorithm\n",
    "\n",
    "# install.packages('fpc')\n",
    "library(fpc)\n",
    "COMBO_dbs <-  dbscan(COMBO_std, eps=0.1, MinPts=5, method='raw')\n",
    "print.dbscan(COMBO_dbs) ; COMBO_dbs$cluster\n",
    "\n",
    "plot(COMBO_loz[COMBO_dbs$cluster==0,], pch=20, cex=0.7, xlab='M_B (mag)',\n",
    "   ylab='M_280 - M_B (mag)')\n",
    "points(COMBO_loz[COMBO_dbs$cluster==2,], pch=2, cex=1.0, col='blue2')\n",
    "points(COMBO_loz[COMBO_dbs$cluster==1 | COMBO_dbs$cluster==3,], pch=1, cex=1.0, col='orangered3')"
   ]
  },
  {
   "cell_type": "markdown",
   "metadata": {},
   "source": [
    "In the plot above, we set both the color and symbol shapes by the resulting cluster vector. Despite the apparent advantages of DBSCAN over hierarchical clustering, it still has two parameters that must be arbitrarily tuned and often has weak performance.  Here, attempts to include more galaxies in the red sequence or blue cloud resulted in unifying them, as the algorithm reached over the green valley.\n",
    "\n",
    "DBSCAN was improved with a more complicated _hierarchical DBSCAN_ (HDBSCAN) procedure by [Campello et al. 2013](https://doi.org/10.1007/978-3-642-37456-2_14) to give additional dynamic range and ability to separage entangled clusters.  We find here that CRAN function _hdbscan_ immediately identified the principal red sequence and blue cloud groupings, and gathers a reasonable fraction of their members.  No additional clusters are identified.  Various outputs and graphics are provided such as cluster stability scores, outlier scores, and individual cluster membership probabilities. HDBSCAN is one of the top performing nonparametric clustering procedures, and since 2017 has been used in several dozen astronomical studies. \n",
    "\n",
    "\n",
    "**Exercise 2:** Read the help file of DBSCAN and the vignette for HDBSCAN.  Make a color-magnitude diagram highlighting outliers.  "
   ]
  },
  {
   "cell_type": "code",
   "execution_count": 10,
   "metadata": {},
   "outputs": [
    {
     "name": "stderr",
     "output_type": "stream",
     "text": [
      "Warning message:\n",
      "\"package 'dbscan' was built under R version 4.4.3\"\n",
      "\n",
      "Attaching package: 'dbscan'\n",
      "\n",
      "\n",
      "The following object is masked from 'package:fpc':\n",
      "\n",
      "    dbscan\n",
      "\n",
      "\n",
      "The following object is masked from 'package:stats':\n",
      "\n",
      "    as.dendrogram\n",
      "\n",
      "\n"
     ]
    },
    {
     "name": "stdout",
     "output_type": "stream",
     "text": [
      "HDBSCAN clustering for 572 objects.\n",
      "Parameters: minPts = 25\n",
      "The clustering contains 2 cluster(s) and 377 noise points.\n",
      "\n",
      "  0   1   2 \n",
      "377 116  79 \n",
      "\n",
      "Available fields: cluster, minPts, coredist, cluster_scores,\n",
      "                  membership_prob, outlier_scores, hc\n",
      "       1        2 \n",
      "65.48855 51.31885 \n",
      "COMBO-17 galaxy  150  is the most extreme outlier"
     ]
    },
    {
     "data": {
      "image/png": "[encoded data removed]",
      "text/plain": [
       "Plot with title \"HDBSCAN*\""
      ]
     },
     "metadata": {
      "image/png": {
       "height": 420,
       "width": 420
      }
     },
     "output_type": "display_data"
    },
    {
     "data": {
      "image/png": "[encoded data removed]",
      "text/plain": [
       "Plot with title \"Cluster Dendrogram\""
      ]
     },
     "metadata": {
      "image/png": {
       "height": 420,
       "width": 420
      }
     },
     "output_type": "display_data"
    }
   ],
   "source": [
    "library(dbscan)\n",
    "COMBO_hdbs <-  hdbscan(COMBO_std, minPts=25)\n",
    "print(COMBO_hdbs) \n",
    "print(COMBO_hdbs$cluster_scores)\n",
    "cat('COMBO-17 galaxy ', which.max(COMBO_hdbs$outlier_scores), ' is the most extreme outlier')\n",
    "\n",
    "plot(COMBO_hdbs)\n",
    "plot(COMBO_hdbs$hc)"
   ]
  },
  {
   "cell_type": "markdown",
   "metadata": {},
   "source": [
    "In conclusion, it was difficult to get standard nonparametric clustering algorithms perform well, even in relatively simple situations. Results differ with choice of method, clustering parameters had to be carefully tuned, and even then the results may not very satisfactory.  In our case here, simple kernel smoothing did a better job in showing the structure, although it does not define cluster membership. \n",
    "\n",
    "Astronomers most commonly use single-linkage hierarchical clustering, nicknamed the _friends-of-friends_ algorithm.  It has been used in nearly 4000 studies in the past three decades.  This is perhaps the worst choice because, it has been long established, single-linkage spuriously _chains_ together unrelated groupings in the presence of noise.  It is most effective in identifying outliers in multivariate datasets. \n",
    "\n",
    "**Exercise 3:** Apply one of the recent (2008) best-performing clustering algorithms called _t-distributed stochastic neighbor embedding_ or more briefly, _t-SNE_.  It is implemented in CRAN packages _tsne_, _Rtsne_, _M3C_, and _mmtsne_.  For background and cookbooks, see tutorials [here](https://towardsdatascience.com/t-sne-clearly-explained-d84c537f53a), [here](https://www.r-bloggers.com/2019/05/quick-and-easy-t-sne-analysis-in-r/) and [here](https://www.analyticsvidhya.com/blog/2017/01/t-sne-implementation-r-python/) "
   ]
  },
  {
   "cell_type": "markdown",
   "metadata": {},
   "source": [
    "### III Parametric clustering procedures\n",
    "\n",
    "We do not have time in this tutorial to present model-based clustering methods, mostly commonly _Gaussian mixture models_.  Here the astronomer must assume that the cluster shapes follow multivariate normal distributions. Optimal solutions are found by maximum likelihood estimation with $k$, the number of clusters, chosen by optimizing the Bayesian Information Criterion. The calculation can be challenging; a dataset with 6 variables and 5 clusters, for example, will have a 61-dimensional likelihood function (6 means and 6 standard deviations for each cluster, and _k_)\n",
    "\n",
    "The result of parametric clustering analysis is often satisfying. Best fit parameters give the mean location and standard deviation of each cluster in each variable.  Each object\\`s membership probability in each cluster is available.  Residual analysis can reveal structure missing from the model.  \n",
    "\n",
    "The basic text for GMMs is _Finite Mixture Models_ ([McLachlan & Peel 2000](http://dx.doi.org/10.1002/0471721182), 11K citations). The volume _Model-based Clustering and Classification for Data Science_ ([Bouveyron et al. 2019)](https://www.cambridge.org/us/academic/subjects/statistics-probability/statistical-theory-and-methods/model-based-clustering-and-classification-data-science-applications-r?format=AR&isbn=9781108640596) gives sophisticated extensions to the standard procedure, discussing strengths and pitfalls of applying GMMs in the R/CRAN environment. Review articles on GMMs, including on astronomical usage, appear in the [_CRC Handbook of Mixture Analysis_ (2020)](https://www.routledge.com/Handbook-of-Mixture-Analysis/Fruhwirth-Schnatter-Celeux-Robert/p/book/9780367732066). \n",
    "\n",
    "**Exercise 4:** Run _mclust_ on the COMBO-17 color-magnitude diagram.  Follow the procedures in Chapters 2 and 3 of Bouveyron\\`s book.  "
   ]
  },
  {
   "cell_type": "markdown",
   "metadata": {},
   "source": [
    "### IV Supervised classification methods\n",
    "\n",
    "We next apply a number of important supervised classifiers to the problem of classifying point sources in the Sloan Digital Sky Survey into three groups: normal stars, white dwarf stars, and quasars that appear star-like but are actually distant extragalactic objects.  We treat the problem in four dimensions of color indices between the five Sloan photometric bands.  Note that we could add other variables, such as magnitude in a fiducial band and location in the sky.  \n",
    "\n",
    "In the script below, we first ingest a `test set` of ~12,000 point sources from the Sloan Digital Sky Survey, and then three `training sets`: 2000 quasars, 2000 white dwarfs, and 5000 main sequence and giant stars.  The training samples are based on tedious spectroscopic confirmation with other telescopes. We combine the three training sets into a single R data.frame with a new column giving the known cluster identifiers (1=quasar, 2=star, 3=white dwarf).  We then divide the traing set into 80% for designing the classifiers and 20% for validation. Our science goal is to classify the test dataset based on the best classifiers."
   ]
  },
  {
   "cell_type": "markdown",
   "metadata": {},
   "source": [
    "We first create and plot 2D projections of the test set data frame.  Then we combine the three training sets into a single R data.frame with a new column giving the known cluster identifiers (1=quasar, 2=star, 3=white dwarf). Our science goal is to classify the test dataset based on the best classifiers we can generate from the training sets.   "
   ]
  },
  {
   "cell_type": "code",
   "execution_count": 3,
   "metadata": {},
   "outputs": [
    {
     "data": {
      "text/html": [
       "<style>\n",
       ".list-inline {list-style: none; margin:0; padding: 0}\n",
       ".list-inline>li {display: inline-block}\n",
       ".list-inline>li:not(:last-child)::after {content: \"\\00b7\"; padding: 0 .5ex}\n",
       "</style>\n",
       "<ol class=list-inline><li>12884</li><li>7</li></ol>\n"
      ],
      "text/latex": [
       "\\begin{enumerate*}\n",
       "\\item 12884\n",
       "\\item 7\n",
       "\\end{enumerate*}\n"
      ],
      "text/markdown": [
       "1. 12884\n",
       "2. 7\n",
       "\n",
       "\n"
      ],
      "text/plain": [
       "[1] 12884     7"
      ]
     },
     "metadata": {},
     "output_type": "display_data"
    },
    {
     "data": {
      "text/plain": [
       "     u_mag           g_mag           r_mag           i_mag      \n",
       " Min.   :16.27   Min.   :15.14   Min.   :15.12   Min.   :15.01  \n",
       " 1st Qu.:18.82   1st Qu.:17.35   1st Qu.:16.65   1st Qu.:16.33  \n",
       " Median :19.79   Median :18.27   Median :17.66   Median :17.46  \n",
       " Mean   :19.55   Mean   :18.22   Mean   :17.69   Mean   :17.48  \n",
       " 3rd Qu.:20.44   3rd Qu.:19.15   3rd Qu.:18.78   3rd Qu.:18.64  \n",
       " Max.   :21.00   Max.   :20.92   Max.   :20.84   Max.   :20.56  \n",
       "     z_mag             ra             dec       \n",
       " Min.   :15.00   Min.   :180.0   Min.   :20.00  \n",
       " 1st Qu.:16.19   1st Qu.:181.2   1st Qu.:21.20  \n",
       " Median :17.36   Median :182.5   Median :22.42  \n",
       " Mean   :17.39   Mean   :182.5   Mean   :22.45  \n",
       " 3rd Qu.:18.58   3rd Qu.:183.8   3rd Qu.:23.69  \n",
       " Max.   :20.33   Max.   :185.0   Max.   :25.00  "
      ]
     },
     "metadata": {},
     "output_type": "display_data"
    },
    {
     "name": "stdout",
     "output_type": "stream",
     "text": [
      "'data.frame':\t12884 obs. of  4 variables:\n",
      " $ u_g: num  2.331 0.912 1.166 2.153 0.96 ...\n",
      " $ g_r: num  0.96 0.308 0.412 0.94 0.398 ...\n",
      " $ r_i: num  0.351 0.108 0.159 0.338 0.131 ...\n",
      " $ i_z: num  0.1854 0.0544 0.0714 0.1681 0.0507 ...\n"
     ]
    },
    {
     "data": {
      "image/png": "[encoded data removed]",
      "text/plain": [
       "Plot with title \"\""
      ]
     },
     "metadata": {
      "image/png": {
       "height": 420,
       "width": 420
      }
     },
     "output_type": "display_data"
    }
   ],
   "source": [
    "# SDSS point sources test dataset, N=17,000 (mag<21, point sources, hi-qual)\n",
    "\n",
    "SDSS <- read.csv('SDSS_test.csv', h=T)\n",
    "dim(SDSS) ; summary(SDSS)\n",
    "SDSS_test <- data.frame(  # create data frame of SDSS colors\n",
    "    u_g = SDSS$u_mag - SDSS$g_mag,\n",
    "    g_r = SDSS$g_mag - SDSS$r_mag,\n",
    "    r_i = SDSS$r_mag - SDSS$i_mag,\n",
    "    i_z = SDSS$i_mag - SDSS$z_mag\n",
    "    )\n",
    "names(SDSS_test) <- c('u_g', 'g_r', 'r_i', 'i_z')\n",
    "str(SDSS_test) \n",
    "\n",
    "par(mfrow=c(1,3))  # plot test set in black because labels are not yet established\n",
    "plot(SDSS_test[,1], SDSS_test[,2], xlim=c(-0.7,3), ylim=c(-0.7,1.8),pch=20, \n",
    "\tcex=0.6, cex.lab=1.5, cex.axis=1.5, main='Test dataset', xlab='u-g (mag)', ylab='g-r (mag)') \n",
    "plot(SDSS_test[,2], SDSS_test[,3], xlim=c(-0.7,1.8), ylim=c(-0.7,1.8), pch=20, \n",
    "\tcex=0.6, cex.lab=1.5, cex.axis=1.5, main='', xlab='g-r (mag)', ylab='r-i (mag)') \n",
    "plot(SDSS_test[,3], SDSS_test[,4], xlim=c(-0.7,1.8), ylim=c(-1.1,1.3), pch=20, \n",
    "\tcex=0.6, cex.lab=1.5, cex.axis=1.5, main='', xlab='r-i (mag)', ylab='i-z (mag)') \n",
    "par(mfrow=c(1,1))"
   ]
  },
  {
   "cell_type": "code",
   "execution_count": 4,
   "metadata": {},
   "outputs": [
    {
     "data": {
      "text/html": [
       "<style>\n",
       ".list-inline {list-style: none; margin:0; padding: 0}\n",
       ".list-inline>li {display: inline-block}\n",
       ".list-inline>li:not(:last-child)::after {content: \"\\00b7\"; padding: 0 .5ex}\n",
       "</style>\n",
       "<ol class=list-inline><li>77429</li><li>15</li></ol>\n"
      ],
      "text/latex": [
       "\\begin{enumerate*}\n",
       "\\item 77429\n",
       "\\item 15\n",
       "\\end{enumerate*}\n"
      ],
      "text/markdown": [
       "1. 77429\n",
       "2. 15\n",
       "\n",
       "\n"
      ],
      "text/plain": [
       "[1] 77429    15"
      ]
     },
     "metadata": {},
     "output_type": "display_data"
    },
    {
     "data": {
      "text/plain": [
       "     SDSS                 z              u_mag         sig_u_mag      \n",
       " Length:77429       Min.   :0.0780   Min.   : 0.00   Min.   :0.00000  \n",
       " Class :character   1st Qu.:0.9555   1st Qu.:19.09   1st Qu.:0.02800  \n",
       " Mode  :character   Median :1.4820   Median :19.58   Median :0.03700  \n",
       "                    Mean   :1.5375   Mean   :19.82   Mean   :0.08947  \n",
       "                    3rd Qu.:1.9303   3rd Qu.:20.30   3rd Qu.:0.05500  \n",
       "                    Max.   :5.4135   Max.   :26.79   Max.   :9.99900  \n",
       "     g_mag         sig_g_mag           r_mag         sig_r_mag      \n",
       " Min.   : 0.00   Min.   :0.00000   Min.   : 0.00   Min.   :0.00000  \n",
       " 1st Qu.:18.86   1st Qu.:0.01900   1st Qu.:18.69   1st Qu.:0.01700  \n",
       " Median :19.30   Median :0.02300   Median :19.12   Median :0.02000  \n",
       " Mean   :19.35   Mean   :0.02653   Mean   :19.12   Mean   :0.02238  \n",
       " 3rd Qu.:19.95   3rd Qu.:0.02800   3rd Qu.:19.71   3rd Qu.:0.02500  \n",
       " Max.   :26.42   Max.   :1.49900   Max.   :22.54   Max.   :8.44500  \n",
       "     i_mag         sig_i_mag           z_mag         sig_z_mag      \n",
       " Min.   : 0.00   Min.   :0.00000   Min.   : 0.00   Min.   :0.00000  \n",
       " 1st Qu.:18.58   1st Qu.:0.01800   1st Qu.:18.48   1st Qu.:0.03300  \n",
       " Median :18.99   Median :0.02200   Median :18.91   Median :0.04500  \n",
       " Mean   :18.97   Mean   :0.02464   Mean   :18.88   Mean   :0.05563  \n",
       " 3rd Qu.:19.56   3rd Qu.:0.02800   3rd Qu.:19.45   3rd Qu.:0.06800  \n",
       " Max.   :22.36   Max.   :6.44300   Max.   :22.68   Max.   :9.99900  \n",
       "     FIRST           ROSAT              Mp        \n",
       " Min.   :-1.00   Min.   :-9.000   Min.   :-30.27  \n",
       " 1st Qu.: 0.00   1st Qu.:-9.000   1st Qu.:-26.42  \n",
       " Median : 0.00   Median :-9.000   Median :-25.59  \n",
       " Mean   : 1.06   Mean   :-8.599   Mean   :-25.41  \n",
       " 3rd Qu.: 0.00   3rd Qu.:-9.000   3rd Qu.:-24.57  \n",
       " Max.   :16.40   Max.   : 0.139   Max.   :-22.00  "
      ]
     },
     "metadata": {},
     "output_type": "display_data"
    },
    {
     "data": {
      "text/html": [
       "<style>\n",
       ".list-inline {list-style: none; margin:0; padding: 0}\n",
       ".list-inline>li {display: inline-block}\n",
       ".list-inline>li:not(:last-child)::after {content: \"\\00b7\"; padding: 0 .5ex}\n",
       "</style>\n",
       "<ol class=list-inline><li>2000</li><li>5</li></ol>\n"
      ],
      "text/latex": [
       "\\begin{enumerate*}\n",
       "\\item 2000\n",
       "\\item 5\n",
       "\\end{enumerate*}\n"
      ],
      "text/markdown": [
       "1. 2000\n",
       "2. 5\n",
       "\n",
       "\n"
      ],
      "text/plain": [
       "[1] 2000    5"
      ]
     },
     "metadata": {},
     "output_type": "display_data"
    },
    {
     "data": {
      "text/plain": [
       "      u_g               g_r                r_i               i_z         \n",
       " Min.   :-0.7380   Min.   :-0.75500   Min.   :-0.4790   Min.   :-1.0850  \n",
       " 1st Qu.: 0.1270   1st Qu.: 0.07675   1st Qu.: 0.0350   1st Qu.:-0.0140  \n",
       " Median : 0.2610   Median : 0.17850   Median : 0.1430   Median : 0.0840  \n",
       " Mean   : 0.4281   Mean   : 0.23775   Mean   : 0.1553   Mean   : 0.1020  \n",
       " 3rd Qu.: 0.4520   3rd Qu.: 0.31400   3rd Qu.: 0.2580   3rd Qu.: 0.2023  \n",
       " Max.   : 5.3580   Max.   : 4.26500   Max.   : 1.8030   Max.   : 1.1360  \n",
       "     Class  \n",
       " Min.   :1  \n",
       " 1st Qu.:1  \n",
       " Median :1  \n",
       " Mean   :1  \n",
       " 3rd Qu.:1  \n",
       " Max.   :1  "
      ]
     },
     "metadata": {},
     "output_type": "display_data"
    },
    {
     "data": {
      "text/html": [
       "<style>\n",
       ".list-inline {list-style: none; margin:0; padding: 0}\n",
       ".list-inline>li {display: inline-block}\n",
       ".list-inline>li:not(:last-child)::after {content: \"\\00b7\"; padding: 0 .5ex}\n",
       "</style>\n",
       "<ol class=list-inline><li>5000</li><li>7</li></ol>\n"
      ],
      "text/latex": [
       "\\begin{enumerate*}\n",
       "\\item 5000\n",
       "\\item 7\n",
       "\\end{enumerate*}\n"
      ],
      "text/markdown": [
       "1. 5000\n",
       "2. 7\n",
       "\n",
       "\n"
      ],
      "text/plain": [
       "[1] 5000    7"
      ]
     },
     "metadata": {},
     "output_type": "display_data"
    },
    {
     "data": {
      "text/plain": [
       "     u_mag           g_mag           r_mag           i_mag      \n",
       " Min.   :16.17   Min.   :15.01   Min.   :15.10   Min.   :15.00  \n",
       " 1st Qu.:17.93   1st Qu.:16.59   1st Qu.:16.00   1st Qu.:15.71  \n",
       " Median :18.61   Median :17.16   Median :16.49   Median :16.21  \n",
       " Mean   :18.60   Mean   :17.07   Mean   :16.47   Mean   :16.24  \n",
       " 3rd Qu.:19.21   3rd Qu.:17.62   3rd Qu.:16.96   3rd Qu.:16.75  \n",
       " Max.   :20.74   Max.   :18.00   Max.   :17.88   Max.   :17.93  \n",
       "     z_mag             ra             dec       \n",
       " Min.   :15.00   Min.   :190.0   Min.   :20.00  \n",
       " 1st Qu.:15.57   1st Qu.:191.2   1st Qu.:21.33  \n",
       " Median :16.09   Median :192.3   Median :22.57  \n",
       " Mean   :16.13   Mean   :192.4   Mean   :22.53  \n",
       " 3rd Qu.:16.67   3rd Qu.:193.5   3rd Qu.:23.75  \n",
       " Max.   :17.92   Max.   :195.0   Max.   :25.00  "
      ]
     },
     "metadata": {},
     "output_type": "display_data"
    },
    {
     "data": {
      "text/html": [
       "<style>\n",
       ".list-inline {list-style: none; margin:0; padding: 0}\n",
       ".list-inline>li {display: inline-block}\n",
       ".list-inline>li:not(:last-child)::after {content: \"\\00b7\"; padding: 0 .5ex}\n",
       "</style>\n",
       "<ol class=list-inline><li>5000</li><li>5</li></ol>\n"
      ],
      "text/latex": [
       "\\begin{enumerate*}\n",
       "\\item 5000\n",
       "\\item 5\n",
       "\\end{enumerate*}\n"
      ],
      "text/markdown": [
       "1. 5000\n",
       "2. 5\n",
       "\n",
       "\n"
      ],
      "text/plain": [
       "[1] 5000    5"
      ]
     },
     "metadata": {},
     "output_type": "display_data"
    },
    {
     "data": {
      "text/html": [
       "<style>\n",
       ".list-inline {list-style: none; margin:0; padding: 0}\n",
       ".list-inline>li {display: inline-block}\n",
       ".list-inline>li:not(:last-child)::after {content: \"\\00b7\"; padding: 0 .5ex}\n",
       "</style>\n",
       "<ol class=list-inline><li>10090</li><li>8</li></ol>\n"
      ],
      "text/latex": [
       "\\begin{enumerate*}\n",
       "\\item 10090\n",
       "\\item 8\n",
       "\\end{enumerate*}\n"
      ],
      "text/markdown": [
       "1. 10090\n",
       "2. 8\n",
       "\n",
       "\n"
      ],
      "text/plain": [
       "[1] 10090     8"
      ]
     },
     "metadata": {},
     "output_type": "display_data"
    },
    {
     "data": {
      "text/plain": [
       "   Sp_Class             u_mag           g_mag           r_mag      \n",
       " Length:10090       Min.   :14.34   Min.   :14.40   Min.   :14.80  \n",
       " Class :character   1st Qu.:18.70   1st Qu.:18.51   1st Qu.:18.66  \n",
       " Mode  :character   Median :19.45   Median :19.18   Median :19.34  \n",
       "                    Mean   :19.30   Mean   :19.07   Mean   :19.24  \n",
       "                    3rd Qu.:20.09   3rd Qu.:19.84   3rd Qu.:20.03  \n",
       "                    Max.   :25.42   Max.   :24.60   Max.   :21.42  \n",
       "                    NA's   :51      NA's   :51      NA's   :51     \n",
       "     i_mag           z_mag             RA                Dec          \n",
       " Min.   :15.05   Min.   :14.61   Min.   :  0.0281   Min.   :-11.2213  \n",
       " 1st Qu.:18.72   1st Qu.:18.82   1st Qu.:127.6162   1st Qu.:  0.9765  \n",
       " Median :19.49   Median :19.68   Median :162.1437   Median : 26.1647  \n",
       " Mean   :19.37   Mean   :19.52   Mean   :170.1749   Mean   : 24.9160  \n",
       " 3rd Qu.:20.20   3rd Qu.:20.37   3rd Qu.:223.8422   3rd Qu.: 45.3437  \n",
       " Max.   :24.36   Max.   :22.92   Max.   :359.9612   Max.   : 68.6740  \n",
       " NA's   :51      NA's   :51                                           "
      ]
     },
     "metadata": {},
     "output_type": "display_data"
    },
    {
     "data": {
      "text/html": [
       "<style>\n",
       ".list-inline {list-style: none; margin:0; padding: 0}\n",
       ".list-inline>li {display: inline-block}\n",
       ".list-inline>li:not(:last-child)::after {content: \"\\00b7\"; padding: 0 .5ex}\n",
       "</style>\n",
       "<ol class=list-inline><li>2000</li><li>5</li></ol>\n"
      ],
      "text/latex": [
       "\\begin{enumerate*}\n",
       "\\item 2000\n",
       "\\item 5\n",
       "\\end{enumerate*}\n"
      ],
      "text/markdown": [
       "1. 2000\n",
       "2. 5\n",
       "\n",
       "\n"
      ],
      "text/plain": [
       "[1] 2000    5"
      ]
     },
     "metadata": {},
     "output_type": "display_data"
    },
    {
     "name": "stdout",
     "output_type": "stream",
     "text": [
      "'data.frame':\t9000 obs. of  5 variables:\n",
      " $ u_g  : num  -0.079 0.033 0.11 0.325 0.22 ...\n",
      " $ g_r  : num  0.136 0.255 0.425 0.448 0.049 ...\n",
      " $ r_i  : num  0.233 0.454 0.221 0.114 0.189 ...\n",
      " $ i_z  : num  0.046 0.3 -0.158 0.221 0.04 ...\n",
      " $ Class: num  1 1 1 1 1 1 1 1 1 1 ...\n"
     ]
    },
    {
     "data": {
      "image/png": "[encoded data removed]",
      "text/plain": [
       "Plot with title \"\""
      ]
     },
     "metadata": {
      "image/png": {
       "height": 420,
       "width": 420
      }
     },
     "output_type": "display_data"
    }
   ],
   "source": [
    "# Quasar training set, N=2000 (Class 1)\n",
    " \n",
    "qso1 <- read.table('SDSS_QSO.dat', h=T)  \n",
    "dim(qso1) ; summary(qso1)\n",
    "bad_phot_qso <- which(qso1[,c(3,5,7,9,11)] > 21.0 | qso1[,3]==0)  # identify bad photometry\n",
    "qso2 <- qso1[1:2000,-bad_phot_qso,]  # remove bad photometry\n",
    "qso3 <- cbind((qso2[,3]-qso2[,5]), (qso2[,5]-qso2[,7]), (qso2[,7]-qso2[,9]), (qso2[,9]-qso2[,11])) # cbind concatenates colums\n",
    "qso_train <- data.frame(cbind(qso3, rep(1, length(qso3[,1]))))\n",
    "names(qso_train) <- c('u_g', 'g_r', 'r_i', 'i_z', 'Class')\n",
    "dim(qso_train) ; summary(qso_train) \n",
    "\n",
    "# Star training set, N=5000 (Class 2)\n",
    "\n",
    "temp2 <- read.csv('SDSS_stars.csv', h=T)\n",
    "dim(temp2) ; summary(temp2) \n",
    "star <- cbind((temp2[,1]-temp2[,2]), (temp2[,2]-temp2[,3]), (temp2[,3]-temp2[,4]), \n",
    "\t(temp2[,4]-temp2[,5]))\n",
    "star_train <- data.frame(cbind(star, rep(2, length(star[,1]))))\n",
    "names(star_train) <- c('u_g','g_r','r_i','i_z','Class')\n",
    "dim(star_train)  \n",
    "\n",
    "# White dwarf training set, N=2000 (Class 3)\n",
    "\n",
    "temp3 <- read.csv('SDSS_wd.csv', h=T)\n",
    "dim(temp3) ; summary(temp3)\n",
    "temp3 <- na.omit(temp3)  # remove objects with missing data\n",
    "wd <- cbind((temp3[1:2000,2]-temp3[1:2000,3]), (temp3[1:2000,3]-temp3[1:2000,4]),\n",
    "\t(temp3[1:2000,4]-temp3[1:2000,5]), (temp3[1:2000,5]-temp3[1:2000,6]))\n",
    "wd_train <- data.frame(cbind(wd, rep(3, length(wd[,1]))))\n",
    "names(wd_train) <- c('u_g', 'g_r', 'r_i', 'i_z', 'Class')\n",
    "dim(wd_train) \n",
    "\n",
    "# Combine and plot the training set (9000 objects)\n",
    "\n",
    "SDSS_train <- data.frame(rbind(qso_train, star_train, wd_train))  # rbind concatenates rows\n",
    "names(SDSS_train) <- c('u_g', 'g_r', 'r_i', 'i_z', 'Class')\n",
    "str(SDSS_train)\n",
    "\n",
    "par(mfrow=c(1,3))  # plot training set in colors representing labeled classes\n",
    "plot(SDSS_train[,1], SDSS_train[,2], xlim=c(-0.7,3), ylim=c(-0.7,1.8), pch=20, \n",
    "   \tcol=SDSS_train[,5], cex=0.6, cex.lab=1.6, cex.axis=1.6, main='Training dataset', xlab='u-g (mag)',\n",
    "   \tylab='g-r (mag)')\n",
    "legend(-0.5, 1.7, c('QSO','MS + RG','WD'), pch=20, col=c('black','red','green'), \n",
    "\tcex=0.8)\n",
    "plot(SDSS_train[,2], SDSS_train[,3], xlim=c(-0.7,1.8), ylim=c(-0.7,1.8), pch=20, \n",
    "\tcol=SDSS_train[,5], cex=0.6, cex.lab=1.6, cex.axis=1.6, main='', xlab='g-r (mag)',\n",
    "\tylab='r-i (mag)') \n",
    "plot(SDSS_train[,3], SDSS_train[,4], xlim=c(-0.7,1.8), ylim=c(-1.1,1.3), pch=20, \n",
    "\tcol=SDSS_train[,5], cex=0.6, cex.lab=1.6, cex.axis=1.6, main='', xlab='r-i (mag)',\n",
    "\tylab='i-z (mag)') \n",
    "par(mfrow=c(1,1))"
   ]
  },
  {
   "cell_type": "markdown",
   "metadata": {},
   "source": [
    "To assist with evaluation of different classifiers, let's make a function that prints and plots the `confusion matrix` showing the number of objects correctly and incorrectly classified.  The `accuracy` value summarizes the classifier's performance ... we want it to be as close to 1.00 as possible."
   ]
  },
  {
   "cell_type": "code",
   "execution_count": 5,
   "metadata": {},
   "outputs": [],
   "source": [
    "## Function to evaluate classification performance\n",
    "\n",
    "class_eval <- function(pred, act, plot=TRUE, ...){\n",
    "  iact <- as.integer(act)\n",
    "  ipred <- as.integer(pred)\n",
    "  acc <- sum(ipred==iact)/length(iact)  # accuracy\n",
    "  if (isTRUE(plot)){\n",
    "    plot(jitter(ipred), jitter(iact), pch=20, cex=0.5, xlab='Predicted Class', ylab='True class',lab=c(3,3,1), ...)\n",
    "    mtext(paste(\"Accuracy =\", round(acc, 3)))\n",
    "  }\n",
    "  return(list(\"Confusion Table\"=table(\"True Class\"=iact, \"Predicted Class\"=ipred), Accuracy=acc))\n",
    "}"
   ]
  },
  {
   "cell_type": "markdown",
   "metadata": {},
   "source": [
    "We will use 80% of the training set for classification, and save 20% of the training set for classifier validation."
   ]
  },
  {
   "cell_type": "code",
   "execution_count": 6,
   "metadata": {},
   "outputs": [],
   "source": [
    "## Copy original full dataset before splitting\n",
    "\n",
    "SDSS_train_full <- SDSS_train\n",
    "\n",
    "set.seed(456)\n",
    "## Save 20% of training set for validation\n",
    "\n",
    "val_set <- sample(nrow(SDSS_train), round(nrow(SDSS_train)*0.2))\n",
    "SDSS_val <- SDSS_train_full[val_set,]\n",
    "SDSS_train <- SDSS_train_full[-val_set,]"
   ]
  },
  {
   "cell_type": "markdown",
   "metadata": {},
   "source": [
    "Before supervised classification, we make two tests.  First, we show that random classification assignments will give an accuracy of 0.33 for three classes.  This is obvious.  Second, we try an unsupervised clustering algorithm, _k_-means partitioning.  Since clustering algorithms performed poorly for the simpler `red sequence` vs. `blue cloud` galaxy groups above, we do not expect them to do well discriminating these overlapping, multivariate distributions with very non-Gaussian morphologies. The k-means procedure did not begin to separate the groups until k>5, but then it created false groupings amoung the normal stars.  Altogether, k-means partitioning does a terrible job separating the three classes.  "
   ]
  },
  {
   "cell_type": "code",
   "execution_count": 7,
   "metadata": {},
   "outputs": [
    {
     "data": {
      "text/plain": [
       "$`Confusion Table`\n",
       "          Predicted Class\n",
       "True Class    1    2    3\n",
       "         1  534  538  548\n",
       "         2 1298 1350 1327\n",
       "         3  517  505  583\n",
       "\n",
       "$Accuracy\n",
       "[1] 0.3426389\n"
      ]
     },
     "metadata": {},
     "output_type": "display_data"
    },
    {
     "data": {
      "image/png": "[encoded data removed]",
      "text/plain": [
       "Plot with title \"Random Assignment\""
      ]
     },
     "metadata": {
      "image/png": {
       "height": 420,
       "width": 420
      }
     },
     "output_type": "display_data"
    }
   ],
   "source": [
    "## Test of classification evaluation:  random class assignment\n",
    "\n",
    "set.seed(123)\n",
    "SDSS_rand_train_pred <- sample(1:3, nrow(SDSS_train), replace=T)\n",
    "par(mfcol=c(1, 1))\n",
    "class_eval(SDSS_rand_train_pred, SDSS_train$Class, main=\"Random Assignment\")"
   ]
  },
  {
   "cell_type": "code",
   "execution_count": 8,
   "metadata": {},
   "outputs": [
    {
     "name": "stdout",
     "output_type": "stream",
     "text": [
      "        u_g       g_r       r_i        i_z\n",
      "1 1.6365561 0.6432205 0.2381446 0.11779682\n",
      "2 1.2446618 0.4791033 0.1789148 0.07376040\n",
      "3 2.1210677 0.8793441 0.3235147 0.17722784\n",
      "4 0.2127615 0.1093339 0.1071319 0.06311290\n",
      "5 0.9477955 0.3098127 0.1121333 0.03197583\n",
      "6 2.5279625 1.2482220 0.5861947 0.31537507\n"
     ]
    },
    {
     "data": {
      "image/png": "[encoded data removed]",
      "text/plain": [
       "plot without title"
      ]
     },
     "metadata": {
      "image/png": {
       "height": 420,
       "width": 420
      }
     },
     "output_type": "display_data"
    }
   ],
   "source": [
    "# Unsupervised k-means partitioning\n",
    "\n",
    "SDSS.kmean <- kmeans(SDSS_test,6)\n",
    "print(SDSS.kmean$centers)\n",
    "plot(SDSS_test[,1], SDSS_test[,2], pch=20, cex=0.3, col=gray(SDSS.kmean$cluster/7), \n",
    "   xlab='u-g (mag)', ylab='g-r (mag)', xlim=c(-0.5,3), ylim=c(-0.6,1.5)) "
   ]
  },
  {
   "cell_type": "markdown",
   "metadata": {},
   "source": [
    "We now proceed with six multivariate classifiers commonly used in data mining: linear discriminant analysis; _k_-nearest neighbor classification; a simple neural network; Classification And Regression Trees; CART with Random Forests; and Support Vector Machine.  \n",
    "\n",
    "The R script is similar for each of the classification methods.  We first bring the classifier into our R session, run it on the 80% training dataset, and save the results in an R object. We then produce two plots: one of the Sloan color-color diagrams with colors based on the new classifications; and a confusion matrix plot showing the predicted classes vs. the known classes for the 20% validation dataset. In some cases, we use R's `predict` function to apply the classifier to new datasets.    \n",
    "\n",
    "**Exercise 5:** As you proceed with each classifier, read the help files and run _str_, _print_ and _plot_ on the output of these classifiers gain some understanding of its functioning."
   ]
  },
  {
   "cell_type": "code",
   "execution_count": 9,
   "metadata": {},
   "outputs": [
    {
     "name": "stderr",
     "output_type": "stream",
     "text": [
      "Warning message:\n",
      "\"package 'MASS' was built under R version 4.4.3\"\n"
     ]
    },
    {
     "data": {
      "image/png": "[encoded data removed]",
      "text/plain": [
       "Plot with title \"\""
      ]
     },
     "metadata": {
      "image/png": {
       "height": 420,
       "width": 420
      }
     },
     "output_type": "display_data"
    },
    {
     "data": {
      "text/plain": [
       "$`Confusion Table`\n",
       "          Predicted Class\n",
       "True Class    1    2    3\n",
       "         1  317   30   33\n",
       "         2    2 1021    2\n",
       "         3   63    3  329\n",
       "\n",
       "$Accuracy\n",
       "[1] 0.9261111\n"
      ]
     },
     "metadata": {},
     "output_type": "display_data"
    },
    {
     "data": {
      "image/png": "[encoded data removed]",
      "text/plain": [
       "Plot with title \"LDA Classification\""
      ]
     },
     "metadata": {
      "image/png": {
       "height": 420,
       "width": 420
      }
     },
     "output_type": "display_data"
    }
   ],
   "source": [
    "# Linear discriminant analysis\n",
    "\n",
    "library(MASS)\n",
    "SDSS_lda <- lda(SDSS_train[,1:4], as.factor(SDSS_train[,5]))\n",
    "SDSS_lda_train_pred <- predict(SDSS_lda)$class\n",
    "SDSS_lda_val_pred <- predict(SDSS_lda, SDSS_val[,1:4])$class\n",
    "SDSS_lda_test_pred <- predict(SDSS_lda, SDSS_test[,1:4])$class\n",
    "\n",
    "\n",
    "plot(SDSS_val[,1],SDSS_val[,2], xlim=c(-0.7,3), ylim=c(-0.7,1.8), pch=20,\n",
    "     col=SDSS_lda_val_pred, cex=0.5, main='', xlab='u-g (mag)', ylab='g-r (mag)')\n",
    "\n",
    "class_eval(SDSS_lda_val_pred, SDSS_val$Class, main=\"LDA Classification\")"
   ]
  },
  {
   "cell_type": "markdown",
   "metadata": {},
   "source": [
    "Surprisingly, linear discriminant analysis did not do poorly, even though it is limited to single 4-dimensional a hyperplane that optimally separates the classes assuming multivariate normal distributions.  Even though the shapes are far from normal, and the separators are not linear, the classification accuracy is 93%.  "
   ]
  },
  {
   "cell_type": "code",
   "execution_count": 10,
   "metadata": {},
   "outputs": [
    {
     "name": "stderr",
     "output_type": "stream",
     "text": [
      "Warning message:\n",
      "\"package 'class' was built under R version 4.4.3\"\n"
     ]
    },
    {
     "data": {
      "image/png": "[encoded data removed]",
      "text/plain": [
       "Plot with title \"\""
      ]
     },
     "metadata": {
      "image/png": {
       "height": 420,
       "width": 420
      }
     },
     "output_type": "display_data"
    },
    {
     "data": {
      "text/plain": [
       "$`Confusion Table`\n",
       "          Predicted Class\n",
       "True Class    1    2    3\n",
       "         1  362    6   12\n",
       "         2    2 1022    1\n",
       "         3   13    1  381\n",
       "\n",
       "$Accuracy\n",
       "[1] 0.9805556\n"
      ]
     },
     "metadata": {},
     "output_type": "display_data"
    },
    {
     "data": {
      "image/png": "[encoded data removed]",
      "text/plain": [
       "Plot with title \"kNN Classification\""
      ]
     },
     "metadata": {
      "image/png": {
       "height": 420,
       "width": 420
      }
     },
     "output_type": "display_data"
    }
   ],
   "source": [
    "# k-nn classification\n",
    "\n",
    "library(class)\n",
    "SDSS_knn_test_pred <- knn(SDSS_train[,1:4], SDSS_test, as.factor(SDSS_train[,5]), k=5, prob=T)\n",
    "SDSS_knn_val_pred <- knn(SDSS_train[,1:4], SDSS_val[,1:4], as.factor(SDSS_train[,5]), k=5, prob=T)\n",
    "\n",
    "plot(SDSS_val[,1], SDSS_val[,2], xlim=c(-0.7,3), ylim=c(-0.7,1.8), pch=20,\n",
    "     col=SDSS_knn_val_pred, cex=0.5, main='', xlab='u-g (mag)', ylab='g-r (mag)')\n",
    "\n",
    "class_eval(SDSS_knn_val_pred, SDSS_val$Class, main=\"kNN Classification\")"
   ]
  },
  {
   "cell_type": "markdown",
   "metadata": {},
   "source": [
    "Here we see that the _k_-nearest neighbor algorithm -- a simple voting procedure among neighbors in 4-dimensional color space -- performed very well for this classification problem with only 2% misclassifications. Note that k-NN (like LDA and some other classifiers) depend on a distance matrix.  This makes sense when (as in this case) all variables have the same units and similar range, but can be problematic when variables of very different units and ranges are combined.  Also, there is a worry that the k-NN voting will depend on the artificial choice made of the sizes of the training sets (2000 for quasars, 2000 for white dwarfs, and 5000 for stars). As we will see when we apply a classifier to the test set, these sample numbers are far from realistic.  For example, the test set has many fewer white dwarfs than the other classes, so there is a danger of biasing the votes with too many white dwarfs in the training set."
   ]
  },
  {
   "cell_type": "code",
   "execution_count": 11,
   "metadata": {},
   "outputs": [
    {
     "name": "stderr",
     "output_type": "stream",
     "text": [
      "Warning message:\n",
      "\"package 'nnet' was built under R version 4.4.3\"\n"
     ]
    },
    {
     "name": "stdout",
     "output_type": "stream",
     "text": [
      "# weights:  43\n",
      "initial  value 7850.954897 \n",
      "iter  10 value 2331.874607\n",
      "iter  20 value 1027.625289\n",
      "iter  30 value 714.719994\n",
      "iter  40 value 666.743496\n",
      "iter  50 value 606.489691\n",
      "iter  60 value 572.349412\n",
      "iter  70 value 559.561233\n",
      "iter  80 value 556.967734\n",
      "iter  90 value 555.681256\n",
      "iter 100 value 553.007724\n",
      "final  value 553.007724 \n",
      "stopped after 100 iterations\n"
     ]
    },
    {
     "data": {
      "image/png": "[encoded data removed]",
      "text/plain": [
       "Plot with title \"\""
      ]
     },
     "metadata": {
      "image/png": {
       "height": 420,
       "width": 420
      }
     },
     "output_type": "display_data"
    },
    {
     "data": {
      "text/plain": [
       "$`Confusion Table`\n",
       "          Predicted Class\n",
       "True Class    1    2    3\n",
       "         1  352    7   21\n",
       "         2   10 1014    1\n",
       "         3   16    2  377\n",
       "\n",
       "$Accuracy\n",
       "[1] 0.9683333\n"
      ]
     },
     "metadata": {},
     "output_type": "display_data"
    },
    {
     "data": {
      "image/png": "[encoded data removed]",
      "text/plain": [
       "Plot with title \"Neural Net Classification\""
      ]
     },
     "metadata": {
      "image/png": {
       "height": 420,
       "width": 420
      }
     },
     "output_type": "display_data"
    }
   ],
   "source": [
    "# Neural network \n",
    "\n",
    "library(nnet)\n",
    "SDSS_nnet <- nnet(as.factor(Class) ~ u_g + g_r + r_i + i_z, SDSS_train,size=5)\n",
    "\n",
    "SDSS_nnet_train_pred <- predict(SDSS_nnet, type=\"class\")\n",
    "SDSS_nnet_val_pred <- predict(SDSS_nnet, SDSS_val, type=\"class\")\n",
    "SDSS_nnet_test_pred <- predict(SDSS_nnet, SDSS_test, type=\"class\")\n",
    "\n",
    "plot(SDSS_val[,1], SDSS_val[,2], xlim=c(-0.7,3), ylim=c(-0.7,1.8), pch=20,\n",
    "     col=SDSS_nnet_val_pred, cex=0.5, main='', xlab='u-g (mag)', ylab='g-r (mag)')\n",
    "\n",
    "class_eval(SDSS_nnet_val_pred, SDSS_val$Class, main=\"Neural Net Classification\")"
   ]
  },
  {
   "cell_type": "markdown",
   "metadata": {},
   "source": [
    "Here we apply a very simple neural network with only one hidden layer with 5 nodes.  Yet it gives a classification accuracy of 96%. Some quasars are incorrectly classified as horizontal branch giant stars. I nvestigation shows that the performance is improved with a larger and deeper network, with repeated back-propagation steps.  This can take considerably more computing time. "
   ]
  },
  {
   "cell_type": "code",
   "execution_count": 12,
   "metadata": {},
   "outputs": [
    {
     "name": "stderr",
     "output_type": "stream",
     "text": [
      "Warning message:\n",
      "\"package 'rpart' was built under R version 4.4.3\"\n"
     ]
    },
    {
     "name": "stdout",
     "output_type": "stream",
     "text": [
      "Call:\n",
      "rpart(formula = SDSS_train[, 5] ~ ., data = SDSS_train[, 1:4], \n",
      "    method = \"class\")\n",
      "  n= 7200 \n",
      "\n",
      "          CP nsplit rel error    xerror        xstd\n",
      "1 0.48620155      0 1.0000000 1.0000000 0.013083907\n",
      "2 0.30356589      1 0.5137984 0.5141085 0.011077189\n",
      "3 0.03782946      2 0.2102326 0.2114729 0.007704659\n",
      "4 0.02635659      3 0.1724031 0.1736434 0.007046640\n",
      "5 0.01209302      4 0.1460465 0.1494574 0.006575784\n",
      "6 0.01147287      5 0.1339535 0.1417054 0.006414883\n",
      "7 0.01085271      7 0.1110078 0.1215504 0.005969760\n",
      "8 0.01000000      8 0.1001550 0.1181395 0.005890157\n",
      "\n",
      "Variable importance\n",
      "u_g g_r r_i i_z \n",
      " 29  28  24  19 \n",
      "\n",
      "Node number 1: 7200 observations,    complexity param=0.4862016\n",
      "  predicted class=2  expected loss=0.4479167  P(node) =1\n",
      "    class counts:  1620  3975  1605\n",
      "   probabilities: 0.225 0.552 0.223 \n",
      "  left son=2 (4170 obs) right son=3 (3030 obs)\n",
      "  Primary splits:\n",
      "      u_g < 0.7925835  to the right, improve=2395.475, (0 missing)\n",
      "      g_r < 0.241176   to the right, improve=1659.667, (0 missing)\n",
      "      r_i < 0.0514055  to the right, improve=1332.906, (0 missing)\n",
      "      i_z < -0.028     to the right, improve=1069.285, (0 missing)\n",
      "  Surrogate splits:\n",
      "      g_r < 0.26102    to the right, agree=0.901, adj=0.764, (0 split)\n",
      "      r_i < 0.07613    to the right, agree=0.822, adj=0.578, (0 split)\n",
      "      i_z < -0.0169725 to the right, agree=0.781, adj=0.480, (0 split)\n",
      "\n",
      "Node number 2: 4170 observations,    complexity param=0.01209302\n",
      "  predicted class=2  expected loss=0.04676259  P(node) =0.5791667\n",
      "    class counts:   158  3975    37\n",
      "   probabilities: 0.038 0.953 0.009 \n",
      "  left son=4 (45 obs) right son=5 (4125 obs)\n",
      "  Primary splits:\n",
      "      u_g < 2.83012    to the right, improve=72.31625, (0 missing)\n",
      "      i_z < 0.480413   to the left,  improve=53.85435, (0 missing)\n",
      "      r_i < 0.929882   to the left,  improve=41.45940, (0 missing)\n",
      "      g_r < 1.495278   to the right, improve=24.25259, (0 missing)\n",
      "\n",
      "Node number 3: 3030 observations,    complexity param=0.3035659\n",
      "  predicted class=3  expected loss=0.4825083  P(node) =0.4208333\n",
      "    class counts:  1462     0  1568\n",
      "   probabilities: 0.483 0.000 0.517 \n",
      "  left son=6 (1601 obs) right son=7 (1429 obs)\n",
      "  Primary splits:\n",
      "      r_i < -0.028     to the right, improve=709.37680, (0 missing)\n",
      "      g_r < -0.0175    to the right, improve=685.76050, (0 missing)\n",
      "      i_z < -0.091     to the right, improve=490.47480, (0 missing)\n",
      "      u_g < 0.3565     to the left,  improve= 60.11774, (0 missing)\n",
      "  Surrogate splits:\n",
      "      g_r < -0.0185    to the right, agree=0.841, adj=0.662, (0 split)\n",
      "      i_z < -0.091     to the right, agree=0.795, adj=0.566, (0 split)\n",
      "      u_g < -0.0035    to the right, agree=0.587, adj=0.125, (0 split)\n",
      "\n",
      "Node number 4: 45 observations\n",
      "  predicted class=1  expected loss=0.08888889  P(node) =0.00625\n",
      "    class counts:    41     2     2\n",
      "   probabilities: 0.911 0.044 0.044 \n",
      "\n",
      "Node number 5: 4125 observations\n",
      "  predicted class=2  expected loss=0.03684848  P(node) =0.5729167\n",
      "    class counts:   117  3973    35\n",
      "   probabilities: 0.028 0.963 0.008 \n",
      "\n",
      "Node number 6: 1601 observations,    complexity param=0.02635659\n",
      "  predicted class=1  expected loss=0.1942536  P(node) =0.2223611\n",
      "    class counts:  1290     0   311\n",
      "   probabilities: 0.806 0.000 0.194 \n",
      "  left son=12 (1482 obs) right son=13 (119 obs)\n",
      "  Primary splits:\n",
      "      i_z < 0.5045     to the left,  improve=112.98010, (0 missing)\n",
      "      r_i < 0.567      to the left,  improve=107.68780, (0 missing)\n",
      "      u_g < 0.3715     to the left,  improve= 70.23395, (0 missing)\n",
      "      g_r < -0.164     to the right, improve= 23.69357, (0 missing)\n",
      "  Surrogate splits:\n",
      "      r_i < 0.567      to the left,  agree=0.963, adj=0.496, (0 split)\n",
      "\n",
      "Node number 7: 1429 observations,    complexity param=0.03782946\n",
      "  predicted class=3  expected loss=0.1203639  P(node) =0.1984722\n",
      "    class counts:   172     0  1257\n",
      "   probabilities: 0.120 0.000 0.880 \n",
      "  left son=14 (160 obs) right son=15 (1269 obs)\n",
      "  Primary splits:\n",
      "      g_r < 0.102      to the right, improve=208.621900, (0 missing)\n",
      "      i_z < -0.0295    to the right, improve= 73.751990, (0 missing)\n",
      "      r_i < -0.127     to the right, improve= 62.007910, (0 missing)\n",
      "      u_g < 0.3115     to the left,  improve=  4.671936, (0 missing)\n",
      "  Surrogate splits:\n",
      "      i_z < 0.2145     to the right, agree=0.894, adj=0.050, (0 split)\n",
      "      u_g < -0.5       to the left,  agree=0.889, adj=0.006, (0 split)\n",
      "\n",
      "Node number 12: 1482 observations,    complexity param=0.01147287\n",
      "  predicted class=1  expected loss=0.1410256  P(node) =0.2058333\n",
      "    class counts:  1273     0   209\n",
      "   probabilities: 0.859 0.000 0.141 \n",
      "  left son=24 (1010 obs) right son=25 (472 obs)\n",
      "  Primary splits:\n",
      "      u_g < 0.3715     to the left,  improve=49.73230, (0 missing)\n",
      "      r_i < 0.0745     to the right, improve=45.90587, (0 missing)\n",
      "      i_z < -0.0115    to the right, improve=32.70620, (0 missing)\n",
      "      g_r < -0.164     to the right, improve=24.97049, (0 missing)\n",
      "  Surrogate splits:\n",
      "      g_r < 0.6915     to the left,  agree=0.684, adj=0.006, (0 split)\n",
      "      r_i < -0.0165    to the right, agree=0.684, adj=0.006, (0 split)\n",
      "\n",
      "Node number 13: 119 observations\n",
      "  predicted class=3  expected loss=0.1428571  P(node) =0.01652778\n",
      "    class counts:    17     0   102\n",
      "   probabilities: 0.143 0.000 0.857 \n",
      "\n",
      "Node number 14: 160 observations\n",
      "  predicted class=1  expected loss=0.11875  P(node) =0.02222222\n",
      "    class counts:   141     0    19\n",
      "   probabilities: 0.881 0.000 0.119 \n",
      "\n",
      "Node number 15: 1269 observations\n",
      "  predicted class=3  expected loss=0.02442868  P(node) =0.17625\n",
      "    class counts:    31     0  1238\n",
      "   probabilities: 0.024 0.000 0.976 \n",
      "\n",
      "Node number 24: 1010 observations\n",
      "  predicted class=1  expected loss=0.05247525  P(node) =0.1402778\n",
      "    class counts:   957     0    53\n",
      "   probabilities: 0.948 0.000 0.052 \n",
      "\n",
      "Node number 25: 472 observations,    complexity param=0.01147287\n",
      "  predicted class=1  expected loss=0.3305085  P(node) =0.06555556\n",
      "    class counts:   316     0   156\n",
      "   probabilities: 0.669 0.000 0.331 \n",
      "  left son=50 (298 obs) right son=51 (174 obs)\n",
      "  Primary splits:\n",
      "      i_z < -0.0115    to the right, improve=80.48947, (0 missing)\n",
      "      r_i < 0.1        to the right, improve=53.56069, (0 missing)\n",
      "      g_r < 0.2245     to the right, improve=17.40149, (0 missing)\n",
      "      u_g < 0.5845     to the right, improve=15.84763, (0 missing)\n",
      "  Surrogate splits:\n",
      "      r_i < 0.022      to the right, agree=0.672, adj=0.109, (0 split)\n",
      "      u_g < 0.3735     to the right, agree=0.636, adj=0.011, (0 split)\n",
      "      g_r < -0.446     to the right, agree=0.636, adj=0.011, (0 split)\n",
      "\n",
      "Node number 50: 298 observations\n",
      "  predicted class=1  expected loss=0.1073826  P(node) =0.04138889\n",
      "    class counts:   266     0    32\n",
      "   probabilities: 0.893 0.000 0.107 \n",
      "\n",
      "Node number 51: 174 observations,    complexity param=0.01085271\n",
      "  predicted class=3  expected loss=0.2873563  P(node) =0.02416667\n",
      "    class counts:    50     0   124\n",
      "   probabilities: 0.287 0.000 0.713 \n",
      "  left son=102 (37 obs) right son=103 (137 obs)\n",
      "  Primary splits:\n",
      "      r_i < 0.118      to the right, improve=44.179740, (0 missing)\n",
      "      g_r < 0.3105     to the right, improve=16.963070, (0 missing)\n",
      "      u_g < 0.585      to the right, improve= 5.054521, (0 missing)\n",
      "      i_z < -0.0615    to the right, improve= 2.674624, (0 missing)\n",
      "  Surrogate splits:\n",
      "      g_r < 0.3105     to the right, agree=0.822, adj=0.162, (0 split)\n",
      "      u_g < 0.6485     to the right, agree=0.799, adj=0.054, (0 split)\n",
      "\n",
      "Node number 102: 37 observations\n",
      "  predicted class=1  expected loss=0.02702703  P(node) =0.005138889\n",
      "    class counts:    36     0     1\n",
      "   probabilities: 0.973 0.000 0.027 \n",
      "\n",
      "Node number 103: 137 observations\n",
      "  predicted class=3  expected loss=0.1021898  P(node) =0.01902778\n",
      "    class counts:    14     0   123\n",
      "   probabilities: 0.102 0.000 0.898 \n",
      "\n",
      "List of 14\n",
      " $ frame              :'data.frame':\t17 obs. of  9 variables:\n",
      "  ..$ var       : chr [1:17] \"u_g\" \"u_g\" \"<leaf>\" \"<leaf>\" ...\n",
      "  ..$ n         : int [1:17] 7200 4170 45 4125 3030 1601 1482 1010 472 298 ...\n",
      "  ..$ wt        : num [1:17] 7200 4170 45 4125 3030 ...\n",
      "  ..$ dev       : num [1:17] 3225 195 4 152 1462 ...\n",
      "  ..$ yval      : num [1:17] 2 2 1 2 3 1 1 1 1 1 ...\n",
      "  ..$ complexity: num [1:17] 0.4862 0.01209 0.01 0.00651 0.30357 ...\n",
      "  ..$ ncompete  : int [1:17] 3 3 0 0 3 3 3 0 3 0 ...\n",
      "  ..$ nsurrogate: int [1:17] 3 0 0 0 3 1 2 0 3 0 ...\n",
      "  ..$ yval2     : num [1:17, 1:8] 2 2 1 2 3 1 1 1 1 1 ...\n",
      "  .. ..- attr(*, \"dimnames\")=List of 2\n",
      "  .. .. ..$ : NULL\n",
      "  .. .. ..$ : chr [1:8] \"\" \"\" \"\" \"\" ...\n",
      " $ where              : Named int [1:7200] 8 8 8 8 8 8 8 8 10 10 ...\n",
      "  ..- attr(*, \"names\")= chr [1:7200] \"2\" \"3\" \"4\" \"5\" ...\n",
      " $ call               : language rpart(formula = SDSS_train[, 5] ~ ., data = SDSS_train[, 1:4], method = \"class\")\n",
      " $ terms              :Classes 'terms', 'formula'  language SDSS_train[, 5] ~ u_g + g_r + r_i + i_z\n",
      "  .. ..- attr(*, \"variables\")= language list(SDSS_train[, 5], u_g, g_r, r_i, i_z)\n",
      "  .. ..- attr(*, \"factors\")= int [1:5, 1:4] 0 1 0 0 0 0 0 1 0 0 ...\n",
      "  .. .. ..- attr(*, \"dimnames\")=List of 2\n",
      "  .. .. .. ..$ : chr [1:5] \"SDSS_train[, 5]\" \"u_g\" \"g_r\" \"r_i\" ...\n",
      "  .. .. .. ..$ : chr [1:4] \"u_g\" \"g_r\" \"r_i\" \"i_z\"\n",
      "  .. ..- attr(*, \"term.labels\")= chr [1:4] \"u_g\" \"g_r\" \"r_i\" \"i_z\"\n",
      "  .. ..- attr(*, \"order\")= int [1:4] 1 1 1 1\n",
      "  .. ..- attr(*, \"intercept\")= int 1\n",
      "  .. ..- attr(*, \"response\")= int 1\n",
      "  .. ..- attr(*, \".Environment\")=<environment: R_GlobalEnv> \n",
      "  .. ..- attr(*, \"predvars\")= language list(SDSS_train[, 5], u_g, g_r, r_i, i_z)\n",
      "  .. ..- attr(*, \"dataClasses\")= Named chr [1:5] \"numeric\" \"numeric\" \"numeric\" \"numeric\" ...\n",
      "  .. .. ..- attr(*, \"names\")= chr [1:5] \"SDSS_train[, 5]\" \"u_g\" \"g_r\" \"r_i\" ...\n",
      " $ cptable            : num [1:8, 1:5] 0.4862 0.3036 0.0378 0.0264 0.0121 ...\n",
      "  ..- attr(*, \"dimnames\")=List of 2\n",
      "  .. ..$ : chr [1:8] \"1\" \"2\" \"3\" \"4\" ...\n",
      "  .. ..$ : chr [1:5] \"CP\" \"nsplit\" \"rel error\" \"xerror\" ...\n",
      " $ method             : chr \"class\"\n",
      " $ parms              :List of 3\n",
      "  ..$ prior: num [1:3(1d)] 0.225 0.552 0.223\n",
      "  .. ..- attr(*, \"dimnames\")=List of 1\n",
      "  .. .. ..$ : chr [1:3] \"1\" \"2\" \"3\"\n",
      "  ..$ loss : num [1:3, 1:3] 0 1 1 1 0 1 1 1 0\n",
      "  ..$ split: num 1\n",
      " $ control            :List of 9\n",
      "  ..$ minsplit      : int 20\n",
      "  ..$ minbucket     : num 7\n",
      "  ..$ cp            : num 0.01\n",
      "  ..$ maxcompete    : int 4\n",
      "  ..$ maxsurrogate  : int 5\n",
      "  ..$ usesurrogate  : int 2\n",
      "  ..$ surrogatestyle: int 0\n",
      "  ..$ maxdepth      : int 30\n",
      "  ..$ xval          : int 10\n",
      " $ functions          :List of 3\n",
      "  ..$ summary:function (yval, dev, wt, ylevel, digits)  \n",
      "  ..$ print  :function (yval, ylevel, digits, nsmall)  \n",
      "  ..$ text   :function (yval, dev, wt, ylevel, digits, n, use.n)  \n",
      " $ numresp            : int 5\n",
      " $ splits             : num [1:48, 1:5] 7200 7200 7200 7200 0 0 0 4170 4170 4170 ...\n",
      "  ..- attr(*, \"dimnames\")=List of 2\n",
      "  .. ..$ : chr [1:48] \"u_g\" \"g_r\" \"r_i\" \"i_z\" ...\n",
      "  .. ..$ : chr [1:5] \"count\" \"ncat\" \"improve\" \"index\" ...\n",
      " $ variable.importance: Named num [1:4] 2611 2518 2202 1756\n",
      "  ..- attr(*, \"names\")= chr [1:4] \"u_g\" \"g_r\" \"r_i\" \"i_z\"\n",
      " $ y                  : int [1:7200] 1 1 1 1 1 1 1 1 1 1 ...\n",
      " $ ordered            : Named logi [1:4] FALSE FALSE FALSE FALSE\n",
      "  ..- attr(*, \"names\")= chr [1:4] \"u_g\" \"g_r\" \"r_i\" \"i_z\"\n",
      " - attr(*, \"xlevels\")= Named list()\n",
      " - attr(*, \"ylevels\")= chr [1:3] \"1\" \"2\" \"3\"\n",
      " - attr(*, \"class\")= chr \"rpart\"\n"
     ]
    },
    {
     "data": {
      "image/png": "[encoded data removed]",
      "text/plain": [
       "Plot with title \"\""
      ]
     },
     "metadata": {
      "image/png": {
       "height": 420,
       "width": 420
      }
     },
     "output_type": "display_data"
    },
    {
     "data": {
      "text/plain": [
       "$`Confusion Table`\n",
       "          Predicted Class\n",
       "True Class    1    2    3\n",
       "         1  336   29   15\n",
       "         2    2 1022    1\n",
       "         3   27    9  359\n",
       "\n",
       "$Accuracy\n",
       "[1] 0.9538889\n"
      ]
     },
     "metadata": {},
     "output_type": "display_data"
    },
    {
     "data": {
      "image/png": "[encoded data removed]",
      "text/plain": [
       "Plot with title \"Tree Classification\""
      ]
     },
     "metadata": {
      "image/png": {
       "height": 420,
       "width": 420
      }
     },
     "output_type": "display_data"
    }
   ],
   "source": [
    "# Classification And Regression Tree\n",
    "\n",
    "library(rpart)\n",
    "SDSS_rpart <- rpart(SDSS_train[,5] ~., data=SDSS_train[,1:4], method=\"class\")\n",
    "summary(SDSS_rpart)\n",
    "str(SDSS_rpart)\n",
    "\n",
    "SDSS_rpart_train_pred <- predict(SDSS_rpart, type=\"class\")\n",
    "SDSS_rpart_val_pred <- predict(SDSS_rpart, SDSS_val, type=\"class\")\n",
    "SDSS_rpart_test_pred <- predict(SDSS_rpart, SDSS_test, type=\"class\")\n",
    "\n",
    "plot(SDSS_val[,1], SDSS_val[,2], xlim=c(-0.7,3), ylim=c(-0.7,1.8), pch=20,\n",
    "   col=SDSS_rpart_val_pred, cex=0.5,\n",
    "     main='', xlab='u-g (mag)', ylab='g-r (mag)')\n",
    "\n",
    "class_eval(SDSS_rpart_val_pred, SDSS_val$Class, main=\"Tree Classification\")"
   ]
  },
  {
   "cell_type": "markdown",
   "metadata": {},
   "source": [
    "This CART classification gave 95% accuracy. There are many options to CART, and performance may improve with tuning operating parameters.  Below are two diagnostic diagrams, one showing the tree splits and the other the criterion for pruning the tree to ~12 nodes.  A major advantage of CART is its single-variable splitting at each node that improves interpretability.  The astronomer might be quite interested, for example, that the most important splits are at $u-g=0.79$, $u-g=2.83$, and $r-i=0.03$.  "
   ]
  },
  {
   "cell_type": "code",
   "execution_count": 13,
   "metadata": {},
   "outputs": [
    {
     "data": {
      "image/png": "[encoded data removed]",
      "text/plain": [
       "plot without title"
      ]
     },
     "metadata": {
      "image/png": {
       "height": 420,
       "width": 420
      }
     },
     "output_type": "display_data"
    },
    {
     "data": {
      "image/png": "[encoded data removed]",
      "text/plain": [
       "plot without title"
      ]
     },
     "metadata": {
      "image/png": {
       "height": 420,
       "width": 420
      }
     },
     "output_type": "display_data"
    }
   ],
   "source": [
    "# Additional plots for decision tree\n",
    "\n",
    "plot(SDSS_rpart, branch=0.5, margin=0.05)\n",
    "text(SDSS_rpart, digits=3, use.n=T, cex=0.8)\n",
    "plotcp(SDSS_rpart, lwd=2, cex.axis=1.3, cex.lab=1.3)"
   ]
  },
  {
   "cell_type": "markdown",
   "metadata": {},
   "source": [
    "We now arrive at the two classification methods that gained the most widespread usage during the 2000-2019 decades: Random Forests and SVM."
   ]
  },
  {
   "cell_type": "code",
   "execution_count": 14,
   "metadata": {},
   "outputs": [
    {
     "name": "stderr",
     "output_type": "stream",
     "text": [
      "Warning message:\n",
      "\"package 'randomForest' was built under R version 4.4.3\"\n",
      "randomForest 4.7-1.2\n",
      "\n",
      "Type rfNews() to see new features/changes/bug fixes.\n",
      "\n"
     ]
    },
    {
     "name": "stdout",
     "output_type": "stream",
     "text": [
      "ntree      OOB      1      2      3\n",
      "    1:   3.35%  7.65%  0.62%  5.51%\n",
      "    2:   3.37%  8.06%  0.59%  5.43%\n",
      "    3:   3.29%  7.57%  0.78%  5.05%\n",
      "    4:   2.89%  6.46%  0.60%  4.88%\n",
      "    5:   2.78%  6.38%  0.53%  4.70%\n",
      "    6:   2.63%  6.46%  0.57%  3.86%\n",
      "    7:   2.68%  6.33%  0.63%  4.09%\n",
      "    8:   2.52%  5.76%  0.62%  3.97%\n",
      "    9:   2.50%  5.38%  0.74%  3.94%\n",
      "   10:   2.30%  4.91%  0.61%  3.86%\n",
      "   11:   2.29%  5.09%  0.53%  3.85%\n",
      "   12:   2.22%  5.02%  0.53%  3.58%\n",
      "   13:   2.28%  5.14%  0.58%  3.63%\n",
      "   14:   2.17%  4.70%  0.55%  3.63%\n",
      "   15:   2.14%  4.75%  0.50%  3.57%\n",
      "   16:   2.00%  4.63%  0.38%  3.38%\n",
      "   17:   2.06%  4.51%  0.43%  3.62%\n",
      "   18:   2.04%  4.63%  0.38%  3.56%\n",
      "   19:   2.07%  4.57%  0.48%  3.49%\n",
      "   20:   2.00%  4.32%  0.40%  3.62%\n",
      "   21:   2.01%  4.63%  0.38%  3.43%\n",
      "   22:   2.08%  4.63%  0.45%  3.55%\n",
      "   23:   2.03%  4.57%  0.38%  3.55%\n",
      "   24:   2.01%  4.57%  0.33%  3.61%\n",
      "   25:   2.07%  4.51%  0.40%  3.74%\n",
      "   26:   2.03%  4.44%  0.40%  3.61%\n",
      "   27:   1.96%  4.38%  0.38%  3.43%\n",
      "   28:   1.86%  4.44%  0.28%  3.18%\n",
      "   29:   1.85%  4.26%  0.28%  3.30%\n",
      "   30:   1.85%  4.26%  0.30%  3.24%\n",
      "   31:   1.82%  4.14%  0.28%  3.30%\n",
      "   32:   1.88%  4.32%  0.28%  3.36%\n",
      "   33:   1.79%  4.20%  0.30%  3.05%\n",
      "   34:   1.79%  4.20%  0.28%  3.12%\n",
      "   35:   1.76%  4.14%  0.28%  3.05%\n",
      "   36:   1.79%  4.14%  0.28%  3.18%\n",
      "   37:   1.76%  4.14%  0.28%  3.05%\n",
      "   38:   1.74%  3.95%  0.28%  3.12%\n",
      "   39:   1.78%  4.14%  0.33%  2.99%\n",
      "   40:   1.76%  4.01%  0.33%  3.05%\n",
      "   41:   1.76%  4.01%  0.35%  2.99%\n",
      "   42:   1.81%  4.07%  0.38%  3.05%\n",
      "   43:   1.79%  4.07%  0.38%  2.99%\n",
      "   44:   1.76%  4.07%  0.33%  2.99%\n",
      "   45:   1.75%  4.14%  0.30%  2.93%\n",
      "   46:   1.74%  4.14%  0.30%  2.87%\n",
      "   47:   1.72%  4.14%  0.30%  2.80%\n",
      "   48:   1.72%  4.14%  0.33%  2.74%\n",
      "   49:   1.78%  4.32%  0.33%  2.80%\n",
      "   50:   1.79%  4.44%  0.30%  2.80%\n",
      "   51:   1.71%  4.14%  0.30%  2.74%\n",
      "   52:   1.64%  4.01%  0.25%  2.68%\n",
      "   53:   1.68%  3.95%  0.30%  2.80%\n",
      "   54:   1.69%  4.14%  0.28%  2.74%\n",
      "   55:   1.65%  4.01%  0.30%  2.62%\n",
      "   56:   1.72%  4.14%  0.30%  2.80%\n",
      "   57:   1.71%  4.14%  0.28%  2.80%\n",
      "   58:   1.71%  3.95%  0.33%  2.87%\n",
      "   59:   1.75%  4.14%  0.33%  2.87%\n",
      "   60:   1.67%  3.89%  0.33%  2.74%\n",
      "   61:   1.67%  3.89%  0.33%  2.74%\n",
      "   62:   1.64%  3.77%  0.30%  2.80%\n",
      "   63:   1.67%  3.83%  0.30%  2.87%\n",
      "   64:   1.67%  3.95%  0.30%  2.74%\n",
      "   65:   1.64%  3.83%  0.28%  2.80%\n",
      "   66:   1.65%  3.83%  0.28%  2.87%\n",
      "   67:   1.68%  3.95%  0.30%  2.80%\n",
      "   68:   1.64%  3.83%  0.28%  2.80%\n",
      "   69:   1.65%  3.89%  0.28%  2.80%\n",
      "   70:   1.67%  3.89%  0.30%  2.80%\n",
      "   71:   1.68%  3.95%  0.30%  2.80%\n",
      "   72:   1.65%  3.89%  0.28%  2.80%\n",
      "   73:   1.67%  3.83%  0.28%  2.93%\n",
      "   74:   1.64%  3.77%  0.28%  2.87%\n",
      "   75:   1.69%  4.01%  0.28%  2.87%\n",
      "   76:   1.68%  3.95%  0.30%  2.80%\n",
      "   77:   1.67%  3.95%  0.28%  2.80%\n",
      "   78:   1.67%  3.95%  0.28%  2.80%\n",
      "   79:   1.68%  4.01%  0.28%  2.80%\n",
      "   80:   1.65%  3.89%  0.28%  2.80%\n",
      "   81:   1.68%  4.01%  0.28%  2.80%\n",
      "   82:   1.69%  3.95%  0.28%  2.93%\n",
      "   83:   1.67%  3.83%  0.30%  2.87%\n",
      "   84:   1.69%  3.89%  0.33%  2.87%\n",
      "   85:   1.67%  3.95%  0.33%  2.68%\n",
      "   86:   1.67%  3.95%  0.30%  2.74%\n",
      "   87:   1.68%  3.95%  0.30%  2.80%\n",
      "   88:   1.65%  3.89%  0.33%  2.68%\n",
      "   89:   1.65%  3.77%  0.33%  2.80%\n",
      "   90:   1.69%  3.89%  0.30%  2.93%\n",
      "   91:   1.72%  3.95%  0.33%  2.93%\n",
      "   92:   1.69%  3.89%  0.30%  2.93%\n",
      "   93:   1.71%  3.95%  0.33%  2.87%\n",
      "   94:   1.71%  3.95%  0.30%  2.93%\n",
      "   95:   1.62%  3.77%  0.30%  2.74%\n",
      "   96:   1.67%  3.89%  0.30%  2.80%\n",
      "   97:   1.67%  3.83%  0.30%  2.87%\n",
      "   98:   1.65%  3.83%  0.30%  2.80%\n",
      "   99:   1.69%  3.95%  0.30%  2.87%\n",
      "  100:   1.69%  3.95%  0.30%  2.87%\n",
      "\n",
      "Call:\n",
      " randomForest(formula = as.factor(Class) ~ u_g + g_r + r_i + i_z,      data = SDSS_train, mtry = 2, importance = TRUE, do.trace = TRUE,      ntree = 100) \n",
      "               Type of random forest: classification\n",
      "                     Number of trees: 100\n",
      "No. of variables tried at each split: 2\n",
      "\n",
      "        OOB estimate of  error rate: 1.69%\n",
      "Confusion matrix:\n",
      "     1    2    3 class.error\n",
      "1 1556   38   26 0.039506173\n",
      "2   12 3963    0 0.003018868\n",
      "3   44    2 1559 0.028660436\n"
     ]
    },
    {
     "data": {
      "image/png": "[encoded data removed]",
      "text/plain": [
       "Plot with title \"\""
      ]
     },
     "metadata": {
      "image/png": {
       "height": 420,
       "width": 420
      }
     },
     "output_type": "display_data"
    },
    {
     "data": {
      "text/plain": [
       "$`Confusion Table`\n",
       "          Predicted Class\n",
       "True Class    1    2    3\n",
       "         1 1620    0    0\n",
       "         2    0 3975    0\n",
       "         3    0    0 1605\n",
       "\n",
       "$Accuracy\n",
       "[1] 1\n"
      ]
     },
     "metadata": {},
     "output_type": "display_data"
    },
    {
     "data": {
      "image/png": "[encoded data removed]",
      "text/plain": [
       "Plot with title \"Random Forest Classification\""
      ]
     },
     "metadata": {
      "image/png": {
       "height": 420,
       "width": 420
      }
     },
     "output_type": "display_data"
    },
    {
     "data": {
      "text/plain": [
       "$`Confusion Table`\n",
       "          Predicted Class\n",
       "True Class    1    2    3\n",
       "         1 1556   38   26\n",
       "         2   12 3963    0\n",
       "         3   44    2 1559\n",
       "\n",
       "$Accuracy\n",
       "[1] 0.9830556\n"
      ]
     },
     "metadata": {},
     "output_type": "display_data"
    },
    {
     "data": {
      "image/png": "[encoded data removed]",
      "text/plain": [
       "Plot with title \"Random Forest Classification\""
      ]
     },
     "metadata": {
      "image/png": {
       "height": 420,
       "width": 420
      }
     },
     "output_type": "display_data"
    },
    {
     "data": {
      "text/plain": [
       "$`Confusion Table`\n",
       "          Predicted Class\n",
       "True Class    1    2    3\n",
       "         1  367    6    7\n",
       "         2    4 1020    1\n",
       "         3   10    0  385\n",
       "\n",
       "$Accuracy\n",
       "[1] 0.9844444\n"
      ]
     },
     "metadata": {},
     "output_type": "display_data"
    },
    {
     "data": {
      "image/png": "[encoded data removed]",
      "text/plain": [
       "Plot with title \"Random Forest Classification\""
      ]
     },
     "metadata": {
      "image/png": {
       "height": 420,
       "width": 420
      }
     },
     "output_type": "display_data"
    }
   ],
   "source": [
    "# CART with Random Forests\n",
    "\n",
    "library(randomForest)\n",
    "SDSS_rf <- randomForest(as.factor(Class) ~ u_g + g_r + r_i + i_z, data=SDSS_train, mtry=2, importance=TRUE, do.trace=TRUE, ntree=100)\n",
    "\n",
    "print(SDSS_rf)\n",
    "\n",
    "SDSS_rf_train_pred <- predict(SDSS_rf, SDSS_train)\n",
    "SDSS_rf_oob_pred <- predict(SDSS_rf)\n",
    "SDSS_rf_val_pred <- predict(SDSS_rf, SDSS_val)\n",
    "SDSS_rf_test_pred <- predict(SDSS_rf, SDSS_test)\n",
    "\n",
    "plot(SDSS_val[,1], SDSS_val[,2], xlim=c(-0.7,3), ylim=c(-0.7,1.8), pch=20,\n",
    "   col=SDSS_rf_val_pred, cex=0.5,\n",
    "     main='', xlab='u-g (mag)', ylab='g-r (mag)')\n",
    "\n",
    "class_eval(SDSS_rf_train_pred, SDSS_train$Class, main=\"Random Forest Classification\")  \n",
    "class_eval(SDSS_rf_oob_pred, SDSS_train$Class, main=\"Random Forest Classification\")\n",
    "class_eval(SDSS_rf_val_pred, SDSS_val$Class, main=\"Random Forest Classification\")"
   ]
  },
  {
   "cell_type": "markdown",
   "metadata": {},
   "source": [
    "We have run Random Forest, where many decision trees are constructed and averaged using strategies of boosting and bagging.  We run the classification evaluation on three subsets of the training data: the 80% training data (the 100% accuracy is not interesting here), the `out of bag` (oob) subset representing a validation set internal to the Random Forest, and our 20% validation subset.  These give 98% accuracy.   Random Forest has many options, and the performance may be improvable.  "
   ]
  },
  {
   "cell_type": "code",
   "execution_count": 15,
   "metadata": {},
   "outputs": [
    {
     "name": "stderr",
     "output_type": "stream",
     "text": [
      "Warning message:\n",
      "\"package 'e1071' was built under R version 4.4.3\"\n"
     ]
    },
    {
     "data": {
      "text/plain": [
       "\n",
       "Call:\n",
       "svm(formula = as.factor(SDSS_train[, 5]) ~ ., data = SDSS_train[, \n",
       "    1:4], cost = 100, gamma = 1)\n",
       "\n",
       "\n",
       "Parameters:\n",
       "   SVM-Type:  C-classification \n",
       " SVM-Kernel:  radial \n",
       "       cost:  100 \n",
       "\n",
       "Number of Support Vectors:  482\n",
       "\n",
       " ( 222 81 179 )\n",
       "\n",
       "\n",
       "Number of Classes:  3 \n",
       "\n",
       "Levels: \n",
       " 1 2 3\n",
       "\n",
       "\n"
      ]
     },
     "metadata": {},
     "output_type": "display_data"
    },
    {
     "data": {
      "image/png": "[encoded data removed]",
      "text/plain": [
       "Plot with title \"\""
      ]
     },
     "metadata": {
      "image/png": {
       "height": 420,
       "width": 420
      }
     },
     "output_type": "display_data"
    },
    {
     "data": {
      "text/plain": [
       "$`Confusion Table`\n",
       "          Predicted Class\n",
       "True Class    1    2    3\n",
       "         1  367    2   11\n",
       "         2    6 1018    1\n",
       "         3   13    0  382\n",
       "\n",
       "$Accuracy\n",
       "[1] 0.9816667\n"
      ]
     },
     "metadata": {},
     "output_type": "display_data"
    },
    {
     "data": {
      "image/png": "[encoded data removed]",
      "text/plain": [
       "Plot with title \"Random Forest Classification\""
      ]
     },
     "metadata": {
      "image/png": {
       "height": 420,
       "width": 420
      }
     },
     "output_type": "display_data"
    }
   ],
   "source": [
    "# Support Vector Machine model, prediction and validation\n",
    "\n",
    "library(e1071)\n",
    "SDSS_svm <- svm((SDSS_train[,5]) ~.,data=SDSS_train[,1:4],cost=100, gamma=1)\n",
    "SDSS_svm <- svm(as.factor(SDSS_train[,5]) ~.,data=SDSS_train[,1:4],cost=100, gamma=1)\n",
    "\n",
    "summary(SDSS_svm)\n",
    "\n",
    "SDSS_svm_train_pred <- predict(SDSS_svm)\n",
    "SDSS_svm_val_pred <- predict(SDSS_svm, SDSS_val)\n",
    "SDSS_svm_test_pred <- predict(SDSS_svm, SDSS_test)\n",
    "\n",
    "plot(SDSS_test[,1], SDSS_test[,2], xlim=c(-0.7,3), ylim=c(-0.7,1.8), pch=20,\n",
    "   col=round(as.numeric(SDSS_svm_test_pred)), cex=0.5, main='',\n",
    "   xlab='u-g (mag)', ylab='g-r (mag)')\n",
    "\n",
    "class_eval(SDSS_svm_val_pred, SDSS_val$Class, main=\"Random Forest Classification\")"
   ]
  },
  {
   "cell_type": "markdown",
   "metadata": {},
   "source": [
    "The Support Vector Machine calculation is computer intensive, as it performs many operations, some in higher dimensions.  But the performance is excellent with 98% recovery of true classes in the 20% validation training set.   "
   ]
  },
  {
   "cell_type": "markdown",
   "metadata": {},
   "source": [
    "**Exercise 6:**  Take one or more of the sophisticated classifiers -- neural nets, Random Forests, SVM -- and study its performance carefully for the problem here.  Read the help files, and appropriate chapter in a book on machine learning.  Examine the output R objects with `str` and plot various quantities.  Tweak various parameters of the method, and study the effect on the classifier performance.  "
   ]
  },
  {
   "cell_type": "markdown",
   "metadata": {},
   "source": [
    "We are now ready to stand back from our statistical analysis and examine the situation from a scientific (astronomical) viewpoint. The k-NN, Random Forest and SVM classifiers both showed excellent performance on the 20% validation dataset, with scientifically reasonable results on the test dataset.  But there were some methodology questions about the k-NN procedure (e.g. effect of training set size on voting, value of k).  So, it is reasonable to decide that the Random Forest and SVM classifiers are the `best`.  \n",
    "\n",
    "**Exercise 7:** Produce the 2x2 contingency matrix -- True Positive, False Positive, True Negative, False Negative -- for the SVM and Random Forest classifiers.  Calculate (and try to interpret) various scalar measures of its performance such as Accuracy, Sensitivity, Specificity, Precision & F1 Score; see details on Wikipedia [here](https://en.wikipedia.org/wiki/Precision_and_recall)."
   ]
  },
  {
   "cell_type": "markdown",
   "metadata": {},
   "source": [
    "The last step is to bring the results out of R for use by software in other languages, by colleagues, and for publication in a journal.  We need publication-quality graphics and a table of the Sloan test set (12K lines) with a new column showing the derived classification of each object. Note that we could, using `library(xtable)` produce the table in  LaTeX format.  "
   ]
  },
  {
   "cell_type": "code",
   "execution_count": 0,
   "metadata": {
    "scrolled": true
   },
   "outputs": [],
   "source": [
    "# Final plot of test set results\n",
    "\n",
    "par(mfrow=c(1,3))\n",
    "plot(SDSS_test[,1], SDSS_test[,2], xlim=c(-0.7,3), col=round(as.numeric(SDSS_svm_test_pred)), \n",
    "   ylim=c(-0.7,1.8), pch=20, cex=0.5, main='Support Vector Machine', xlab='u-g (mag)',ylab='g-r (mag)') \n",
    "plot(SDSS_test[,2], SDSS_test[,3], xlim=c(-0.7,1.8), col=round(as.numeric(SDSS_svm_test_pred)),\n",
    "   ylim=c(-0.7,1.8), pch=20, cex=0.5, main='Classification of', xlab='g-r (mag)',ylab='r-i (mag)') \n",
    "plot(SDSS_test[,3], SDSS_test[,4], xlim=c(-0.7,1.8), col=round(as.numeric(SDSS_svm_test_pred)),\n",
    "   ylim=c(-1.1,1.3), pch=20, cex=0.5, main='SDSS Test Dataset', xlab='r-i (mag)',ylab='i-z (mag)') \n",
    "par(mfrow=c(1,1))\n",
    "\n",
    "\n",
    "# Write table of input data with output classifications onto disk\n",
    "\n",
    "SDSS_test_svm_out <- cbind(SDSS[,6], SDSS[,7], SDSS_test, round(as.numeric(SDSS_svm_test_pred)))\n",
    "names(SDSS_test_svm_out)[c(1,2,7)] <- c('R.A.', 'Dec', 'SVM Class')\n",
    "write.table(format(SDSS_test_svm_out), file='SDSS_test_svm.out',sep='\\t',quote=F)"
   ]
  },
  {
   "cell_type": "markdown",
   "metadata": {},
   "source": [
    "**Exercise 8:**  Random Forest is often performs very well, but more recent related methods — such as _XGBoost_ and _LightGBM_ — are more computationally efficient and may give better treatment of complex problems. LightGBM, for example, has won many competitions since 2017 and is prominent in the 2018 astronomical LSST PLAsTiCC challenge.   The exercise here is to apply XGBoost and LightGBM to the SDSS point source classification problem.  See CRAN packages _xgboost_ and  _lightgbm_ with additional features in _EIX_ and _SHAPforxgboost_.   "
   ]
  },
  {
   "cell_type": "code",
   "execution_count": 0,
   "metadata": {},
   "outputs": [],
   "source": []
  }
 ],
 "metadata": {
  "kernelspec": {
   "display_name": "R",
   "language": "R",
   "name": "ir"
  },
  "language_info": {
   "codemirror_mode": "r",
   "file_extension": ".r",
   "mimetype": "text/x-r-source",
   "name": "R",
   "pygments_lexer": "r",
   "version": "4.4.1"
  }
 },
 "nbformat": 4,
 "nbformat_minor": 4
}
