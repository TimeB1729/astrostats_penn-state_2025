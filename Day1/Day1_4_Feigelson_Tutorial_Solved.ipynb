{
 "cells": [
  {
   "cell_type": "markdown",
   "metadata": {
    "id": "spdr1DcPBu09"
   },
   "source": [
    "# R tutorial: Introduction to R\n",
    "### Summer School in Statistics for Astronomers\n",
    "### Instructor: Eric Feigelson (Penn State)"
   ]
  },
  {
   "cell_type": "markdown",
   "metadata": {
    "id": "D3x6fhQxBu0_"
   },
   "source": [
    "R is a powerful software environment for data analysis, graphics, and especially statistical analysis. It is available free to the public at www.r-project.org with easily installed binaries for Linux, MacOS and Windows.  This notebook provides an introduction to R designed for students and researchers in astronomy.  Some familiarity with scripting languages like Matlab or IDL is helpful.\n",
    "\n",
    "To use Jupyter notebooks, both Python and R need to be installed on your computer.  Python's *anaconda* distribution and *conda* package management system automatically include Jupyter Notebooks as an application accessed through the *Anaconda Navigator*.  \n",
    "\n",
    "However, it is possible that your Anaconda release did not automatically include the R kernel for Jupyter.  You can tell whether it is present if the R logo (blue R in front of gray ellipse) is shown at the top-right of the Jupyter page.  If it is missing, then the code cells below will fail upon execution. To install the R kernel within Python, type:\n",
    "\n",
    "    conda install -c r r-irkernel \n",
    "\n",
    "Alternatively, you can make R available to Jupyter from an R console by typing:\n",
    "\n",
    "    install.packages('IRkernel')  ;  IRkernel::installspec() \n",
    "\n",
    "For further discussion of the relationship between Python, R, Jupyter and other notebook environments, see https://www.datacamp.com/community/blog/jupyter-notebook-r\n",
    "\n",
    "---\n",
    "\n",
    "Some basic information:\n",
    "- R is driven by the command line in the R console.  Double-click the R icon or (in Linux) type 'R' in the terminal to open the console. \n",
    "- R has >100,000 'functions' that perform various tasks. Each function uses () brackets to list arguments and parameters.  \n",
    "- Every function has a 'help(fn)' page telling how it is used, what operation is run, and what output it produces with references an examples that can be cut-and-paste into an R console. It is essential for both novice and experienced R programmers to read help files.\n",
    "- A hash mark ( # ) denotes comments in an R script.  A semi-colon ( ; ) has the same action as a carriage return. Lines do not need to end with a semi-colon.\n",
    "- The commands in the Summer School tutorials can be run interactively in Jupyter, or cut-and-pasted into a separate R console."
   ]
  },
  {
   "cell_type": "code",
   "execution_count": 1,
   "metadata": {
    "id": "eAJABtv8Bu1A",
    "vscode": {
     "languageId": "r"
    }
   },
   "outputs": [
    {
     "data": {
      "text/html": [
       "'C:/Users/Time27.B1729/OneDrive/Desktop'"
      ],
      "text/latex": [
       "'C:/Users/Time27.B1729/OneDrive/Desktop'"
      ],
      "text/markdown": [
       "'C:/Users/Time27.B1729/OneDrive/Desktop'"
      ],
      "text/plain": [
       "[1] \"C:/Users/Time27.B1729/OneDrive/Desktop\""
      ]
     },
     "metadata": {},
     "output_type": "display_data"
    },
    {
     "data": {
      "text/html": [
       "'C:/Users/Time27.B1729/OneDrive/Documents'"
      ],
      "text/latex": [
       "'C:/Users/Time27.B1729/OneDrive/Documents'"
      ],
      "text/markdown": [
       "'C:/Users/Time27.B1729/OneDrive/Documents'"
      ],
      "text/plain": [
       "[1] \"C:/Users/Time27.B1729/OneDrive/Documents\""
      ]
     },
     "metadata": {},
     "output_type": "display_data"
    },
    {
     "data": {
      "text/plain": [
       "To cite R in publications use:\n",
       "\n",
       "  R Core Team (2024). _R: A Language and Environment for Statistical\n",
       "  Computing_. R Foundation for Statistical Computing, Vienna, Austria.\n",
       "  <https://www.R-project.org/>.\n",
       "\n",
       "A BibTeX entry for LaTeX users is\n",
       "\n",
       "  @Manual{,\n",
       "    title = {R: A Language and Environment for Statistical Computing},\n",
       "    author = {{R Core Team}},\n",
       "    organization = {R Foundation for Statistical Computing},\n",
       "    address = {Vienna, Austria},\n",
       "    year = {2024},\n",
       "    url = {https://www.R-project.org/},\n",
       "  }\n",
       "\n",
       "We have invested a lot of time and effort in creating R, please cite it\n",
       "when using it for data analysis. See also 'citation(\"pkgname\")' for\n",
       "citing R packages."
      ]
     },
     "metadata": {},
     "output_type": "display_data"
    }
   ],
   "source": [
    "# I.  Set up your session\n",
    "\n",
    "getwd()                     # find working directory.  \n",
    "setwd(\"C:/Users/Time27.B1729/OneDrive/Documents\")\n",
    "getwd()                     # see the working directory has changed\n",
    "citation()                  # quote this citation in any publication using R"
   ]
  },
  {
   "cell_type": "code",
   "execution_count": 2,
   "metadata": {
    "id": "50368P1KBu1B",
    "vscode": {
     "languageId": "r"
    }
   },
   "outputs": [
    {
     "data": {
      "text/plain": [
       "R version 4.4.1 (2024-06-14 ucrt)\n",
       "Platform: x86_64-w64-mingw32/x64\n",
       "Running under: Windows 11 x64 (build 22635)\n",
       "\n",
       "Matrix products: default\n",
       "\n",
       "\n",
       "locale:\n",
       "[1] LC_COLLATE=English_India.utf8  LC_CTYPE=English_India.utf8   \n",
       "[3] LC_MONETARY=English_India.utf8 LC_NUMERIC=C                  \n",
       "[5] LC_TIME=English_India.utf8    \n",
       "\n",
       "time zone: Asia/Calcutta\n",
       "tzcode source: internal\n",
       "\n",
       "attached base packages:\n",
       "[1] stats     graphics  grDevices utils     datasets  methods   base     \n",
       "\n",
       "loaded via a namespace (and not attached):\n",
       " [1] digest_0.6.37     IRdisplay_1.1     base64enc_0.1-3   fastmap_1.2.0    \n",
       " [5] glue_1.8.0        htmltools_0.5.8.1 repr_1.1.7        lifecycle_1.0.4  \n",
       " [9] cli_3.6.5         vctrs_0.6.5       pbdZMQ_0.3-14     compiler_4.4.1   \n",
       "[13] tools_4.4.1       evaluate_1.0.3    pillar_1.10.2     rlang_1.1.6      \n",
       "[17] jsonlite_2.0.0    crayon_1.5.3      IRkernel_1.3.2    uuid_1.2-1       "
      ]
     },
     "metadata": {},
     "output_type": "display_data"
    }
   ],
   "source": [
    "sessionInfo()               # learn about your software environment"
   ]
  },
  {
   "cell_type": "code",
   "execution_count": 3,
   "metadata": {
    "id": "NllX9mqjBu1C",
    "vscode": {
     "languageId": "r"
    }
   },
   "outputs": [],
   "source": [
    "library()                   # see packages installed on your computer\n",
    "                            # ~30 are installed automatically with R"
   ]
  },
  {
   "cell_type": "code",
   "execution_count": 4,
   "metadata": {
    "id": "MOe3iNpPBu1C",
    "vscode": {
     "languageId": "r"
    }
   },
   "outputs": [
    {
     "data": {
      "text/html": [
       "4"
      ],
      "text/latex": [
       "4"
      ],
      "text/markdown": [
       "4"
      ],
      "text/plain": [
       "[1] 4"
      ]
     },
     "metadata": {},
     "output_type": "display_data"
    },
    {
     "data": {
      "text/html": [
       "'a'"
      ],
      "text/latex": [
       "'a'"
      ],
      "text/markdown": [
       "'a'"
      ],
      "text/plain": [
       "[1] \"a\""
      ]
     },
     "metadata": {},
     "output_type": "display_data"
    },
    {
     "data": {
      "text/html": [
       "'numeric'"
      ],
      "text/latex": [
       "'numeric'"
      ],
      "text/markdown": [
       "'numeric'"
      ],
      "text/plain": [
       "[1] \"numeric\""
      ]
     },
     "metadata": {},
     "output_type": "display_data"
    },
    {
     "name": "stdout",
     "output_type": "stream",
     "text": [
      " num [1:4] 33 44 92 58\n"
     ]
    },
    {
     "data": {
      "text/html": [
       "<style>\n",
       ".list-inline {list-style: none; margin:0; padding: 0}\n",
       ".list-inline>li {display: inline-block}\n",
       ".list-inline>li:not(:last-child)::after {content: \"\\00b7\"; padding: 0 .5ex}\n",
       "</style>\n",
       "<ol class=list-inline><li>33</li><li>44</li><li>92</li><li>58</li></ol>\n"
      ],
      "text/latex": [
       "\\begin{enumerate*}\n",
       "\\item 33\n",
       "\\item 44\n",
       "\\item 92\n",
       "\\item 58\n",
       "\\end{enumerate*}\n"
      ],
      "text/markdown": [
       "1. 33\n",
       "2. 44\n",
       "3. 92\n",
       "4. 58\n",
       "\n",
       "\n"
      ],
      "text/plain": [
       "[1] 33 44 92 58"
      ]
     },
     "metadata": {},
     "output_type": "display_data"
    }
   ],
   "source": [
    "# II. Create and characterize a vector\n",
    "\n",
    "a <- c(33, 44, 92, 58)      # combine numbers into a vector\n",
    "length(a)\n",
    "ls()                        # list names of objects in your environment\n",
    "class(a)                    # state the `class' of an R object (described in III below)\n",
    "str(a)                      # state the structure of an R object\n",
    "a                           # state the contents of an R object"
   ]
  },
  {
   "cell_type": "code",
   "execution_count": null,
   "metadata": {
    "id": "uombxsufBu1D",
    "vscode": {
     "languageId": "r"
    }
   },
   "outputs": [],
   "source": [
    "# R vectors and arrays start at index 1, \n",
    "# unlike Python where the first element has index 0"
   ]
  },
  {
   "cell_type": "code",
   "execution_count": 6,
   "metadata": {
    "id": "-ElvNLprBu1D",
    "vscode": {
     "languageId": "r"
    }
   },
   "outputs": [],
   "source": [
    "write(file='output', a)     # write an ASCII file into the working directory\n",
    "save(file='output_bin', a)  # write a binary file\n",
    "#Save(file='output_bin', a)  # error because 'Save' is not a known function.\n",
    "                            # R syntax is case sensitive."
   ]
  },
  {
   "cell_type": "code",
   "execution_count": 7,
   "metadata": {
    "id": "P_QsFqwcBu1E",
    "vscode": {
     "languageId": "r"
    }
   },
   "outputs": [
    {
     "data": {
      "text/html": [
       "227"
      ],
      "text/latex": [
       "227"
      ],
      "text/markdown": [
       "227"
      ],
      "text/plain": [
       "[1] 227"
      ]
     },
     "metadata": {},
     "output_type": "display_data"
    },
    {
     "name": "stdout",
     "output_type": "stream",
     "text": [
      "Sum of  4  elements in the vector a =  227 \n"
     ]
    },
    {
     "data": {
      "text/plain": [
       "   Min. 1st Qu.  Median    Mean 3rd Qu.    Max. \n",
       "  33.00   41.25   51.00   56.75   66.50   92.00 "
      ]
     },
     "metadata": {},
     "output_type": "display_data"
    }
   ],
   "source": [
    "sum(a)\n",
    "\n",
    "# Annotated write to console. The \\n symbol is a carriage return.\n",
    "cat('Sum of ', length(a), ' elements in the vector a = ', sum(a), '\\n')\n",
    "summary(a)                  # many R objects have a built-in 'summary' function"
   ]
  },
  {
   "cell_type": "code",
   "execution_count": 8,
   "metadata": {
    "id": "HjYr11B9Bu1E",
    "vscode": {
     "languageId": "r"
    }
   },
   "outputs": [
    {
     "data": {
      "text/html": [
       "<style>\n",
       ".list-inline {list-style: none; margin:0; padding: 0}\n",
       ".list-inline>li {display: inline-block}\n",
       ".list-inline>li:not(:last-child)::after {content: \"\\00b7\"; padding: 0 .5ex}\n",
       "</style>\n",
       "<ol class=list-inline><li>33</li><li>44</li><li>92</li><li>58</li></ol>\n"
      ],
      "text/latex": [
       "\\begin{enumerate*}\n",
       "\\item 33\n",
       "\\item 44\n",
       "\\item 92\n",
       "\\item 58\n",
       "\\end{enumerate*}\n"
      ],
      "text/markdown": [
       "1. 33\n",
       "2. 44\n",
       "3. 92\n",
       "4. 58\n",
       "\n",
       "\n"
      ],
      "text/plain": [
       "[1] 33 44 92 58"
      ]
     },
     "metadata": {},
     "output_type": "display_data"
    },
    {
     "data": {
      "text/html": [
       "92"
      ],
      "text/latex": [
       "92"
      ],
      "text/markdown": [
       "92"
      ],
      "text/plain": [
       "[1] 92"
      ]
     },
     "metadata": {},
     "output_type": "display_data"
    },
    {
     "data": {
      "text/html": [
       "<style>\n",
       ".list-inline {list-style: none; margin:0; padding: 0}\n",
       ".list-inline>li {display: inline-block}\n",
       ".list-inline>li:not(:last-child)::after {content: \"\\00b7\"; padding: 0 .5ex}\n",
       "</style>\n",
       "<ol class=list-inline><li>FALSE</li><li>TRUE</li><li>TRUE</li><li>TRUE</li></ol>\n"
      ],
      "text/latex": [
       "\\begin{enumerate*}\n",
       "\\item FALSE\n",
       "\\item TRUE\n",
       "\\item TRUE\n",
       "\\item TRUE\n",
       "\\end{enumerate*}\n"
      ],
      "text/markdown": [
       "1. FALSE\n",
       "2. TRUE\n",
       "3. TRUE\n",
       "4. TRUE\n",
       "\n",
       "\n"
      ],
      "text/plain": [
       "[1] FALSE  TRUE  TRUE  TRUE"
      ]
     },
     "metadata": {},
     "output_type": "display_data"
    },
    {
     "data": {
      "text/html": [
       "194"
      ],
      "text/latex": [
       "194"
      ],
      "text/markdown": [
       "194"
      ],
      "text/plain": [
       "[1] 194"
      ]
     },
     "metadata": {},
     "output_type": "display_data"
    },
    {
     "data": {
      "text/html": [
       "3"
      ],
      "text/latex": [
       "3"
      ],
      "text/markdown": [
       "3"
      ],
      "text/plain": [
       "[1] 3"
      ]
     },
     "metadata": {},
     "output_type": "display_data"
    },
    {
     "data": {
      "text/html": [
       "2"
      ],
      "text/latex": [
       "2"
      ],
      "text/markdown": [
       "2"
      ],
      "text/plain": [
       "[1] 2"
      ]
     },
     "metadata": {},
     "output_type": "display_data"
    }
   ],
   "source": [
    "# Manipulation of vector indices\n",
    "\n",
    "a[1:4]          # show all four elements of the vector\n",
    "a[3]            # note that R vectors start with index 1 not 0, unlike Python\n",
    "a > 40          # logical operation\n",
    "sum(a[a>40])    # note the self-referential use of vector/array indices here\n",
    "which.max(a)    # R has many built-in functions for vectors and arrays\n",
    "match(44, a)    # find the index of the element equal to 44"
   ]
  },
  {
   "cell_type": "markdown",
   "metadata": {
    "id": "E1HVblZ-Bu1F"
   },
   "source": [
    "### R classes\n",
    "\n",
    "R objects are placed into **classes**: numeric, character, logical, vector, matrix, factor, data.frame, list, and dozens of others designed by advanced R functions and CRAN packages. *plot, print, summary* functions are adapted to class objects; see e.g. methods(summary).  \n",
    "\n",
    "Two particularly important classes are the 'data frame' used for tabular data and the 'list' used as a bucket with heterogeneous content.  The data frame is a 2-dimensional array with associated column names. The list class allows a hierarchical structure of R objects such as scalars, vectors, arrays, and attributes.  Here we make a hierarchical list, use 'str' (structure) to show its contents, and access an element of the list using the $ delimiter. "
   ]
  },
  {
   "cell_type": "code",
   "execution_count": 9,
   "metadata": {
    "id": "MVbc0JZzBu1F",
    "vscode": {
     "languageId": "r"
    }
   },
   "outputs": [
    {
     "data": {
      "text/html": [
       "<table class=\"dataframe\">\n",
       "<caption>A data.frame: 4 × 3</caption>\n",
       "<thead>\n",
       "\t<tr><th scope=col>ID</th><th scope=col>a</th><th scope=col>a_cubed</th></tr>\n",
       "\t<tr><th scope=col>&lt;dbl&gt;</th><th scope=col>&lt;dbl&gt;</th><th scope=col>&lt;dbl&gt;</th></tr>\n",
       "</thead>\n",
       "<tbody>\n",
       "\t<tr><td>1</td><td>33</td><td> 35937</td></tr>\n",
       "\t<tr><td>2</td><td>44</td><td> 85184</td></tr>\n",
       "\t<tr><td>3</td><td>92</td><td>778688</td></tr>\n",
       "\t<tr><td>4</td><td>58</td><td>195112</td></tr>\n",
       "</tbody>\n",
       "</table>\n"
      ],
      "text/latex": [
       "A data.frame: 4 × 3\n",
       "\\begin{tabular}{lll}\n",
       " ID & a & a\\_cubed\\\\\n",
       " <dbl> & <dbl> & <dbl>\\\\\n",
       "\\hline\n",
       "\t 1 & 33 &  35937\\\\\n",
       "\t 2 & 44 &  85184\\\\\n",
       "\t 3 & 92 & 778688\\\\\n",
       "\t 4 & 58 & 195112\\\\\n",
       "\\end{tabular}\n"
      ],
      "text/markdown": [
       "\n",
       "A data.frame: 4 × 3\n",
       "\n",
       "| ID &lt;dbl&gt; | a &lt;dbl&gt; | a_cubed &lt;dbl&gt; |\n",
       "|---|---|---|\n",
       "| 1 | 33 |  35937 |\n",
       "| 2 | 44 |  85184 |\n",
       "| 3 | 92 | 778688 |\n",
       "| 4 | 58 | 195112 |\n",
       "\n"
      ],
      "text/plain": [
       "  ID a  a_cubed\n",
       "1 1  33  35937 \n",
       "2 2  44  85184 \n",
       "3 3  92 778688 \n",
       "4 4  58 195112 "
      ]
     },
     "metadata": {},
     "output_type": "display_data"
    },
    {
     "data": {
      "text/html": [
       "<table class=\"dataframe\">\n",
       "<caption>A data.frame: 3 × 2</caption>\n",
       "<thead>\n",
       "\t<tr><th></th><th scope=col>a</th><th scope=col>a_cubed</th></tr>\n",
       "\t<tr><th></th><th scope=col>&lt;dbl&gt;</th><th scope=col>&lt;dbl&gt;</th></tr>\n",
       "</thead>\n",
       "<tbody>\n",
       "\t<tr><th scope=row>1</th><td>33</td><td> 35937</td></tr>\n",
       "\t<tr><th scope=row>2</th><td>44</td><td> 85184</td></tr>\n",
       "\t<tr><th scope=row>3</th><td>92</td><td>778688</td></tr>\n",
       "</tbody>\n",
       "</table>\n"
      ],
      "text/latex": [
       "A data.frame: 3 × 2\n",
       "\\begin{tabular}{r|ll}\n",
       "  & a & a\\_cubed\\\\\n",
       "  & <dbl> & <dbl>\\\\\n",
       "\\hline\n",
       "\t1 & 33 &  35937\\\\\n",
       "\t2 & 44 &  85184\\\\\n",
       "\t3 & 92 & 778688\\\\\n",
       "\\end{tabular}\n"
      ],
      "text/markdown": [
       "\n",
       "A data.frame: 3 × 2\n",
       "\n",
       "| <!--/--> | a &lt;dbl&gt; | a_cubed &lt;dbl&gt; |\n",
       "|---|---|---|\n",
       "| 1 | 33 |  35937 |\n",
       "| 2 | 44 |  85184 |\n",
       "| 3 | 92 | 778688 |\n",
       "\n"
      ],
      "text/plain": [
       "  a  a_cubed\n",
       "1 33  35937 \n",
       "2 44  85184 \n",
       "3 92 778688 "
      ]
     },
     "metadata": {},
     "output_type": "display_data"
    }
   ],
   "source": [
    "# III.  R classes and packages\n",
    "\n",
    "# Make and write a data.frame, a 2D array with column names\n",
    "\n",
    "d <- data.frame(cbind(seq(1:4), a, a^3))  # Bind columns into data frame\n",
    "names(d) <- c('ID', 'a', 'a_cubed') # Column names for data frame                                         \n",
    "d2 <- d[-4,-1]                            # Remove 4th row and 1st column\n",
    "d ; d2\n",
    "write.table(d, file='d.txt', quote=FALSE, row.names=FALSE)"
   ]
  },
  {
   "cell_type": "code",
   "execution_count": 10,
   "metadata": {
    "id": "ztTRx65CBu1G",
    "vscode": {
     "languageId": "r"
    }
   },
   "outputs": [
    {
     "name": "stdout",
     "output_type": "stream",
     "text": [
      "List of 3\n",
      " $ star       : chr [1:2] \"Sirius\" \"Procyon\"\n",
      " $ SpTy       : chr [1:3] \"O\" \"B\" \"A\"\n",
      " $ Hubble_km.s: num 68\n",
      "List of 3\n",
      " $ star       : chr [1:2] \"Sirius\" \"Procyon\"\n",
      " $ SpTy       :List of 1\n",
      "  ..$ subtype: num [1:10] 0.1 0.2 0.3 0.4 0.5 0.6 0.7 0.8 0.9 1\n",
      " $ Hubble_km.s: num 68\n"
     ]
    },
    {
     "data": {
      "text/html": [
       "<style>\n",
       ".list-inline {list-style: none; margin:0; padding: 0}\n",
       ".list-inline>li {display: inline-block}\n",
       ".list-inline>li:not(:last-child)::after {content: \"\\00b7\"; padding: 0 .5ex}\n",
       "</style>\n",
       "<ol class=list-inline><li>0.1</li><li>0.2</li><li>0.3</li></ol>\n"
      ],
      "text/latex": [
       "\\begin{enumerate*}\n",
       "\\item 0.1\n",
       "\\item 0.2\n",
       "\\item 0.3\n",
       "\\end{enumerate*}\n"
      ],
      "text/markdown": [
       "1. 0.1\n",
       "2. 0.2\n",
       "3. 0.3\n",
       "\n",
       "\n"
      ],
      "text/plain": [
       "[1] 0.1 0.2 0.3"
      ]
     },
     "metadata": {},
     "output_type": "display_data"
    }
   ],
   "source": [
    "# Make and show a list.\n",
    "\n",
    "b_list <- list(star=c('Sirius', 'Procyon'), SpTy=c('O','B','A'), Hubble_km.s=68)\n",
    "str(b_list)\n",
    "b_list[['SpTy']] = list(subtype=seq(0.1:0.9, by=0.1))\n",
    "str(b_list)\n",
    "\n",
    "# Access named elements of a list with the dollar sign ($)\n",
    "b_list$SpTy$subtype[1:3]"
   ]
  },
  {
   "cell_type": "markdown",
   "metadata": {
    "id": "l3gzeeavBu1G"
   },
   "source": [
    "### R packages\n",
    "\n",
    "The ~20,000 CRAN packages are obtained on-the-fly when they are needed. Several dozen packages are already in the base-R release, and can be used with the *library* or *require* command.  Most packages are on mirror sites hosted by institutions around the world, but are most easily downloaded from the commercial cloud at *https://cloud.r-project.org*. \n",
    "\n",
    "There is no useful index of the CRAN packages and their many functions. The collection expanded exponentially during the 2000s and is now growing by sevearal packages every day.  Expert volunteers in ~40 statistical areas update lists of CRAN packages in their area; these are accesses on the Web at [CRAN Task Views](https://cran.r-project.org/web/views/). Task Views of particular interest to astronomers include _Bayesian_, _Cluster_, _HighPerformanceComputing_, _MachineLearning_, _Multivariate_, _Optimization_, _Robust_, _Spatial_, _Survival_, and _TimeSeries_. \n",
    "\n",
    "Astronomy-specific packages (e.g. stellar evolutionary tracks, celestial mechanics) are listed in the _ChemPhys_ CRAN Task View. The package _FITSio_ reads astronomical FITS formatted files and headers, converting them into an R list. The package _astrolibR_ is a collection of long-established functionalities useful in astronomical research, translated from the _IDL Astronomy Library_."
   ]
  },
  {
   "cell_type": "code",
   "execution_count": 11,
   "metadata": {
    "id": "CfyTfVFjBu1H",
    "vscode": {
     "languageId": "r"
    }
   },
   "outputs": [
    {
     "name": "stdout",
     "output_type": "stream",
     "text": [
      "package 'xtable' successfully unpacked and MD5 sums checked\n",
      "\n",
      "The downloaded binary packages are in\n",
      "\tC:\\Users\\Time27.B1729\\AppData\\Local\\Temp\\RtmpO8jZTx\\downloaded_packages\n"
     ]
    },
    {
     "name": "stderr",
     "output_type": "stream",
     "text": [
      "Warning message:\n",
      "\"package 'xtable' was built under R version 4.4.3\"\n"
     ]
    }
   ],
   "source": [
    "# Download and use a CRAN package\n",
    "install.packages('xtable') # Download CRAN package\n",
    "library(xtable)                         # Bring LaTeX package into this R session\n",
    "print(xtable(d), file='d.tex')          # Use a function in the package\n",
    "                                        # Here we write an ASCII table with LaTeX format"
   ]
  },
  {
   "cell_type": "markdown",
   "metadata": {
    "id": "y3wODSx7Bu1H"
   },
   "source": [
    "### R help files\n",
    "\n",
    "R help files give essential information on all functions in a standard format:  \n",
    "1. The top lines give the package where the function resides and a brief description.  \n",
    "2. _Usage_ gives the list of inputs for the function.  Input parameters with an _=_ have a default and do not need to be specified by the user.  \n",
    "3. _Arguments_ describes these input parameters.  \n",
    "4. _Details_ summarizes the functionality including formulae and algorithms. \n",
    "5. _Value_ gives the output of the function.  Typically the program specifies _outfn <- fn(x,y,z, option='special')_ so the full list of output values are available for use, such as _plot(outfn$x, outfn$y)_. \n",
    "6. _References_ to published literature where the function is described.\n",
    "7. _See also_ links to R functions with related purpose to the current function.\n",
    "8. _Examples_ show usage of the function, often with a built-in dataset.  Examples in R help files can always be cut-and-pasted into any R console.\n",
    "9. Use the arrow keys to scroll. Press the space bar to page down. Type 'q' to exit.\n",
    "\n",
    "R programmers are constantly referring help files.  Read a few help files used below in this tutorial, such as _seq_, _mad_, and _integrate_. "
   ]
  },
  {
   "cell_type": "code",
   "execution_count": 12,
   "metadata": {
    "id": "9oz0EHpqBu1I",
    "vscode": {
     "languageId": "r"
    }
   },
   "outputs": [],
   "source": [
    "help(seq)"
   ]
  },
  {
   "cell_type": "code",
   "execution_count": null,
   "metadata": {
    "id": "Xsoo2wwXBu1I",
    "vscode": {
     "languageId": "r"
    }
   },
   "outputs": [],
   "source": [
    "help(mad)"
   ]
  },
  {
   "cell_type": "code",
   "execution_count": null,
   "metadata": {
    "id": "E8FVcV7qBu1I",
    "vscode": {
     "languageId": "r"
    }
   },
   "outputs": [],
   "source": [
    "help(integrate)"
   ]
  },
  {
   "cell_type": "code",
   "execution_count": 1,
   "metadata": {
    "id": "jR8gkmzYBu1J",
    "vscode": {
     "languageId": "r"
    }
   },
   "outputs": [
    {
     "data": {
      "text/html": [
       "8"
      ],
      "text/latex": [
       "8"
      ],
      "text/markdown": [
       "8"
      ],
      "text/plain": [
       "[1] 8"
      ]
     },
     "metadata": {},
     "output_type": "display_data"
    },
    {
     "data": {
      "text/html": [
       "2"
      ],
      "text/latex": [
       "2"
      ],
      "text/markdown": [
       "2"
      ],
      "text/plain": [
       "[1] 2"
      ]
     },
     "metadata": {},
     "output_type": "display_data"
    },
    {
     "data": {
      "text/html": [
       "15"
      ],
      "text/latex": [
       "15"
      ],
      "text/markdown": [
       "15"
      ],
      "text/plain": [
       "[1] 15"
      ]
     },
     "metadata": {},
     "output_type": "display_data"
    },
    {
     "data": {
      "text/html": [
       "1.66666666666667"
      ],
      "text/latex": [
       "1.66666666666667"
      ],
      "text/markdown": [
       "1.66666666666667"
      ],
      "text/plain": [
       "[1] 1.666667"
      ]
     },
     "metadata": {},
     "output_type": "display_data"
    },
    {
     "data": {
      "text/html": [
       "125"
      ],
      "text/latex": [
       "125"
      ],
      "text/markdown": [
       "125"
      ],
      "text/plain": [
       "[1] 125"
      ]
     },
     "metadata": {},
     "output_type": "display_data"
    },
    {
     "data": {
      "text/html": [
       "8"
      ],
      "text/latex": [
       "8"
      ],
      "text/markdown": [
       "8"
      ],
      "text/plain": [
       "[1] 8"
      ]
     },
     "metadata": {},
     "output_type": "display_data"
    }
   ],
   "source": [
    "# IV. Arithmetic, algebra, trigonometry, and formatting numerics\n",
    "\n",
    "5 + 3 ; 5-3 ; 5*3 ; 5/3 ; 5^3\n",
    "x <- 5 ; y <- 3\n",
    "x+y "
   ]
  },
  {
   "cell_type": "code",
   "execution_count": 2,
   "metadata": {
    "id": "aSxCAf16Bu1J",
    "vscode": {
     "languageId": "r"
    }
   },
   "outputs": [
    {
     "data": {
      "text/html": [
       "0"
      ],
      "text/latex": [
       "0"
      ],
      "text/markdown": [
       "0"
      ],
      "text/plain": [
       "[1] 0"
      ]
     },
     "metadata": {},
     "output_type": "display_data"
    },
    {
     "data": {
      "text/html": [
       "1"
      ],
      "text/latex": [
       "1"
      ],
      "text/markdown": [
       "1"
      ],
      "text/plain": [
       "[1] 1"
      ]
     },
     "metadata": {},
     "output_type": "display_data"
    },
    {
     "data": {
      "text/html": [
       "<style>\n",
       ".list-inline {list-style: none; margin:0; padding: 0}\n",
       ".list-inline>li {display: inline-block}\n",
       ".list-inline>li:not(:last-child)::after {content: \"\\00b7\"; padding: 0 .5ex}\n",
       "</style>\n",
       "<ol class=list-inline><li>0</li><li>0.0541389085854175</li><li>0.108119018423942</li><li>0.161781996552765</li><li>0.214970440211024</li><li>0.267528338529221</li><li>0.31930153013598</li><li>0.370138155339914</li><li>0.419889101560265</li><li>0.46840844069979</li><li>0.515553857177022</li><li>0.561187065362382</li><li>0.605174215193765</li><li>0.647386284781828</li><li>0.687699458853423</li><li>0.725995491923131</li><li>0.762162055127636</li><li>0.796093065705644</li><li>0.827688998156891</li><li>0.856857176167589</li><li>0.883512044446023</li><li>0.907575419670957</li><li>0.928976719816791</li><li>0.947653171182802</li><li>0.963549992519223</li><li>0.976620555710087</li><li>0.986826522541526</li><li>0.99413795715436</li><li>0.998533413851124</li><li>1</li></ol>\n"
      ],
      "text/latex": [
       "\\begin{enumerate*}\n",
       "\\item 0\n",
       "\\item 0.0541389085854175\n",
       "\\item 0.108119018423942\n",
       "\\item 0.161781996552765\n",
       "\\item 0.214970440211024\n",
       "\\item 0.267528338529221\n",
       "\\item 0.31930153013598\n",
       "\\item 0.370138155339914\n",
       "\\item 0.419889101560265\n",
       "\\item 0.46840844069979\n",
       "\\item 0.515553857177022\n",
       "\\item 0.561187065362382\n",
       "\\item 0.605174215193765\n",
       "\\item 0.647386284781828\n",
       "\\item 0.687699458853423\n",
       "\\item 0.725995491923131\n",
       "\\item 0.762162055127636\n",
       "\\item 0.796093065705644\n",
       "\\item 0.827688998156891\n",
       "\\item 0.856857176167589\n",
       "\\item 0.883512044446023\n",
       "\\item 0.907575419670957\n",
       "\\item 0.928976719816791\n",
       "\\item 0.947653171182802\n",
       "\\item 0.963549992519223\n",
       "\\item 0.976620555710087\n",
       "\\item 0.986826522541526\n",
       "\\item 0.99413795715436\n",
       "\\item 0.998533413851124\n",
       "\\item 1\n",
       "\\end{enumerate*}\n"
      ],
      "text/markdown": [
       "1. 0\n",
       "2. 0.0541389085854175\n",
       "3. 0.108119018423942\n",
       "4. 0.161781996552765\n",
       "5. 0.214970440211024\n",
       "6. 0.267528338529221\n",
       "7. 0.31930153013598\n",
       "8. 0.370138155339914\n",
       "9. 0.419889101560265\n",
       "10. 0.46840844069979\n",
       "11. 0.515553857177022\n",
       "12. 0.561187065362382\n",
       "13. 0.605174215193765\n",
       "14. 0.647386284781828\n",
       "15. 0.687699458853423\n",
       "16. 0.725995491923131\n",
       "17. 0.762162055127636\n",
       "18. 0.796093065705644\n",
       "19. 0.827688998156891\n",
       "20. 0.856857176167589\n",
       "21. 0.883512044446023\n",
       "22. 0.907575419670957\n",
       "23. 0.928976719816791\n",
       "24. 0.947653171182802\n",
       "25. 0.963549992519223\n",
       "26. 0.976620555710087\n",
       "27. 0.986826522541526\n",
       "28. 0.99413795715436\n",
       "29. 0.998533413851124\n",
       "30. 1\n",
       "\n",
       "\n"
      ],
      "text/plain": [
       " [1] 0.00000000 0.05413891 0.10811902 0.16178200 0.21497044 0.26752834\n",
       " [7] 0.31930153 0.37013816 0.41988910 0.46840844 0.51555386 0.56118707\n",
       "[13] 0.60517422 0.64738628 0.68769946 0.72599549 0.76216206 0.79609307\n",
       "[19] 0.82768900 0.85685718 0.88351204 0.90757542 0.92897672 0.94765317\n",
       "[25] 0.96354999 0.97662056 0.98682652 0.99413796 0.99853341 1.00000000"
      ]
     },
     "metadata": {},
     "output_type": "display_data"
    }
   ],
   "source": [
    "sin(0)  ; sin(pi/2)         # note angles are in radians\n",
    "ang <- seq(0, pi/2, length=30) \n",
    "sin(ang)"
   ]
  },
  {
   "cell_type": "code",
   "execution_count": 3,
   "metadata": {
    "id": "Q9KE-u3wBu1K",
    "vscode": {
     "languageId": "r"
    }
   },
   "outputs": [
    {
     "data": {
      "text/html": [
       "12345"
      ],
      "text/latex": [
       "12345"
      ],
      "text/markdown": [
       "12345"
      ],
      "text/plain": [
       "[1] 12345"
      ]
     },
     "metadata": {},
     "output_type": "display_data"
    },
    {
     "data": {
      "text/html": [
       "12346"
      ],
      "text/latex": [
       "12346"
      ],
      "text/markdown": [
       "12346"
      ],
      "text/plain": [
       "[1] 12346"
      ]
     },
     "metadata": {},
     "output_type": "display_data"
    },
    {
     "data": {
      "text/html": [
       "'1.2e+04'"
      ],
      "text/latex": [
       "'1.2e+04'"
      ],
      "text/markdown": [
       "'1.2e+04'"
      ],
      "text/plain": [
       "[1] \"1.2e+04\""
      ]
     },
     "metadata": {},
     "output_type": "display_data"
    },
    {
     "data": {
      "text/html": [
       "2.99573227355399"
      ],
      "text/latex": [
       "2.99573227355399"
      ],
      "text/markdown": [
       "2.99573227355399"
      ],
      "text/plain": [
       "[1] 2.995732"
      ]
     },
     "metadata": {},
     "output_type": "display_data"
    },
    {
     "data": {
      "text/html": [
       "1.30102999566398"
      ],
      "text/latex": [
       "1.30102999566398"
      ],
      "text/markdown": [
       "1.30102999566398"
      ],
      "text/plain": [
       "[1] 1.30103"
      ]
     },
     "metadata": {},
     "output_type": "display_data"
    }
   ],
   "source": [
    "trunc(12345.6789) ; round(12345.6789)  \n",
    "format(12345.6789, digits=2, scientific=TRUE)   \n",
    "\n",
    "log(20)  ;  log10(20)   # log() in R is base-e. Use log10() for base-10 logarithms."
   ]
  },
  {
   "cell_type": "markdown",
   "metadata": {
    "id": "EKXQQmynBu1K"
   },
   "source": [
    "> **Exercise 1:** Practice R syntax.  Practice with some elementary R functions: arithmetic and algebra, 2-dimensional array manipulation, producing multi-element lists.  Write a brief program exercising program flow control (if, ifelse, when, repeat, break, stop, etc.)"
   ]
  },
  {
   "cell_type": "code",
   "execution_count": 20,
   "metadata": {
    "vscode": {
     "languageId": "r"
    }
   },
   "outputs": [
    {
     "name": "stdout",
     "output_type": "stream",
     "text": [
      "The quadratic equation is ( 3 x^2 + 5 x + 7 = 0 )\n",
      "The roots are  -7.5+11.52172i , -7.5-11.52172i"
     ]
    }
   ],
   "source": [
    "# Exercise 1 soln\n",
    "\n",
    "sqrt_ <- function(x){\n",
    " if (x<0){\n",
    "   return(sqrt(as.complex(x)))\n",
    " } else{\n",
    "   return(sqrt(x))\n",
    " }\n",
    "}\n",
    "\n",
    "quadsolver <- function(a,b,c){\n",
    "  x1 = (-b + sqrt_(b^2 - 4*a*c)) / 2*a\n",
    "  x2 = (-b - sqrt_(b^2 - 4*a*c)) / 2*a\n",
    "  cat(\"The roots are \",x1,\",\",x2)\n",
    "}\n",
    "\n",
    "x <- c(3, 5, 7) # Make changes here\n",
    "if (length(x) == 3){\n",
    "  a=x[1]; b=x[2]; c=x[3];\n",
    "  cat(\"The quadratic equation is (\",a,\"x^2 +\",b,\"x +\",c,\"= 0 )\\n\")\n",
    "  quadsolver(a,b,c)\n",
    "} else{\n",
    "  cat(\"Enter 3 integers, you stupid fool!!\")\n",
    "}\n"
   ]
  },
  {
   "cell_type": "code",
   "execution_count": 4,
   "metadata": {
    "id": "xedKpyEZBu1K",
    "vscode": {
     "languageId": "r"
    }
   },
   "outputs": [
    {
     "data": {
      "text/html": [
       "<style>\n",
       ".list-inline {list-style: none; margin:0; padding: 0}\n",
       ".list-inline>li {display: inline-block}\n",
       ".list-inline>li:not(:last-child)::after {content: \"\\00b7\"; padding: 0 .5ex}\n",
       "</style>\n",
       "<ol class=list-inline><li>0</li><li>0.1</li><li>0.2</li><li>0.3</li><li>0.4</li><li>0.5</li></ol>\n"
      ],
      "text/latex": [
       "\\begin{enumerate*}\n",
       "\\item 0\n",
       "\\item 0.1\n",
       "\\item 0.2\n",
       "\\item 0.3\n",
       "\\item 0.4\n",
       "\\item 0.5\n",
       "\\end{enumerate*}\n"
      ],
      "text/markdown": [
       "1. 0\n",
       "2. 0.1\n",
       "3. 0.2\n",
       "4. 0.3\n",
       "5. 0.4\n",
       "6. 0.5\n",
       "\n",
       "\n"
      ],
      "text/plain": [
       "[1] 0.0 0.1 0.2 0.3 0.4 0.5"
      ]
     },
     "metadata": {},
     "output_type": "display_data"
    },
    {
     "data": {
      "text/html": [
       "<style>\n",
       ".list-inline {list-style: none; margin:0; padding: 0}\n",
       ".list-inline>li {display: inline-block}\n",
       ".list-inline>li:not(:last-child)::after {content: \"\\00b7\"; padding: 0 .5ex}\n",
       "</style>\n",
       "<ol class=list-inline><li>0</li><li>441.176470588235</li><li>882.352941176471</li><li>1323.52941176471</li><li>1764.70588235294</li><li>2205.88235294118</li></ol>\n"
      ],
      "text/latex": [
       "\\begin{enumerate*}\n",
       "\\item 0\n",
       "\\item 441.176470588235\n",
       "\\item 882.352941176471\n",
       "\\item 1323.52941176471\n",
       "\\item 1764.70588235294\n",
       "\\item 2205.88235294118\n",
       "\\end{enumerate*}\n"
      ],
      "text/markdown": [
       "1. 0\n",
       "2. 441.176470588235\n",
       "3. 882.352941176471\n",
       "4. 1323.52941176471\n",
       "5. 1764.70588235294\n",
       "6. 2205.88235294118\n",
       "\n",
       "\n"
      ],
      "text/plain": [
       "[1]    0.0000  441.1765  882.3529 1323.5294 1764.7059 2205.8824"
      ]
     },
     "metadata": {},
     "output_type": "display_data"
    },
    {
     "data": {
      "text/html": [
       "'numeric'"
      ],
      "text/latex": [
       "'numeric'"
      ],
      "text/markdown": [
       "'numeric'"
      ],
      "text/plain": [
       "[1] \"numeric\""
      ]
     },
     "metadata": {},
     "output_type": "display_data"
    }
   ],
   "source": [
    "# V. Astrophysical calculations of galaxy distances \n",
    "\n",
    "# The `function' function: Note how one function uses another\n",
    "# This how R builds new capabilities based on old capabilities in a compact syntax.\n",
    "\n",
    "# First, make a simple calculation without functions\n",
    "\n",
    "z <- seq(0.0, 0.5, 0.1)\n",
    "z\n",
    "H_0 <- 68  \t \t\t\t# km/s/Mpc,  Planck value\n",
    "\n",
    "# Unlike in Python, names of variables and functions are allowed to contain period characters. The period is not an operator.\n",
    "speed.light <- 3.0E5  \t# km/s\n",
    "dist <- speed.light*z / H_0\n",
    "dist\n",
    "class(dist)"
   ]
  },
  {
   "cell_type": "code",
   "execution_count": 19,
   "metadata": {
    "id": "0XeBS0vYBu1L",
    "vscode": {
     "languageId": "r"
    }
   },
   "outputs": [],
   "source": [
    "# Now, make a more complicated calculation with function\n",
    "\n",
    "Omega_m <- (0.022068 + 0.12029) / (H_0/100)^2    \n",
    "Omega_Lambda <- 0.6825                    # Planck satellite values\n",
    "\n",
    "E.H0 <- function(redshift) {\n",
    "    sqrt(Omega_m*(1+redshift)^3 + Omega_Lambda)\n",
    "}\n",
    "\n",
    "lum.dist <- function(redshift) {  \n",
    "\tluminosity.distance = (speed.light/H_0) * integrate(E.H0, 0, redshift)$value \n",
    "\treturn(luminosity.distance)\n",
    "}\n",
    "\n",
    "# Vectorize() takes the name of a function and creates a new function which\n",
    "# can be applied to a vector, rather than a number. In the line below we\n",
    "# create a vectorized version of `lum.dist` and immediately call it with our\n",
    "# vector `z` as the argument to compute the distance to each value in `z`.\n",
    "distGR <- Vectorize(lum.dist)(z)"
   ]
  },
  {
   "cell_type": "code",
   "execution_count": 17,
   "metadata": {
    "id": "GVUw7oudBu1L",
    "vscode": {
     "languageId": "r"
    }
   },
   "outputs": [
    {
     "data": {
      "image/png": "[encoded data removed]",
      "text/plain": [
       "plot without title"
      ]
     },
     "metadata": {
      "image/png": {
       "height": 600,
       "width": 840
      }
     },
     "output_type": "display_data"
    }
   ],
   "source": [
    "# Plot the results\n",
    "# The 'plot' function has extensive options to change format; see 'help(par)'\n",
    "\n",
    "options(jupyter.plot_scale=1)\n",
    "options(repr.plot.width = 7, repr.plot.height = 5)\n",
    "\n",
    "plot(z, distGR, type='l', lty=2, lwd=2, ylab='Distance (Mpc)')\n",
    "lines(z, dist, lty=1, lwd=2)   \n",
    "legend(0.0, 2500, lty=c(1,2), lwd=c(2,2), title='Galaxy distances', \n",
    "     \tlegend=c('Euclidean', expression(Lambda*CDM)))"
   ]
  },
  {
   "cell_type": "markdown",
   "metadata": {
    "id": "DzR3md3qBu1L"
   },
   "source": [
    "> **Exercise 2.** Integrate an astrophysical function.  Estimate the age of the Universe as a function of redshift for a standard $\\Lambda$CDM universe model: \n",
    "$$ t(z) = H_0^{-1} \\int_{z}^{\\infty}\\frac{dz'}{(1+z')h(z')} $$ \n",
    "where $ h(z) = \\sqrt{(1-\\Omega_{total})(1+z)^2 + \\Omega_m(1+z)^3 + \\Omega_{\\Lambda} } $, $\\Omega_m$ is the matter density parameter, and $\\Omega_{\\Lambda}$ is the dark energy density parameter. Plot the age of the Universe vs. redshift ($z=0$ to 10) for three hypothetical universes: matter-dominated ($\\Omega_m=1.0$ and $\\Omega_{\\Lambda}=0.0$), dark-energy-dominated ($\\Omega_m=0.01$ and $\\Omega_{\\Lambda}=0.99$), and a realistic universe ($\\Omega_m=0.31$ and $\\Omega_{\\Lambda}=0.69$).  This problem and solution is courtesy of graduate student Phoebe Sandhaus, Penn State."
   ]
  },
  {
   "cell_type": "code",
   "execution_count": 25,
   "metadata": {
    "vscode": {
     "languageId": "r"
    }
   },
   "outputs": [
    {
     "data": {
      "image/png": "[encoded data removed]",
      "text/plain": [
       "plot without title"
      ]
     },
     "metadata": {
      "image/png": {
       "height": 600,
       "width": 840
      }
     },
     "output_type": "display_data"
    }
   ],
   "source": [
    "# Exercise 2 soln\n",
    "\n",
    "library(ggplot2)\n",
    "\n",
    "H0 = 68 * 1e3 / (3.086e19)\n",
    "\n",
    "h_z <- function(z, omega_m, omega_lambda){\n",
    "    omega_total = omega_m + omega_lambda\n",
    "    return(sqrt((1-omega_total)*(1+z)^2 + omega_m*(1+z)^3 + omega_lambda))\n",
    "}\n",
    "\n",
    "integrand <- function(z, omega_m, omega_lambda){\n",
    "    return(1/((1+z)*h_z(z, omega_m, omega_lambda)))\n",
    "}\n",
    "\n",
    "t_z <- function(z, omega_m, omega_lambda){\n",
    "    return(integrate(integrand, lower = z, upper = 1000, omega_m = omega_m, omega_lambda = omega_lambda)$value / H0)\n",
    "}\n",
    "\n",
    "age_of_universe_vec <- Vectorize(t_z, vectorize.args = 'z')\n",
    "\n",
    "z=seq(0, 10, by=0.1)\n",
    "\n",
    "models <- list(\n",
    "  \"Matter-dominated\" = list(omega_m = 1.0, omega_lambda = 0.0),\n",
    "  \"Dark-energy-dominated\" = list(omega_m = 0.01, omega_lambda = 0.99),\n",
    "  \"Realistic ΛCDM\" = list(omega_m = 0.31, omega_lambda = 0.69)\n",
    ")\n",
    "\n",
    "ages <- lapply(models, function(params){\n",
    "    age_of_universe_vec(z, params$omega_m, params$omega_lambda)\n",
    "})\n",
    "\n",
    "plot_data = data.frame(\n",
    "    z = rep(z, times = length(models)),\n",
    "    Age = unlist(ages),\n",
    "    Model = rep(names(models), each = length(z))\n",
    ")\n",
    "\n",
    "plot_data$Age_Gyr = plot_data$Age / (60 * 60 * 24 * 365.25 * 1e9)\n",
    "\n",
    "ggplot(plot_data, aes(x = z, y = Age_Gyr, color = Model)) +\n",
    "  geom_line(linewidth = 1) +\n",
    "  scale_x_continuous(breaks = seq(0, 10, by = 1)) +\n",
    "  labs(title = \"Age of the Universe as a Function of Redshift\",\n",
    "       x = \"Redshift (z)\",\n",
    "       y = \"Age of the Universe (Gyr)\",\n",
    "       color = \"Cosmological Model\") +\n",
    "  theme_minimal() +\n",
    "  theme(legend.position.inside = c(0.8, 0.8),\n",
    "        plot.title = element_text(hjust = 0.5))"
   ]
  },
  {
   "cell_type": "code",
   "execution_count": 26,
   "metadata": {
    "id": "12_Y8En8Bu1M",
    "vscode": {
     "languageId": "r"
    }
   },
   "outputs": [
    {
     "data": {
      "text/plain": [
       "   Min. 1st Qu.  Median    Mean 3rd Qu.    Max. \n",
       " 0.0100  0.7575  1.5050  1.5050  2.2525  3.0000 "
      ]
     },
     "metadata": {},
     "output_type": "display_data"
    },
    {
     "data": {
      "text/plain": [
       "   Min. 1st Qu.  Median    Mean 3rd Qu.    Max. \n",
       " 0.2424  0.8173  0.9772  1.0224  1.1093  2.4776 "
      ]
     },
     "metadata": {},
     "output_type": "display_data"
    },
    {
     "data": {
      "image/png": "[encoded data removed]",
      "text/plain": [
       "plot without title"
      ]
     },
     "metadata": {
      "image/png": {
       "height": 600,
       "width": 840
      }
     },
     "output_type": "display_data"
    }
   ],
   "source": [
    "# VI. Examine, summarize and plot univariate distributions: \n",
    "# dot plot, box plot, histogram\n",
    "\n",
    "set.seed(1)\n",
    "x <- sample(seq(0.01, 3, length.out=500))\n",
    "y <- 0.5*x + 0.3^(x^2) + rnorm(500, mean=0, sd=(0.05*(1+x^2)))\n",
    "xy <- cbind(x, y)\n",
    "\n",
    "plot(xy, pch=20)\n",
    "summary(x) ; summary(y)   \t# Summarizes properties of an R object"
   ]
  },
  {
   "cell_type": "code",
   "execution_count": 27,
   "metadata": {
    "id": "ij9bEU1hBu1M",
    "vscode": {
     "languageId": "r"
    }
   },
   "outputs": [
    {
     "data": {
      "text/html": [
       "<strong>pdf:</strong> 2"
      ],
      "text/latex": [
       "\\textbf{pdf:} 2"
      ],
      "text/markdown": [
       "**pdf:** 2"
      ],
      "text/plain": [
       "pdf \n",
       "  2 "
      ]
     },
     "metadata": {},
     "output_type": "display_data"
    },
    {
     "data": {
      "image/png": "[encoded data removed]",
      "text/plain": [
       "Plot with title \"Boxplot for Y\""
      ]
     },
     "metadata": {
      "image/png": {
       "height": 600,
       "width": 840
      }
     },
     "output_type": "display_data"
    }
   ],
   "source": [
    "par(mfrow=c(1,2))  \t\t# Set up a two-panel figure\n",
    "boxplot(x,  notch=T, main='Boxplot for X')\n",
    "boxplot(y,  notch=T, pch=20, cex=0.5, main='Boxplot for Y')\n",
    "dev.copy2pdf(file='box.pdf')"
   ]
  },
  {
   "cell_type": "code",
   "execution_count": 28,
   "metadata": {
    "id": "DLtSdNdaBu1M",
    "vscode": {
     "languageId": "r"
    }
   },
   "outputs": [
    {
     "data": {
      "image/png": "[encoded data removed]",
      "text/plain": [
       "Plot with title \"\""
      ]
     },
     "metadata": {
      "image/png": {
       "height": 600,
       "width": 840
      }
     },
     "output_type": "display_data"
    }
   ],
   "source": [
    "par(mfrow=c(1,1))\n",
    "hist(x, breaks=30, main='', xlim=range(x), ylim=c(0,100), \n",
    "     xlab='Yvar', col='royalblue4')\n",
    "\n",
    "# add=TRUE suppresses a new plot, and plots on top of the existing one instead\n",
    "hist(y, breaks=30, main='', xlab='Yvar', \n",
    "     col='#ee3b3b70', add=TRUE)"
   ]
  },
  {
   "cell_type": "code",
   "execution_count": 29,
   "metadata": {
    "id": "ok9hIMnSBu1N",
    "vscode": {
     "languageId": "r"
    }
   },
   "outputs": [
    {
     "data": {
      "image/png": "[encoded data removed]",
      "text/plain": [
       "Plot with title \"Normal Q-Q Plot\""
      ]
     },
     "metadata": {
      "image/png": {
       "height": 600,
       "width": 840
      }
     },
     "output_type": "display_data"
    }
   ],
   "source": [
    "qqnorm(y, pch=20, cex=0.5)  # Quantile function of y compared to normal distribution\n",
    "qqline(y)\t\t\t\t\t# Expected relationship if y is normal"
   ]
  },
  {
   "cell_type": "code",
   "execution_count": 30,
   "metadata": {
    "id": "YpY2ku3QBu1N",
    "vscode": {
     "languageId": "r"
    }
   },
   "outputs": [
    {
     "data": {
      "text/html": [
       "<strong>pdf:</strong> 2"
      ],
      "text/latex": [
       "\\textbf{pdf:} 2"
      ],
      "text/markdown": [
       "**pdf:** 2"
      ],
      "text/plain": [
       "pdf \n",
       "  2 "
      ]
     },
     "metadata": {},
     "output_type": "display_data"
    },
    {
     "data": {
      "image/png": "[encoded data removed]",
      "text/plain": [
       "Plot with title \"\""
      ]
     },
     "metadata": {
      "image/png": {
       "height": 600,
       "width": 840
      }
     },
     "output_type": "display_data"
    }
   ],
   "source": [
    "plot(ecdf(x), pch=20, cex=0.0, verticals=TRUE, main='',ylab='EDF',xlab='')  \n",
    "plot(ecdf(y), pch=20, cex=0.0, verticals=TRUE, add=T)\n",
    "text(2.0,0.5,\"X\") ; text(1.4,0.8,\"Y\")             # text adds annotation within a plot\n",
    "dev.copy2pdf(file='ecdf.pdf')"
   ]
  },
  {
   "cell_type": "code",
   "execution_count": 31,
   "metadata": {
    "id": "ncdJ73d5Bu1N",
    "vscode": {
     "languageId": "r"
    }
   },
   "outputs": [
    {
     "name": "stdout",
     "output_type": "stream",
     "text": [
      " num [1:500, 1:2] 1.945 1.005 0.777 2.509 2.826 ...\n",
      " - attr(*, \"dimnames\")=List of 2\n",
      "  ..$ : NULL\n",
      "  ..$ : chr [1:2] \"x\" \"y\"\n"
     ]
    },
    {
     "data": {
      "text/html": [
       "1.94541082164329"
      ],
      "text/latex": [
       "1.94541082164329"
      ],
      "text/markdown": [
       "1.94541082164329"
      ],
      "text/plain": [
       "[1] 1.945411"
      ]
     },
     "metadata": {},
     "output_type": "display_data"
    },
    {
     "data": {
      "text/html": [
       "TRUE"
      ],
      "text/latex": [
       "TRUE"
      ],
      "text/markdown": [
       "TRUE"
      ],
      "text/plain": [
       "[1] TRUE"
      ]
     },
     "metadata": {},
     "output_type": "display_data"
    }
   ],
   "source": [
    "# VII. Arrays, data frames and filtering\n",
    "\n",
    "# Here xy is an `array' of numbers created by `column bind'\n",
    "\n",
    "xy <- cbind(x, y)  ;  str(xy) \t\n",
    "\n",
    "# A data.frame associates names to the columns\n",
    "\n",
    "xy <- as.data.frame(xy)         \n",
    "names(xy) <- c('Xvar', 'Yvar')\n",
    "\n",
    "# As with lists, access named columns with $\n",
    "\n",
    "xy$Xvar[1]\n",
    "\n",
    "# Collect rows where the first column value exceeds 2\n",
    "# A lack of index means \"all indices\". Spaces added here for readability\n",
    "high_x1 <- xy[xy[ ,1]>2, ]        \n",
    "high_x2 <- subset(xy, xy[ ,1]>2)\t# Another way to extract rows\n",
    "setequal(high_x1, high_x2)      # test equality of two vectors"
   ]
  },
  {
   "cell_type": "code",
   "execution_count": 32,
   "metadata": {
    "id": "tOjtmrwbBu1N",
    "vscode": {
     "languageId": "r"
    }
   },
   "outputs": [
    {
     "data": {
      "text/html": [
       "<table class=\"dataframe\">\n",
       "<caption>A data.frame: 20 × 2</caption>\n",
       "<thead>\n",
       "\t<tr><th></th><th scope=col>Xvar</th><th scope=col>Yvar</th></tr>\n",
       "\t<tr><th></th><th scope=col>&lt;dbl&gt;</th><th scope=col>&lt;dbl&gt;</th></tr>\n",
       "</thead>\n",
       "<tbody>\n",
       "\t<tr><th scope=row>365</th><td>1.3701804</td><td>0.7474357</td></tr>\n",
       "\t<tr><th scope=row>70</th><td>0.6271743</td><td>0.9346030</td></tr>\n",
       "\t<tr><th scope=row>64</th><td>2.4127856</td><td>1.6647248</td></tr>\n",
       "\t<tr><th scope=row>500</th><td>2.7603206</td><td>0.8825305</td></tr>\n",
       "\t<tr><th scope=row>281</th><td>2.0892184</td><td>0.9773200</td></tr>\n",
       "\t<tr><th scope=row>42</th><td>0.1238477</td><td>1.0158780</td></tr>\n",
       "\t<tr><th scope=row>39</th><td>0.6691182</td><td>0.9584457</td></tr>\n",
       "\t<tr><th scope=row>205</th><td>2.3229058</td><td>1.3180341</td></tr>\n",
       "\t<tr><th scope=row>225</th><td>0.2137275</td><td>1.1109325</td></tr>\n",
       "\t<tr><th scope=row>396</th><td>0.3335671</td><td>1.0662892</td></tr>\n",
       "\t<tr><th scope=row>103</th><td>2.0772345</td><td>0.5875749</td></tr>\n",
       "\t<tr><th scope=row>458</th><td>1.4600601</td><td>1.0011638</td></tr>\n",
       "\t<tr><th scope=row>185</th><td>1.2443487</td><td>0.7457332</td></tr>\n",
       "\t<tr><th scope=row>496</th><td>2.5506012</td><td>0.9916612</td></tr>\n",
       "\t<tr><th scope=row>378</th><td>2.2749699</td><td>1.3308069</td></tr>\n",
       "\t<tr><th scope=row>1</th><td>1.9454108</td><td>0.6358329</td></tr>\n",
       "\t<tr><th scope=row>138</th><td>1.4001403</td><td>0.9196471</td></tr>\n",
       "\t<tr><th scope=row>412</th><td>0.3155912</td><td>1.1018845</td></tr>\n",
       "\t<tr><th scope=row>165</th><td>2.8741683</td><td>2.2937229</td></tr>\n",
       "\t<tr><th scope=row>245</th><td>2.4786974</td><td>1.3711992</td></tr>\n",
       "</tbody>\n",
       "</table>\n"
      ],
      "text/latex": [
       "A data.frame: 20 × 2\n",
       "\\begin{tabular}{r|ll}\n",
       "  & Xvar & Yvar\\\\\n",
       "  & <dbl> & <dbl>\\\\\n",
       "\\hline\n",
       "\t365 & 1.3701804 & 0.7474357\\\\\n",
       "\t70 & 0.6271743 & 0.9346030\\\\\n",
       "\t64 & 2.4127856 & 1.6647248\\\\\n",
       "\t500 & 2.7603206 & 0.8825305\\\\\n",
       "\t281 & 2.0892184 & 0.9773200\\\\\n",
       "\t42 & 0.1238477 & 1.0158780\\\\\n",
       "\t39 & 0.6691182 & 0.9584457\\\\\n",
       "\t205 & 2.3229058 & 1.3180341\\\\\n",
       "\t225 & 0.2137275 & 1.1109325\\\\\n",
       "\t396 & 0.3335671 & 1.0662892\\\\\n",
       "\t103 & 2.0772345 & 0.5875749\\\\\n",
       "\t458 & 1.4600601 & 1.0011638\\\\\n",
       "\t185 & 1.2443487 & 0.7457332\\\\\n",
       "\t496 & 2.5506012 & 0.9916612\\\\\n",
       "\t378 & 2.2749699 & 1.3308069\\\\\n",
       "\t1 & 1.9454108 & 0.6358329\\\\\n",
       "\t138 & 1.4001403 & 0.9196471\\\\\n",
       "\t412 & 0.3155912 & 1.1018845\\\\\n",
       "\t165 & 2.8741683 & 2.2937229\\\\\n",
       "\t245 & 2.4786974 & 1.3711992\\\\\n",
       "\\end{tabular}\n"
      ],
      "text/markdown": [
       "\n",
       "A data.frame: 20 × 2\n",
       "\n",
       "| <!--/--> | Xvar &lt;dbl&gt; | Yvar &lt;dbl&gt; |\n",
       "|---|---|---|\n",
       "| 365 | 1.3701804 | 0.7474357 |\n",
       "| 70 | 0.6271743 | 0.9346030 |\n",
       "| 64 | 2.4127856 | 1.6647248 |\n",
       "| 500 | 2.7603206 | 0.8825305 |\n",
       "| 281 | 2.0892184 | 0.9773200 |\n",
       "| 42 | 0.1238477 | 1.0158780 |\n",
       "| 39 | 0.6691182 | 0.9584457 |\n",
       "| 205 | 2.3229058 | 1.3180341 |\n",
       "| 225 | 0.2137275 | 1.1109325 |\n",
       "| 396 | 0.3335671 | 1.0662892 |\n",
       "| 103 | 2.0772345 | 0.5875749 |\n",
       "| 458 | 1.4600601 | 1.0011638 |\n",
       "| 185 | 1.2443487 | 0.7457332 |\n",
       "| 496 | 2.5506012 | 0.9916612 |\n",
       "| 378 | 2.2749699 | 1.3308069 |\n",
       "| 1 | 1.9454108 | 0.6358329 |\n",
       "| 138 | 1.4001403 | 0.9196471 |\n",
       "| 412 | 0.3155912 | 1.1018845 |\n",
       "| 165 | 2.8741683 | 2.2937229 |\n",
       "| 245 | 2.4786974 | 1.3711992 |\n",
       "\n"
      ],
      "text/plain": [
       "    Xvar      Yvar     \n",
       "365 1.3701804 0.7474357\n",
       "70  0.6271743 0.9346030\n",
       "64  2.4127856 1.6647248\n",
       "500 2.7603206 0.8825305\n",
       "281 2.0892184 0.9773200\n",
       "42  0.1238477 1.0158780\n",
       "39  0.6691182 0.9584457\n",
       "205 2.3229058 1.3180341\n",
       "225 0.2137275 1.1109325\n",
       "396 0.3335671 1.0662892\n",
       "103 2.0772345 0.5875749\n",
       "458 1.4600601 1.0011638\n",
       "185 1.2443487 0.7457332\n",
       "496 2.5506012 0.9916612\n",
       "378 2.2749699 1.3308069\n",
       "1   1.9454108 0.6358329\n",
       "138 1.4001403 0.9196471\n",
       "412 0.3155912 1.1018845\n",
       "165 2.8741683 2.2937229\n",
       "245 2.4786974 1.3711992"
      ]
     },
     "metadata": {},
     "output_type": "display_data"
    },
    {
     "data": {
      "text/html": [
       "<table class=\"dataframe\">\n",
       "<caption>A data.frame: 20 × 2</caption>\n",
       "<thead>\n",
       "\t<tr><th></th><th scope=col>Xvar</th><th scope=col>Yvar</th></tr>\n",
       "\t<tr><th></th><th scope=col>&lt;dbl&gt;</th><th scope=col>&lt;dbl&gt;</th></tr>\n",
       "</thead>\n",
       "<tbody>\n",
       "\t<tr><th scope=row>305</th><td>2.9940080</td><td>1.7156475</td></tr>\n",
       "\t<tr><th scope=row>33</th><td>2.0412826</td><td>1.1690420</td></tr>\n",
       "\t<tr><th scope=row>95</th><td>0.8968136</td><td>0.6275851</td></tr>\n",
       "\t<tr><th scope=row>328</th><td>2.5625852</td><td>1.8185672</td></tr>\n",
       "\t<tr><th scope=row>258</th><td>1.4720441</td><td>0.5118487</td></tr>\n",
       "\t<tr><th scope=row>71</th><td>2.9580561</td><td>1.3992631</td></tr>\n",
       "\t<tr><th scope=row>103</th><td>2.0772345</td><td>0.5875749</td></tr>\n",
       "\t<tr><th scope=row>368</th><td>1.0166533</td><td>0.7309967</td></tr>\n",
       "\t<tr><th scope=row>450</th><td>0.9267735</td><td>0.9471256</td></tr>\n",
       "\t<tr><th scope=row>376</th><td>0.2077355</td><td>0.9907566</td></tr>\n",
       "\t<tr><th scope=row>153</th><td>1.4840281</td><td>0.8761777</td></tr>\n",
       "\t<tr><th scope=row>478</th><td>2.7902806</td><td>1.1248269</td></tr>\n",
       "\t<tr><th scope=row>134</th><td>0.4713828</td><td>1.0070678</td></tr>\n",
       "\t<tr><th scope=row>60</th><td>0.9627255</td><td>0.8970635</td></tr>\n",
       "\t<tr><th scope=row>214</th><td>1.0106613</td><td>0.6736433</td></tr>\n",
       "\t<tr><th scope=row>102</th><td>0.7110621</td><td>0.8209460</td></tr>\n",
       "\t<tr><th scope=row>241</th><td>1.2143888</td><td>0.6604694</td></tr>\n",
       "\t<tr><th scope=row>66</th><td>1.2383567</td><td>0.8015349</td></tr>\n",
       "\t<tr><th scope=row>161</th><td>2.6344890</td><td>1.6030574</td></tr>\n",
       "\t<tr><th scope=row>133</th><td>2.4906814</td><td>1.4692744</td></tr>\n",
       "</tbody>\n",
       "</table>\n"
      ],
      "text/latex": [
       "A data.frame: 20 × 2\n",
       "\\begin{tabular}{r|ll}\n",
       "  & Xvar & Yvar\\\\\n",
       "  & <dbl> & <dbl>\\\\\n",
       "\\hline\n",
       "\t305 & 2.9940080 & 1.7156475\\\\\n",
       "\t33 & 2.0412826 & 1.1690420\\\\\n",
       "\t95 & 0.8968136 & 0.6275851\\\\\n",
       "\t328 & 2.5625852 & 1.8185672\\\\\n",
       "\t258 & 1.4720441 & 0.5118487\\\\\n",
       "\t71 & 2.9580561 & 1.3992631\\\\\n",
       "\t103 & 2.0772345 & 0.5875749\\\\\n",
       "\t368 & 1.0166533 & 0.7309967\\\\\n",
       "\t450 & 0.9267735 & 0.9471256\\\\\n",
       "\t376 & 0.2077355 & 0.9907566\\\\\n",
       "\t153 & 1.4840281 & 0.8761777\\\\\n",
       "\t478 & 2.7902806 & 1.1248269\\\\\n",
       "\t134 & 0.4713828 & 1.0070678\\\\\n",
       "\t60 & 0.9627255 & 0.8970635\\\\\n",
       "\t214 & 1.0106613 & 0.6736433\\\\\n",
       "\t102 & 0.7110621 & 0.8209460\\\\\n",
       "\t241 & 1.2143888 & 0.6604694\\\\\n",
       "\t66 & 1.2383567 & 0.8015349\\\\\n",
       "\t161 & 2.6344890 & 1.6030574\\\\\n",
       "\t133 & 2.4906814 & 1.4692744\\\\\n",
       "\\end{tabular}\n"
      ],
      "text/markdown": [
       "\n",
       "A data.frame: 20 × 2\n",
       "\n",
       "| <!--/--> | Xvar &lt;dbl&gt; | Yvar &lt;dbl&gt; |\n",
       "|---|---|---|\n",
       "| 305 | 2.9940080 | 1.7156475 |\n",
       "| 33 | 2.0412826 | 1.1690420 |\n",
       "| 95 | 0.8968136 | 0.6275851 |\n",
       "| 328 | 2.5625852 | 1.8185672 |\n",
       "| 258 | 1.4720441 | 0.5118487 |\n",
       "| 71 | 2.9580561 | 1.3992631 |\n",
       "| 103 | 2.0772345 | 0.5875749 |\n",
       "| 368 | 1.0166533 | 0.7309967 |\n",
       "| 450 | 0.9267735 | 0.9471256 |\n",
       "| 376 | 0.2077355 | 0.9907566 |\n",
       "| 153 | 1.4840281 | 0.8761777 |\n",
       "| 478 | 2.7902806 | 1.1248269 |\n",
       "| 134 | 0.4713828 | 1.0070678 |\n",
       "| 60 | 0.9627255 | 0.8970635 |\n",
       "| 214 | 1.0106613 | 0.6736433 |\n",
       "| 102 | 0.7110621 | 0.8209460 |\n",
       "| 241 | 1.2143888 | 0.6604694 |\n",
       "| 66 | 1.2383567 | 0.8015349 |\n",
       "| 161 | 2.6344890 | 1.6030574 |\n",
       "| 133 | 2.4906814 | 1.4692744 |\n",
       "\n"
      ],
      "text/plain": [
       "    Xvar      Yvar     \n",
       "305 2.9940080 1.7156475\n",
       "33  2.0412826 1.1690420\n",
       "95  0.8968136 0.6275851\n",
       "328 2.5625852 1.8185672\n",
       "258 1.4720441 0.5118487\n",
       "71  2.9580561 1.3992631\n",
       "103 2.0772345 0.5875749\n",
       "368 1.0166533 0.7309967\n",
       "450 0.9267735 0.9471256\n",
       "376 0.2077355 0.9907566\n",
       "153 1.4840281 0.8761777\n",
       "478 2.7902806 1.1248269\n",
       "134 0.4713828 1.0070678\n",
       "60  0.9627255 0.8970635\n",
       "214 1.0106613 0.6736433\n",
       "102 0.7110621 0.8209460\n",
       "241 1.2143888 0.6604694\n",
       "66  1.2383567 0.8015349\n",
       "161 2.6344890 1.6030574\n",
       "133 2.4906814 1.4692744"
      ]
     },
     "metadata": {},
     "output_type": "display_data"
    },
    {
     "data": {
      "text/html": [
       "0.977173605158623"
      ],
      "text/latex": [
       "0.977173605158623"
      ],
      "text/markdown": [
       "0.977173605158623"
      ],
      "text/plain": [
       "[1] 0.9771736"
      ]
     },
     "metadata": {},
     "output_type": "display_data"
    },
    {
     "data": {
      "text/html": [
       "0.0102508507068293"
      ],
      "text/latex": [
       "0.0102508507068293"
      ],
      "text/markdown": [
       "0.0102508507068293"
      ],
      "text/plain": [
       "[1] 0.01025085"
      ]
     },
     "metadata": {},
     "output_type": "display_data"
    }
   ],
   "source": [
    "# VIII. Sampling and bootstrapping \n",
    "\n",
    "trials <- sample.int(length(xy[,1]),20) # 20 random rows\n",
    "xy[trials,]\t\n",
    "\n",
    "# 20 bootstrap resamples\n",
    "\n",
    "trials <- sample.int(length(xy[,1]),20, replace=T) \n",
    "xy[trials,]\t\n",
    "\n",
    "# Estimate the standard error of the median of Yvar\n",
    "\n",
    "median(xy[,2]) \n",
    "\n",
    "# Median absolute deviation estimate of median s.e.\n",
    "\n",
    "mad(xy[,2]) / sqrt(500)\t"
   ]
  },
  {
   "cell_type": "code",
   "execution_count": 33,
   "metadata": {
    "id": "0Uhwm1bHBu1O",
    "vscode": {
     "languageId": "r"
    }
   },
   "outputs": [
    {
     "name": "stderr",
     "output_type": "stream",
     "text": [
      "Warning message:\n",
      "\"package 'boot' was built under R version 4.4.3\"\n"
     ]
    },
    {
     "data": {
      "text/plain": [
       "\n",
       "ORDINARY NONPARAMETRIC BOOTSTRAP\n",
       "\n",
       "\n",
       "Call:\n",
       "boot(data = xy[, 2], statistic = med, R = 1000)\n",
       "\n",
       "\n",
       "Bootstrap Statistics :\n",
       "     original        bias    std. error\n",
       "t1* 0.9771736 -1.271103e-05  0.01299467"
      ]
     },
     "metadata": {},
     "output_type": "display_data"
    },
    {
     "data": {
      "image/png": "[encoded data removed]",
      "text/plain": [
       "Plot with title \"Histogram of boot(xy[, 2], med, R = 1000)$t\""
      ]
     },
     "metadata": {
      "image/png": {
       "height": 600,
       "width": 840
      }
     },
     "output_type": "display_data"
    }
   ],
   "source": [
    "library(boot)  \t\t\t# The following function in a base-R library\n",
    "med <- function(x,index) median(x[index])\n",
    "\n",
    "# Read help(boot) to understand its output list structure\n",
    "\n",
    "boot(xy[,2], med, R=1000) # Bootstrap estimate of median s.e. \n",
    "hist(boot(xy[,2], med, R=1000)$t, breaks=50, \n",
    "     xlab='Bootstrap median of Yvar')"
   ]
  },
  {
   "cell_type": "markdown",
   "metadata": {
    "id": "MEMiVMZLBu1O"
   },
   "source": [
    "> **Exercise 3.**  Bootstrap resampling. Use bootstrap resampling (random sampling with replacement) to estimate uncertainties of a statistic. Create a univariate sample with a weird distribution … maybe sampling from a polynomial or nonlinear function over some interval.  First, calculate the median and a robust measure of its standard error: $1.48*(MAD$ where MAD is the median absolute deviation and the 1.48 scales it to the standard deviation for a Gaussian distribution.   Second, estimate the uncertainty of the median from a bootstrap resampling.  Give the standard error, 95% confidence interval, and plot a histogram of the bootstrap medians."
   ]
  },
  {
   "cell_type": "code",
   "execution_count": null,
   "metadata": {
    "vscode": {
     "languageId": "r"
    }
   },
   "outputs": [
    {
     "name": "stdout",
     "output_type": "stream",
     "text": [
      "Sample median: 1.12941 \n",
      "MAD: 1.560849 \n",
      "Robust standard error (1.4826*MAD/√n): 0.07305038 \n",
      "\n",
      "Bootstrap results:\n",
      "Bootstrap standard error: 0.07379568 \n",
      "95% Confidence Interval: 1.035358 1.309818 \n"
     ]
    },
    {
     "data": {
      "image/png": "[encoded data removed]",
      "text/plain": [
       "plot without title"
      ]
     },
     "metadata": {
      "image/png": {
       "height": 600,
       "width": 840
      }
     },
     "output_type": "display_data"
    },
    {
     "data": {
      "image/png": "[encoded data removed]",
      "text/plain": [
       "plot without title"
      ]
     },
     "metadata": {
      "image/png": {
       "height": 600,
       "width": 840
      }
     },
     "output_type": "display_data"
    }
   ],
   "source": [
    "# Exercise 3 soln\n",
    "\n",
    "library(ggplot2)\n",
    "library(boot)\n",
    "\n",
    "set.seed(42)\n",
    "\n",
    "x <- runif(1000, min=-2, max=2)\n",
    "y <- 0.5*x^3 + 2*x^2 + x + rnorm(1000, sd = 0.5)\n",
    "\n",
    "ggplot(data.frame(x,y), aes(y)) + geom_histogram(bins=30, fill=\"skyblue\", color=\"black\") + \n",
    "labs(title = \"Original non-Normal distribution\", x = \"Value\", y = \"Frequency\") + theme_minimal()\n",
    "\n",
    "sample_median <- median(y)\n",
    "mad_estimate <- mad(y)\n",
    "robust_se <-  1.48 * mad_estimate / sqrt(length(y))\n",
    "\n",
    "cat(\"Sample median:\", sample_median, \"\\n\")\n",
    "cat(\"MAD:\", mad_estimate, \"\\n\")\n",
    "cat(\"Robust standard error (1.48*MAD/√n):\", robust_se, \"\\n\")\n",
    "\n",
    "boot_median <- function(data, indices){\n",
    "    sample_data <- data[indices]\n",
    "    return(median(sample_data))\n",
    "}\n",
    "\n",
    "boot_results <- boot(y, boot_median, R=10000)\n",
    "\n",
    "bootstrap_se = sd(boot_results$t) # bootresults standard error\n",
    "bootstrap_ci = boot.ci(boot_results, type=\"perc\") # 95th percentile CI\n",
    "\n",
    "cat(\"\\nBootstrap results:\\n\")\n",
    "cat(\"Bootstrap standard error:\", bootstrap_se, \"\\n\")\n",
    "cat(\"95% Confidence Interval:\", bootstrap_ci$percent[4:5], \"\\n\")\n",
    "\n",
    "bootstrap_medians <- boot_results$t\n",
    "plot_data <- data.frame(Median = bootstrap_medians)\n",
    "\n",
    "ggplot(plot_data, aes(x = Median)) +\n",
    "  geom_histogram(bins = 30, fill = \"lightgreen\", color = \"black\", alpha = 0.7) +\n",
    "  geom_vline(xintercept = sample_median, color = \"red\", linetype = \"dashed\") +\n",
    "  geom_vline(xintercept = bootstrap_ci$percent[4:5], color = \"blue\", linetype = \"dotted\") +\n",
    "  labs(title = \"Bootstrap Distribution of Medians\",\n",
    "       subtitle = paste(\"Based on\", length(bootstrap_medians), \"resamples\"),\n",
    "       x = \"Median\", y = \"Frequency\") +\n",
    "  annotate(\"text\", x = Inf, y = Inf, \n",
    "           label = paste(\"95% CI: [\", round(bootstrap_ci$percent[4], 3), \n",
    "                          \", \", round(bootstrap_ci$percent[5], 3), \"]\"),\n",
    "           hjust = 1.1, vjust = 1.5, color = \"blue\") +\n",
    "  theme_minimal()"
   ]
  },
  {
   "cell_type": "code",
   "execution_count": 34,
   "metadata": {
    "id": "bP5QyQIaBu1O",
    "vscode": {
     "languageId": "r"
    }
   },
   "outputs": [
    {
     "data": {
      "image/png": "[encoded data removed]",
      "text/plain": [
       "plot without title"
      ]
     },
     "metadata": {
      "image/png": {
       "height": 600,
       "width": 840
      }
     },
     "output_type": "display_data"
    }
   ],
   "source": [
    "# IX. Bivariate plots and correlation tests\n",
    "\n",
    "# Scatterplot. See help(points) for symbol shapes.\n",
    "par(mfrow=c(1,2))\n",
    "plot(xy, pch=20, cex=0.5)\t \n",
    "plot(log10(xy), pch=20, cex=0.5, xlab='log(Xvar)', ylab='log(Yvar)')"
   ]
  },
  {
   "cell_type": "code",
   "execution_count": 35,
   "metadata": {
    "id": "X2gfTmdfBu1P",
    "vscode": {
     "languageId": "r"
    }
   },
   "outputs": [
    {
     "data": {
      "text/html": [
       "167"
      ],
      "text/latex": [
       "167"
      ],
      "text/markdown": [
       "167"
      ],
      "text/plain": [
       "[1] 167"
      ]
     },
     "metadata": {},
     "output_type": "display_data"
    },
    {
     "data": {
      "text/plain": [
       "\n",
       "\tPearson's product-moment correlation\n",
       "\n",
       "data:  x[x > 2] and y[x > 2]\n",
       "t = 5.4633, df = 165, p-value = 1.695e-07\n",
       "alternative hypothesis: true correlation is not equal to 0\n",
       "95 percent confidence interval:\n",
       " 0.2546585 0.5127717\n",
       "sample estimates:\n",
       "      cor \n",
       "0.3913858 \n"
      ]
     },
     "metadata": {},
     "output_type": "display_data"
    },
    {
     "data": {
      "text/plain": [
       "\n",
       "\tKendall's rank correlation tau\n",
       "\n",
       "data:  x[x > 2] and y[x > 2]\n",
       "z = 5.1525, p-value = 2.571e-07\n",
       "alternative hypothesis: true tau is not equal to 0\n",
       "sample estimates:\n",
       "      tau \n",
       "0.2685953 \n"
      ]
     },
     "metadata": {},
     "output_type": "display_data"
    }
   ],
   "source": [
    "length(x[x>2])\t\t# State length of a vector.  Use `dim' for an array or data.frame.\n",
    "# Parametric hypothesis test for bivariate correlation \n",
    "cor.test(x[x>2],y[x>2], method='pearson')\t\n",
    "# Nonparametric hypothesis test for bivariate correlation\n",
    "cor.test(x[x>2],y[x>2], method='kendall')\t"
   ]
  },
  {
   "cell_type": "markdown",
   "metadata": {
    "id": "I-vUcMm8Bu1P"
   },
   "source": [
    "# X. R for astronomical data analysis\n",
    "\n",
    "R was designed in the 1990s for interactive data exploration and analysis by a single user using a single CPU core with a graphics window.  The compiler was not optimized for speed.  However, today R has much improved compilers and considerable ability to use a multi-core environment (including GPUs).  It also was not viewed at a language appropriate for pipeline analysis of large datasets such as those emerging from astronomical satellites or observatories.  This criticism is valid in the sense that it does not have a large and growing software library of specialized code for astronomical data, such as the ~2000 CRAN packages in the _Bioconductor_ toolbox for genomics or the diverse packages in the _astropy_ project in Python.  \n",
    "\n",
    "However, R can be operated in batch mode, running scripts with the _Rscript_ (or with more flexibility, CRAN package _littler_) command line interface from the operating system prompt.  These commands can be embedded in parallelized scripts for supercomputers using PBS or related scripts.  Using Rscript, we at Penn State have reanalized the full dataset of a major NASA satellite survey (4-year lightcurves for ~150,000 stars observed by Kepler) and ~2 million lightcurves from a ground-based observatory.  The motivation for this approach is that the instrument-specific characteristics of the data reduction had already been performed in Python (Levels 2 and 3  data products), and the data were ready for advanced statistical analysis using CRAN packages.  In our case, sophisticated packages originally designed for econometrics play a central role, along with a Fortran code we wrote for a computationally intensive step.  R code for astronomical pipelines can be remarkably brief if one effectively uses the tens-of-thousands of advanced functions available in CRAN.\n",
    "\n",
    "The many statistical functionalities of R can also be run directly from Python and several other languages through bi-language interfaces.  R scripts can be embedded in Python using [rpy2](https://pypi.org/project/rpy2/) and, conversely, Python programs can be embedded in R scripts using CRAN package [reticulate](https://cran.r-project.org/web/packages/reticulate/index.html) or several other options.\n"
   ]
  },
  {
   "cell_type": "markdown",
   "metadata": {
    "id": "8Dbz7QYABu1P"
   },
   "source": [
    "# XI.  Resources for further study of R\n",
    "\n",
    "We give here a miscellaneous collection of commands and resources useful for learning more about R as a programming language.  \n",
    "\n",
    "* There are >700 books with 'R' in the title, most presenting both methodology and code tutorials.  A new book on R is published every ~10 days.  Two are devoted specifically to astronomy:\n",
    "  * [_Modern Statistical Methods for Astronomy with R Applications_](https://doi.org/10.1017/CBO9781139015653), 2012 E. D. Feigelson & G. J. Babu, Cambridge Univ Press\n",
    "  * [_Bayesian Models for Astrophysical Data Using R, JAGS, Python, and Stan_](https://doi.org/10.1017/CBO9781316459515), 2018, J. M. Hilbe, R. S. de Souza & E. E. O. Ishida, Cambridge Univ Press\n",
    "\n",
    "* Two high-quality introductions to R:\n",
    "  * From the R Core Team: https://cran.r-project.org/doc/manuals/R-intro.html\n",
    "  * From Carnegie-Mellon University: http://www.stat.cmu.edu/~cshalizi/statcomp/14/\n",
    "\n",
    "* There are vast informal online learning resources about R programming: \n",
    "  *  [R-bloggers](https://www.r-bloggers.com) aggregates entries from ~1100 blogs.  \n",
    "  * [Stack Overflow] has ~400,000 questions and answers about R programming.\n",
    "  * CRAN packages are often described in two open-access journals: Journal of Statistical Software and The R Journal.  These articles also appear as _vignettes_ within the R environment.  \n",
    "\n"
   ]
  },
  {
   "cell_type": "code",
   "execution_count": 18,
   "metadata": {
    "id": "6VeAHqTxBu1Q",
    "vscode": {
     "languageId": "r"
    }
   },
   "outputs": [
    {
     "data": {
      "text/html": [
       "<style>\n",
       ".list-inline {list-style: none; margin:0; padding: 0}\n",
       ".list-inline>li {display: inline-block}\n",
       ".list-inline>li:not(:last-child)::after {content: \"\\00b7\"; padding: 0 .5ex}\n",
       "</style>\n",
       "<ol class=list-inline><li>'a'</li><li>'ang'</li><li>'b'</li><li>'c'</li><li>'dist'</li><li>'distGR'</li><li>'E.H0'</li><li>'H_0'</li><li>'lum.dist'</li><li>'Omega_Lambda'</li><li>'Omega_m'</li><li>'quadsolver'</li><li>'speed.light'</li><li>'sqrt_'</li><li>'x'</li><li>'y'</li><li>'z'</li></ol>\n"
      ],
      "text/latex": [
       "\\begin{enumerate*}\n",
       "\\item 'a'\n",
       "\\item 'ang'\n",
       "\\item 'b'\n",
       "\\item 'c'\n",
       "\\item 'dist'\n",
       "\\item 'distGR'\n",
       "\\item 'E.H0'\n",
       "\\item 'H\\_0'\n",
       "\\item 'lum.dist'\n",
       "\\item 'Omega\\_Lambda'\n",
       "\\item 'Omega\\_m'\n",
       "\\item 'quadsolver'\n",
       "\\item 'speed.light'\n",
       "\\item 'sqrt\\_'\n",
       "\\item 'x'\n",
       "\\item 'y'\n",
       "\\item 'z'\n",
       "\\end{enumerate*}\n"
      ],
      "text/markdown": [
       "1. 'a'\n",
       "2. 'ang'\n",
       "3. 'b'\n",
       "4. 'c'\n",
       "5. 'dist'\n",
       "6. 'distGR'\n",
       "7. 'E.H0'\n",
       "8. 'H_0'\n",
       "9. 'lum.dist'\n",
       "10. 'Omega_Lambda'\n",
       "11. 'Omega_m'\n",
       "12. 'quadsolver'\n",
       "13. 'speed.light'\n",
       "14. 'sqrt_'\n",
       "15. 'x'\n",
       "16. 'y'\n",
       "17. 'z'\n",
       "\n",
       "\n"
      ],
      "text/plain": [
       " [1] \"a\"            \"ang\"          \"b\"            \"c\"            \"dist\"        \n",
       " [6] \"distGR\"       \"E.H0\"         \"H_0\"          \"lum.dist\"     \"Omega_Lambda\"\n",
       "[11] \"Omega_m\"      \"quadsolver\"   \"speed.light\"  \"sqrt_\"        \"x\"           \n",
       "[16] \"y\"            \"z\"           "
      ]
     },
     "metadata": {},
     "output_type": "display_data"
    },
    {
     "name": "stdout",
     "output_type": "stream",
     "text": [
      "Do nothing Num =  1 \n",
      " Num =  2 \n",
      " Num =  3 \n",
      " Num =  4 \n",
      " Num =  5 \n",
      " Num =  6 \n",
      " Num =  7 \n",
      " Num =  8 \n",
      " Num =  9 \n",
      " Num =  10 \n"
     ]
    },
    {
     "data": {
      "text/html": [
       "<style>\n",
       ".dl-inline {width: auto; margin:0; padding: 0}\n",
       ".dl-inline>dt, .dl-inline>dd {float: none; width: auto; display: inline-block}\n",
       ".dl-inline>dt::after {content: \":\\0020\"; padding-right: .5ex}\n",
       ".dl-inline>dt:not(:first-of-type) {padding-left: .5ex}\n",
       "</style><dl class=dl-inline><dt>sysname</dt><dd>'Windows'</dd><dt>release</dt><dd>'10 x64'</dd><dt>version</dt><dd>'build 22635'</dd><dt>nodename</dt><dd>'DESKTOP-TIMEB17'</dd><dt>machine</dt><dd>'x86-64'</dd><dt>login</dt><dd>'Time27.B1729'</dd><dt>user</dt><dd>'Time27.B1729'</dd><dt>effective_user</dt><dd>'Time27.B1729'</dd></dl>\n"
      ],
      "text/latex": [
       "\\begin{description*}\n",
       "\\item[sysname] 'Windows'\n",
       "\\item[release] '10 x64'\n",
       "\\item[version] 'build 22635'\n",
       "\\item[nodename] 'DESKTOP-TIMEB17'\n",
       "\\item[machine] 'x86-64'\n",
       "\\item[login] 'Time27.B1729'\n",
       "\\item[user] 'Time27.B1729'\n",
       "\\item[effective\\textbackslash{}\\_user] 'Time27.B1729'\n",
       "\\end{description*}\n"
      ],
      "text/markdown": [
       "sysname\n",
       ":   'Windows'release\n",
       ":   '10 x64'version\n",
       ":   'build 22635'nodename\n",
       ":   'DESKTOP-TIMEB17'machine\n",
       ":   'x86-64'login\n",
       ":   'Time27.B1729'user\n",
       ":   'Time27.B1729'effective_user\n",
       ":   'Time27.B1729'\n",
       "\n"
      ],
      "text/plain": [
       "          sysname           release           version          nodename \n",
       "        \"Windows\"          \"10 x64\"     \"build 22635\" \"DESKTOP-TIMEB17\" \n",
       "          machine             login              user    effective_user \n",
       "         \"x86-64\"    \"Time27.B1729\"    \"Time27.B1729\"    \"Time27.B1729\" "
      ]
     },
     "metadata": {},
     "output_type": "display_data"
    },
    {
     "name": "stderr",
     "output_type": "stream",
     "text": [
      "Warning message in system(\"ls -l\"):\n",
      "\"'ls' not found\"\n"
     ]
    },
    {
     "data": {
      "text/html": [
       "127"
      ],
      "text/latex": [
       "127"
      ],
      "text/markdown": [
       "127"
      ],
      "text/plain": [
       "[1] 127"
      ]
     },
     "metadata": {},
     "output_type": "display_data"
    },
    {
     "data": {
      "text/plain": [
       "   user  system elapsed \n",
       "   0.01    0.00    0.14 "
      ]
     },
     "metadata": {},
     "output_type": "display_data"
    },
    {
     "data": {
      "text/html": [
       "'NGC1068.J.FITS'"
      ],
      "text/latex": [
       "'NGC1068.J.FITS'"
      ],
      "text/markdown": [
       "'NGC1068.J.FITS'"
      ],
      "text/plain": [
       "[1] \"NGC1068.J.FITS\""
      ]
     },
     "metadata": {},
     "output_type": "display_data"
    },
    {
     "name": "stdout",
     "output_type": "stream",
     "text": [
      "package 'FITSio' successfully unpacked and MD5 sums checked\n",
      "\n",
      "The downloaded binary packages are in\n",
      "\tC:\\Users\\Time27.B1729\\AppData\\Local\\Temp\\RtmpqgKWHE\\downloaded_packages\n"
     ]
    },
    {
     "name": "stderr",
     "output_type": "stream",
     "text": [
      "Warning message:\n",
      "\"package 'astrolibR' is not available for this version of R\n",
      "\n",
      "A version of this package for your version of R might be available elsewhere,\n",
      "see the ideas at\n",
      "https://cran.r-project.org/doc/manuals/r-patched/R-admin.html#Installing-packages\"\n"
     ]
    },
    {
     "ename": "ERROR",
     "evalue": "Error in library(astrolibR): there is no package called 'astrolibR'\n",
     "output_type": "error",
     "traceback": [
      "Error in library(astrolibR): there is no package called 'astrolibR'\nTraceback:\n",
      "1. stop(packageNotFoundError(package, lib.loc, sys.call()))"
     ]
    }
   ],
   "source": [
    "# A list of the ~30 important CRAN packages embedded in the base-R environment\n",
    "library()\n",
    "\n",
    "# A full list of ~400 functions in R's `base' package\n",
    "library(help = \"base\")\n",
    "\n",
    "# Statistics in base R (~400 functions, tens-of-thousands more in CRAN and elsewhere in R)\n",
    "library(help='stats')\n",
    "\n",
    "# List current contents of your session environment\n",
    "ls()\n",
    "\n",
    "# Programming utilities including:\n",
    "#    Use `source' to bring in external R scripts\n",
    "#    Use `edit' to edit an R object\n",
    "#    Use 'environment' to segregate a collection of objects\n",
    "#    Functions `debug', `trace' and `browser' assist with code testing\n",
    "#    Function 'process.events' allows low-level handling of R commands\n",
    "library(help = 'utils')\n",
    "\n",
    "# Loops:  for( i in 1:100) { ... }\n",
    "# Program flow control:  if/else, ifelse, switch, while, repeat, next, break, stop\n",
    "foo <- 2\n",
    "if(foo == 1) cat('Hello world!') else cat('Do nothing')\n",
    "for(i in 1:10) { cat(' Num = ', i, '\\n') }\n",
    "\n",
    "# Graphics and devices in base R (other packages in CRAN)\n",
    "library(help='graphics')\n",
    "library(help='grDevices')\n",
    "\n",
    "# Parallel computing control in base R \n",
    "# CRAN has dozens of other high performance computing packages\n",
    "library(help='parallel')\n",
    "\n",
    "# Run an R script residing on disk\n",
    "help(source)\n",
    "\n",
    "# Save R objects (or your full environment) onto disk\n",
    "help(save) ; help(load)\n",
    "\n",
    "# Save or load history of R commands\n",
    "help(savehistory)  ;  help(loadhistory)\n",
    "\n",
    "# Connections, pipes, sockets, URLs, clipboard, compression, etc.\n",
    "help(connections)\n",
    " \n",
    "# Interact with host computer \n",
    "Sys.info()\n",
    "system('ls -l')\n",
    "system.time(fft(seq(0,1,length.out=1000000)))\t# A million fast Fourier transforms\n",
    "\n",
    "# Construct composite strings using 'paste'\n",
    "# Extract postions of a string using `substring'\n",
    "band_ir <- 'J'\n",
    "paste('NGC1068',band_ir,'FITS', sep='.')\n",
    "\n",
    "# FITS format reader/writer\n",
    "install.packages('FITSio') ; library(FITSio)\n",
    "\n",
    "# IDL Astro Library translated into R\n",
    "install.packages('astrolibR') ; library(astrolibR)\n",
    "\n",
    "# R/CRAN functions are public domain and can be wrapped from Python\n",
    "# programs using package rpy2.  Example:\n",
    "### pip install rpy2\n",
    "### import rpy2\n",
    "### import rpy2.robjects as robjects\n",
    "### R = robjects.r\n",
    "### ranGauss = R.rnorm(100)\n",
    "### print ranGauss\n",
    "\n",
    "# Python code can be wrapped into R using CRAN package 'reticulate' (among others)\n",
    "# R has similar interfaces to many other languages."
   ]
  },
  {
   "cell_type": "code",
   "execution_count": null,
   "metadata": {
    "vscode": {
     "languageId": "r"
    }
   },
   "outputs": [],
   "source": []
  }
 ],
 "metadata": {
  "colab": {
   "provenance": []
  },
  "kernelspec": {
   "display_name": "R",
   "language": "R",
   "name": "ir"
  },
  "language_info": {
   "codemirror_mode": "r",
   "file_extension": ".r",
   "mimetype": "text/x-r-source",
   "name": "R",
   "pygments_lexer": "r",
   "version": "4.4.1"
  }
 },
 "nbformat": 4,
 "nbformat_minor": 1
}
